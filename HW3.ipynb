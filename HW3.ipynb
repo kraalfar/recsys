{
 "cells": [
  {
   "cell_type": "code",
   "execution_count": null,
   "metadata": {
    "colab": {
     "base_uri": "https://localhost:8080/"
    },
    "id": "FQS1nMlsGlNS",
    "outputId": "a8b9d405-1439-493c-d9f3-40a0eeb717cb"
   },
   "outputs": [
    {
     "name": "stdout",
     "output_type": "stream",
     "text": [
      "Collecting lightfm\n",
      "\u001b[?25l  Downloading https://files.pythonhosted.org/packages/e9/8e/5485ac5a8616abe1c673d1e033e2f232b4319ab95424b42499fabff2257f/lightfm-1.15.tar.gz (302kB)\n",
      "\r",
      "\u001b[K     |█                               | 10kB 24.9MB/s eta 0:00:01\r",
      "\u001b[K     |██▏                             | 20kB 15.9MB/s eta 0:00:01\r",
      "\u001b[K     |███▎                            | 30kB 13.4MB/s eta 0:00:01\r",
      "\u001b[K     |████▍                           | 40kB 12.5MB/s eta 0:00:01\r",
      "\u001b[K     |█████▍                          | 51kB 8.7MB/s eta 0:00:01\r",
      "\u001b[K     |██████▌                         | 61kB 9.0MB/s eta 0:00:01\r",
      "\u001b[K     |███████▋                        | 71kB 9.3MB/s eta 0:00:01\r",
      "\u001b[K     |████████▊                       | 81kB 10.3MB/s eta 0:00:01\r",
      "\u001b[K     |█████████▊                      | 92kB 9.5MB/s eta 0:00:01\r",
      "\u001b[K     |██████████▉                     | 102kB 8.4MB/s eta 0:00:01\r",
      "\u001b[K     |████████████                    | 112kB 8.4MB/s eta 0:00:01\r",
      "\u001b[K     |█████████████                   | 122kB 8.4MB/s eta 0:00:01\r",
      "\u001b[K     |██████████████                  | 133kB 8.4MB/s eta 0:00:01\r",
      "\u001b[K     |███████████████▏                | 143kB 8.4MB/s eta 0:00:01\r",
      "\u001b[K     |████████████████▎               | 153kB 8.4MB/s eta 0:00:01\r",
      "\u001b[K     |█████████████████▍              | 163kB 8.4MB/s eta 0:00:01\r",
      "\u001b[K     |██████████████████▍             | 174kB 8.4MB/s eta 0:00:01\r",
      "\u001b[K     |███████████████████▌            | 184kB 8.4MB/s eta 0:00:01\r",
      "\u001b[K     |████████████████████▋           | 194kB 8.4MB/s eta 0:00:01\r",
      "\u001b[K     |█████████████████████▊          | 204kB 8.4MB/s eta 0:00:01\r",
      "\u001b[K     |██████████████████████▊         | 215kB 8.4MB/s eta 0:00:01\r",
      "\u001b[K     |███████████████████████▉        | 225kB 8.4MB/s eta 0:00:01\r",
      "\u001b[K     |█████████████████████████       | 235kB 8.4MB/s eta 0:00:01\r",
      "\u001b[K     |██████████████████████████      | 245kB 8.4MB/s eta 0:00:01\r",
      "\u001b[K     |███████████████████████████     | 256kB 8.4MB/s eta 0:00:01\r",
      "\u001b[K     |████████████████████████████▏   | 266kB 8.4MB/s eta 0:00:01\r",
      "\u001b[K     |█████████████████████████████▎  | 276kB 8.4MB/s eta 0:00:01\r",
      "\u001b[K     |██████████████████████████████▍ | 286kB 8.4MB/s eta 0:00:01\r",
      "\u001b[K     |███████████████████████████████▍| 296kB 8.4MB/s eta 0:00:01\r",
      "\u001b[K     |████████████████████████████████| 307kB 8.4MB/s \n",
      "\u001b[?25hRequirement already satisfied: numpy in /usr/local/lib/python3.6/dist-packages (from lightfm) (1.18.5)\n",
      "Requirement already satisfied: scipy>=0.17.0 in /usr/local/lib/python3.6/dist-packages (from lightfm) (1.4.1)\n",
      "Requirement already satisfied: requests in /usr/local/lib/python3.6/dist-packages (from lightfm) (2.23.0)\n",
      "Requirement already satisfied: urllib3!=1.25.0,!=1.25.1,<1.26,>=1.21.1 in /usr/local/lib/python3.6/dist-packages (from requests->lightfm) (1.24.3)\n",
      "Requirement already satisfied: chardet<4,>=3.0.2 in /usr/local/lib/python3.6/dist-packages (from requests->lightfm) (3.0.4)\n",
      "Requirement already satisfied: certifi>=2017.4.17 in /usr/local/lib/python3.6/dist-packages (from requests->lightfm) (2020.11.8)\n",
      "Requirement already satisfied: idna<3,>=2.5 in /usr/local/lib/python3.6/dist-packages (from requests->lightfm) (2.10)\n",
      "Building wheels for collected packages: lightfm\n",
      "  Building wheel for lightfm (setup.py) ... \u001b[?25l\u001b[?25hdone\n",
      "  Created wheel for lightfm: filename=lightfm-1.15-cp36-cp36m-linux_x86_64.whl size=707620 sha256=710b7b8884d550f74b08ab21018cec2427c6b21958f6c4261d0504b7c12af9d5\n",
      "  Stored in directory: /root/.cache/pip/wheels/eb/bb/ac/188385a5da6627956be5d9663928483b36da576149ab5b8f79\n",
      "Successfully built lightfm\n",
      "Installing collected packages: lightfm\n",
      "Successfully installed lightfm-1.15\n"
     ]
    }
   ],
   "source": [
    "!pip install lightfm"
   ]
  },
  {
   "cell_type": "code",
   "execution_count": null,
   "metadata": {
    "id": "4rRNTaonGfJh"
   },
   "outputs": [],
   "source": [
    "import pandas as pd\n",
    "import numpy as np\n",
    "import scipy.sparse as sp\n",
    "from lightfm import LightFM\n",
    "from lightfm.evaluation import auc_score"
   ]
  },
  {
   "cell_type": "code",
   "execution_count": null,
   "metadata": {
    "id": "-g7GaS0VGfJh"
   },
   "outputs": [],
   "source": [
    "from lightfm.datasets import fetch_movielens"
   ]
  },
  {
   "cell_type": "code",
   "execution_count": null,
   "metadata": {
    "id": "cSa0DDQ1GfJh"
   },
   "outputs": [],
   "source": [
    "from tqdm.notebook import tqdm"
   ]
  },
  {
   "cell_type": "code",
   "execution_count": null,
   "metadata": {
    "id": "Wq9oPYduGfJh"
   },
   "outputs": [],
   "source": [
    "from sklearn.model_selection import train_test_split\n",
    "from sklearn.metrics import roc_auc_score"
   ]
  },
  {
   "cell_type": "code",
   "execution_count": null,
   "metadata": {
    "id": "N9IpwxpVGfJh"
   },
   "outputs": [],
   "source": [
    "import torch\n",
    "import torch.nn as nn\n",
    "import torch.optim as optim\n",
    "import torch.utils.data\n",
    "import torchvision.datasets\n",
    "import torchvision.transforms as transforms\n",
    "from torch.autograd import Variable\n",
    "import torch.nn.functional as F"
   ]
  },
  {
   "cell_type": "code",
   "execution_count": null,
   "metadata": {
    "id": "EA_9Y3twHo2S"
   },
   "outputs": [],
   "source": [
    "from itertools import chain"
   ]
  },
  {
   "cell_type": "code",
   "execution_count": null,
   "metadata": {
    "id": "liTcEZKKGqC_"
   },
   "outputs": [],
   "source": [
    "!wget http://files.grouplens.org/datasets/movielens/ml-1m.zip\n",
    "!unzip ml-1m.zip"
   ]
  },
  {
   "cell_type": "code",
   "execution_count": null,
   "metadata": {
    "id": "y1TaKRmrGfJh"
   },
   "outputs": [],
   "source": [
    "device = torch.device(\"cuda\" if torch.cuda.is_available() else \"cpu\")"
   ]
  },
  {
   "cell_type": "markdown",
   "metadata": {
    "id": "nY5Ml1VtGfJh"
   },
   "source": [
    "# data"
   ]
  },
  {
   "cell_type": "markdown",
   "metadata": {},
   "source": [
    "Датасет взял movielens потому что он использовался и в статье про NCF и в первом задание на BPR/WARP"
   ]
  },
  {
   "cell_type": "code",
   "execution_count": null,
   "metadata": {
    "id": "epG_wmSDGfJh"
   },
   "outputs": [],
   "source": [
    "ratings = pd.read_csv('ml-1m/ratings.dat', delimiter='::', header=None, \n",
    "            names=['user_id', 'movie_id', 'rating', 'timestamp'], \n",
    "            usecols=['user_id', 'movie_id', 'rating'], engine='python')"
   ]
  },
  {
   "cell_type": "code",
   "execution_count": null,
   "metadata": {
    "id": "8bypLsVrGfJh"
   },
   "outputs": [],
   "source": [
    "movie_info = pd.read_csv('ml-1m/movies.dat', delimiter='::', header=None, \n",
    "        names=['movie_id', 'name', 'category'], engine='python')"
   ]
  },
  {
   "cell_type": "markdown",
   "metadata": {},
   "source": [
    "меняю id, так как исходно id не идут подряд"
   ]
  },
  {
   "cell_type": "code",
   "execution_count": null,
   "metadata": {
    "id": "5HLwbv5pGfJh"
   },
   "outputs": [],
   "source": [
    "uid2userid = np.unique(ratings[\"user_id\"])\n",
    "userid2uid = {i: j for (j, i) in enumerate(uid2userid)}"
   ]
  },
  {
   "cell_type": "code",
   "execution_count": null,
   "metadata": {
    "id": "UsP--3F8GfJh"
   },
   "outputs": [],
   "source": [
    "mid2movieid = np.unique(ratings[\"movie_id\"])\n",
    "movieid2mid = {i: j for (j, i) in enumerate(mid2movieid)}"
   ]
  },
  {
   "cell_type": "code",
   "execution_count": null,
   "metadata": {
    "id": "A8NwG07tGfJh"
   },
   "outputs": [],
   "source": [
    "train, test = train_test_split(ratings, test_size=0.2)"
   ]
  },
  {
   "cell_type": "code",
   "execution_count": null,
   "metadata": {
    "id": "lMpL5cIUGfJh"
   },
   "outputs": [],
   "source": [
    "train_users = [userid2uid[i] for i in train['user_id']]\n",
    "train_movies = [movieid2mid[i] for i in train['movie_id']]"
   ]
  },
  {
   "cell_type": "code",
   "execution_count": null,
   "metadata": {
    "id": "5389LlkuGfJh",
    "scrolled": true
   },
   "outputs": [],
   "source": [
    "explicit = np.vstack((train_users, train_movies, train[\"rating\"].to_numpy())).T"
   ]
  },
  {
   "cell_type": "code",
   "execution_count": null,
   "metadata": {
    "id": "oFnO2eq4WkMo"
   },
   "outputs": [],
   "source": [
    "user_item = sp.coo_matrix((train[\"rating\"], (train_users, train_movies)))\n",
    "user_item_explicit = user_item.tocsr()"
   ]
  },
  {
   "cell_type": "code",
   "execution_count": null,
   "metadata": {
    "id": "0upfxDyJGfJh"
   },
   "outputs": [],
   "source": [
    "user_count, movie_count = len(uid2userid), len(mid2movieid)"
   ]
  },
  {
   "cell_type": "code",
   "execution_count": null,
   "metadata": {
    "id": "Yx2RJ3BKGfJh"
   },
   "outputs": [],
   "source": [
    "implicit_train = explicit[explicit[:,2] >= 4][:, :2]\n",
    "# implicit_train[:,2] = 1"
   ]
  },
  {
   "cell_type": "code",
   "execution_count": null,
   "metadata": {
    "id": "TcjBRecgGfJh"
   },
   "outputs": [],
   "source": [
    "train_data = sp.coo_matrix((np.ones_like(implicit_train[:,0]), (implicit_train[:,0], implicit_train[:,1])))\n",
    "train_data = train_data.tocsr()"
   ]
  },
  {
   "cell_type": "code",
   "execution_count": null,
   "metadata": {
    "id": "pjUMP4JGGfJh"
   },
   "outputs": [],
   "source": [
    "get_similars = lambda item_id, model : [movie_info[movie_info[\"movie_id\"] == mid2movieid[i]][\"name\"].to_string()\n",
    "                                        for i in model.similar_items(movieid2mid[item_id])]"
   ]
  },
  {
   "cell_type": "code",
   "execution_count": null,
   "metadata": {
    "id": "-3CklhtvGfJi"
   },
   "outputs": [],
   "source": [
    "get_recommendations = lambda user_id, model, mat, col=\"name\" : [movie_info[movie_info[\"movie_id\"] == mid2movieid[i]][col].to_string() \n",
    "                                                    for i in model.recommend(userid2uid[user_id], mat)]"
   ]
  },
  {
   "cell_type": "code",
   "execution_count": null,
   "metadata": {
    "id": "GxYddgjLGfJi"
   },
   "outputs": [],
   "source": [
    "get_user_history = lambda user_id, implicit_ratings : [movie_info[movie_info[\"movie_id\"] == mid2movieid[x]][\"name\"].to_string() \n",
    "                                            for x in implicit_ratings[implicit_ratings[:,0] == userid2uid[user_id]][:,1]]"
   ]
  },
  {
   "cell_type": "code",
   "execution_count": null,
   "metadata": {
    "id": "XPV-ATYpGfJi"
   },
   "outputs": [],
   "source": [
    "test_users =  [userid2uid[i] for i in test['user_id']]\n",
    "test_movies = [movieid2mid[i] for i in test['movie_id']]\n",
    "explicit_test =  np.vstack((test_users, test_movies, test[\"rating\"].to_numpy())).T\n",
    "labels = np.zeros(len(explicit_test), dtype=int)\n",
    "labels[explicit_test[:,2] >=4] = 1\n",
    "implicit_test = np.hstack((explicit_test[:, :2], labels.reshape(-1, 1)))"
   ]
  },
  {
   "cell_type": "code",
   "execution_count": null,
   "metadata": {
    "id": "nJbj6bpxGfJi"
   },
   "outputs": [],
   "source": [
    "test_data = sp.coo_matrix((np.ones_like(implicit_test[:,0]), (implicit_test[:,0], implicit_test[:,1])))\n",
    "test_data = test_data.tocsr()"
   ]
  },
  {
   "cell_type": "markdown",
   "metadata": {},
   "source": [
    "история юзера, кому будут дававться рекомендации"
   ]
  },
  {
   "cell_type": "code",
   "execution_count": null,
   "metadata": {
    "colab": {
     "base_uri": "https://localhost:8080/"
    },
    "id": "vvwAw1S6VOOy",
    "outputId": "f3790b7b-0c06-403d-f25e-a7eb81fd51fa"
   },
   "outputs": [
    {
     "data": {
      "text/plain": [
       "['1183    Good, The Bad and The Ugly, The (1966)',\n",
       " '3633    Mad Max (1979)',\n",
       " '1180    Raiders of the Lost Ark (1981)',\n",
       " '1959    Saving Private Ryan (1998)',\n",
       " '1220    Terminator, The (1984)',\n",
       " '1196    Alien (1979)',\n",
       " '1885    Rocky (1976)',\n",
       " '1081    E.T. the Extra-Terrestrial (1982)',\n",
       " '3399    Hustler, The (1961)',\n",
       " '2878    Goldfinger (1964)',\n",
       " '2882    Fistful of Dollars, A (1964)',\n",
       " '476    Jurassic Park (1993)',\n",
       " '3349    Thelma & Louise (1991)',\n",
       " '1366    Jaws (1975)',\n",
       " '1023    Die Hard (1988)',\n",
       " '2297    King Kong (1933)']"
      ]
     },
     "execution_count": 25,
     "metadata": {
      "tags": []
     },
     "output_type": "execute_result"
    }
   ],
   "source": [
    "get_user_history(4, implicit_train)"
   ]
  },
  {
   "cell_type": "code",
   "execution_count": null,
   "metadata": {
    "id": "1lZwZ5KTAtB5"
   },
   "outputs": [],
   "source": [
    "def test_model(model):\n",
    "    print(\"SIMILARS\")\n",
    "    res = get_similars(1, model)\n",
    "    for r in get_similars(1, model):\n",
    "        print(r.split(maxsplit=1)[1])\n",
    "    \n",
    "    print('RECOMENDATIONS')\n",
    "    res1 = get_recommendations(4, model, user_item_explicit, col=\"category\")\n",
    "    res2 = get_recommendations(4, model, user_item_explicit, col=\"name\")\n",
    "    for r1, r2 in zip(res2, res1):\n",
    "        print(f\"{r1.split(maxsplit=1)[1]:50} {r2.split()[1]}\")"
   ]
  },
  {
   "cell_type": "markdown",
   "metadata": {
    "id": "2gxG8atQGfJi"
   },
   "source": [
    "# WARP"
   ]
  },
  {
   "cell_type": "code",
   "execution_count": null,
   "metadata": {
    "id": "4-OJG-vEGfJi"
   },
   "outputs": [],
   "source": [
    "alpha = 1e-03\n",
    "epochs = 40\n",
    "num_components = 64\n",
    "lr = 0.05"
   ]
  },
  {
   "cell_type": "code",
   "execution_count": null,
   "metadata": {
    "id": "1xkeEhlkGfJi"
   },
   "outputs": [],
   "source": [
    "warp_model = LightFM(no_components=num_components,\n",
    "                    learning_rate = lr,\n",
    "                    loss='warp',\n",
    "                    learning_schedule='adagrad',\n",
    "                    max_sampled=100,\n",
    "                    user_alpha=alpha,\n",
    "                    item_alpha=alpha)"
   ]
  },
  {
   "cell_type": "code",
   "execution_count": null,
   "metadata": {
    "colab": {
     "base_uri": "https://localhost:8080/"
    },
    "id": "3Ab0IW3iGfJi",
    "outputId": "44749bbb-0c21-46eb-b0cd-4984ba2297bf"
   },
   "outputs": [
    {
     "name": "stdout",
     "output_type": "stream",
     "text": [
      "Epoch 0\n",
      "Epoch 1\n",
      "Epoch 2\n",
      "Epoch 3\n",
      "Epoch 4\n",
      "Epoch 5\n",
      "Epoch 6\n",
      "Epoch 7\n",
      "Epoch 8\n",
      "Epoch 9\n",
      "Epoch 10\n",
      "Epoch 11\n",
      "Epoch 12\n",
      "Epoch 13\n",
      "Epoch 14\n",
      "Epoch 15\n",
      "Epoch 16\n",
      "Epoch 17\n",
      "Epoch 18\n",
      "Epoch 19\n",
      "Epoch 20\n",
      "Epoch 21\n",
      "Epoch 22\n",
      "Epoch 23\n",
      "Epoch 24\n",
      "Epoch 25\n",
      "Epoch 26\n",
      "Epoch 27\n",
      "Epoch 28\n",
      "Epoch 29\n",
      "Epoch 30\n",
      "Epoch 31\n",
      "Epoch 32\n",
      "Epoch 33\n",
      "Epoch 34\n",
      "Epoch 35\n",
      "Epoch 36\n",
      "Epoch 37\n",
      "Epoch 38\n",
      "Epoch 39\n"
     ]
    },
    {
     "data": {
      "text/plain": [
       "<lightfm.lightfm.LightFM at 0x7fedc464cb38>"
      ]
     },
     "execution_count": 27,
     "metadata": {
      "tags": []
     },
     "output_type": "execute_result"
    }
   ],
   "source": [
    "warp_model.fit_partial(train_data, epochs=epochs, verbose=True,)"
   ]
  },
  {
   "cell_type": "code",
   "execution_count": null,
   "metadata": {
    "colab": {
     "base_uri": "https://localhost:8080/"
    },
    "id": "Lnd828UdGfJi",
    "outputId": "21d16b79-77dc-4ee9-d199-ab096be0ecf0"
   },
   "outputs": [
    {
     "data": {
      "text/plain": [
       "0.6863134838544033"
      ]
     },
     "execution_count": 28,
     "metadata": {
      "tags": []
     },
     "output_type": "execute_result"
    }
   ],
   "source": [
    "scores = warp_model.predict(implicit_test[:, 0], implicit_test[:, 1])\n",
    "roc_auc_score(implicit_test[:, 2], scores)"
   ]
  },
  {
   "cell_type": "code",
   "execution_count": null,
   "metadata": {
    "id": "eJYSIWl7VnOQ"
   },
   "outputs": [],
   "source": [
    "class WARPRecommender():\n",
    "    def __init__(self, warp):\n",
    "        self.u = warp.user_embeddings\n",
    "        self.v = warp.item_embeddings\n",
    "        self.bv = warp.item_biases\n",
    "        self.bu = warp.user_biases\n",
    "    \n",
    "    def similar_items(self, item_id, N=10):\n",
    "        scores = self.v @ self.v[item_id] / np.linalg.norm(self.v, axis=-1)\n",
    "        ind = np.argsort(scores)[::-1][:N]\n",
    "        return ind\n",
    "\n",
    "    def recommend(self, user_id, user_items, N=10):\n",
    "        unseen = np.array([False if i in user_items[user_id].nonzero()[1] else True for i in np.arange(len(self.v))])\n",
    "        scores = self.v[unseen] @ self.u[user_id] + self.bv[unseen]\n",
    "        ind = np.argsort(scores)[::-1]\n",
    "        real_ind = np.arange(len(self.v))[unseen][ind]\n",
    "        return real_ind[:N]"
   ]
  },
  {
   "cell_type": "code",
   "execution_count": null,
   "metadata": {
    "id": "PgtwfaZzWE0T"
   },
   "outputs": [],
   "source": [
    "warp = WARPRecommender(warp_model)"
   ]
  },
  {
   "cell_type": "code",
   "execution_count": null,
   "metadata": {
    "colab": {
     "base_uri": "https://localhost:8080/"
    },
    "id": "j4W06yzcVGK2",
    "outputId": "ce593923-1115-4d94-91c9-74e89be9767c"
   },
   "outputs": [
    {
     "data": {
      "text/plain": [
       "['0    Toy Story (1995)',\n",
       " '3045    Toy Story 2 (1999)',\n",
       " '1245    Groundhog Day (1993)',\n",
       " \"2286    Bug's Life, A (1998)\",\n",
       " \"2849    Ferris Bueller's Day Off (1986)\",\n",
       " '1899    Breakfast Club, The (1985)',\n",
       " '1179    Princess Bride, The (1987)',\n",
       " '2647    Ghostbusters (1984)',\n",
       " '584    Aladdin (1992)',\n",
       " '2252    Pleasantville (1998)']"
      ]
     },
     "execution_count": 45,
     "metadata": {
      "tags": []
     },
     "output_type": "execute_result"
    }
   ],
   "source": [
    "get_similars(1, warp)"
   ]
  },
  {
   "cell_type": "code",
   "execution_count": null,
   "metadata": {
    "colab": {
     "base_uri": "https://localhost:8080/"
    },
    "id": "VzxBUWaQVGG7",
    "outputId": "61be91a9-b4a6-4465-9280-377170cc2f10"
   },
   "outputs": [
    {
     "data": {
      "text/plain": [
       "['585    Terminator 2: Judgment Day (1991)',\n",
       " '2502    Matrix, The (1999)',\n",
       " '847    Godfather, The (1972)',\n",
       " '1250    Back to the Future (1985)',\n",
       " '589    Silence of the Lambs, The (1991)',\n",
       " '108    Braveheart (1995)',\n",
       " '1179    Princess Bride, The (1987)',\n",
       " '2789    American Beauty (1999)',\n",
       " '1182    Aliens (1986)',\n",
       " '537    Blade Runner (1982)']"
      ]
     },
     "execution_count": 46,
     "metadata": {
      "tags": []
     },
     "output_type": "execute_result"
    }
   ],
   "source": [
    "get_recommendations(4, warp, user_item_explicit, col=\"name\")"
   ]
  },
  {
   "cell_type": "code",
   "execution_count": null,
   "metadata": {
    "colab": {
     "base_uri": "https://localhost:8080/"
    },
    "id": "2PxJPlqsVKan",
    "outputId": "39f11038-9c35-4b30-8a34-e6935cfc6a55"
   },
   "outputs": [
    {
     "data": {
      "text/plain": [
       "['585    Action|Sci-Fi|Thriller',\n",
       " '2502    Action|Sci-Fi|Thriller',\n",
       " '847    Action|Crime|Drama',\n",
       " '1250    Comedy|Sci-Fi',\n",
       " '589    Drama|Thriller',\n",
       " '108    Action|Drama|War',\n",
       " '1179    Action|Adventure|Comedy|Romance',\n",
       " '2789    Comedy|Drama',\n",
       " '1182    Action|Sci-Fi|Thriller|War',\n",
       " '537    Film-Noir|Sci-Fi']"
      ]
     },
     "execution_count": 47,
     "metadata": {
      "tags": []
     },
     "output_type": "execute_result"
    }
   ],
   "source": [
    "get_recommendations(4, warp, user_item_explicit, col=\"category\")"
   ]
  },
  {
   "cell_type": "markdown",
   "metadata": {},
   "source": [
    "Получились и хорошие рекомендации и хорошии симилары"
   ]
  },
  {
   "cell_type": "markdown",
   "metadata": {
    "id": "OeaMaU6VGfJj"
   },
   "source": [
    "# NCF"
   ]
  },
  {
   "cell_type": "code",
   "execution_count": null,
   "metadata": {
    "id": "KEsAtGfOyf3N"
   },
   "outputs": [],
   "source": [
    "class Data:\n",
    "    def __init__(self, dataset):\n",
    "        self.pos = dataset\n",
    "        self.data = None\n",
    "        self.neg = None\n",
    "        self.neg_dict = {}\n",
    "        for i in tqdm(range(user_count)):\n",
    "            seen = set(self.pos[self.pos[:,0] == i][:,1])\n",
    "            unseen = set(np.arange(movie_count)) - seen\n",
    "            unseen = np.array(list(unseen), dtype=int)\n",
    "            self.neg_dict[i] = unseen\n",
    "\n",
    "\n",
    "    def set_neg(self, mode=\"lazy\"):\n",
    "        if mode == \"correct\":\n",
    "            self.neg = self.pos.copy()\n",
    "            new_negs = None\n",
    "            for i in range(user_count):\n",
    "                cur_pos = self.pos[:,0] == i\n",
    "                len_cur = (self.pos[:,0] == i).sum()\n",
    "                cur_negs = np.random.choice(self.neg_dict[i], len_cur)\n",
    "                if new_negs is None:\n",
    "                    new_negs = cur_negs\n",
    "                else:\n",
    "                    new_negs = np.hstack((new_negs, cur_negs))\n",
    "            self.neg[:,1] = new_negs\n",
    "        elif mode == \"lazy\":\n",
    "            self.neg = self.pos.copy()\n",
    "            self.neg[:,1] = np.random.choice(np.arange(movie_count), len(self.pos))\n",
    "        self.data = np.vstack((self.pos, self.neg))\n",
    "        self.labels = np.hstack(( np.ones(len(self.pos)), np.zeros(len(self.neg)) ))\n",
    "    def __len__(self):\n",
    "        return len(self.data)\n",
    "    \n",
    "    def __getitem__(self, i):\n",
    "        return (*self.data[i], self.labels[i])\n",
    "        # pos_ex = self.pos[i]\n",
    "        # neg_ex = self.neg[i]\n",
    "        # # negs = self.neg[self.neg[:,0]==pos_ex[0]]\n",
    "        # # neg_ex = self.neg[np.random.randint(len(self.neg))]\n",
    "\n",
    "        # return [*pos_ex, neg_ex[1]]"
   ]
  },
  {
   "cell_type": "code",
   "execution_count": null,
   "metadata": {
    "colab": {
     "base_uri": "https://localhost:8080/",
     "height": 66,
     "referenced_widgets": [
      "b00a490e60724fecb10b10943cf889f7",
      "cfe599edd6564f52970bfa25dcafbc50",
      "d919ad103022429aac32378e4187a6e5",
      "ebd2826f302a42a29a739e9fe410f8b0",
      "c3e115db52fd4dfa99de20e7fb308e2a",
      "ccdced398d87469d896bfa99920554b6",
      "3879768e192d45fb8eb0c990b75fc3fb",
      "7980463be9c44bfd97b2b426af1648f0"
     ]
    },
    "id": "CXIvqAojyi3N",
    "outputId": "00ff5021-7388-422d-97cd-1f20cbb2f361",
    "scrolled": true
   },
   "outputs": [
    {
     "data": {
      "application/vnd.jupyter.widget-view+json": {
       "model_id": "b00a490e60724fecb10b10943cf889f7",
       "version_major": 2,
       "version_minor": 0
      },
      "text/plain": [
       "HBox(children=(FloatProgress(value=0.0, max=6040.0), HTML(value='')))"
      ]
     },
     "metadata": {
      "tags": []
     },
     "output_type": "display_data"
    },
    {
     "name": "stdout",
     "output_type": "stream",
     "text": [
      "\n"
     ]
    }
   ],
   "source": [
    "traindata = Data(implicit_train)"
   ]
  },
  {
   "cell_type": "markdown",
   "metadata": {},
   "source": [
    "следующие классы это имплементация из статьи Neural Collaborative Filtering"
   ]
  },
  {
   "cell_type": "code",
   "execution_count": null,
   "metadata": {
    "id": "URF57sXoTj15"
   },
   "outputs": [],
   "source": [
    "class NCFBase(nn.Module):\n",
    "    def __init__(self, user_count, movie_count):\n",
    "        super().__init__()\n",
    "        self.n = user_count\n",
    "        self.m = movie_count\n",
    "    \n",
    "    \n",
    "    def part_forward(self, uid, mid):\n",
    "        raise NotImplementedError()\n",
    "\n",
    "    def forward(self, uid, mid):\n",
    "        raise NotImplementedError()\n",
    "    \n",
    "    def set_emb(self):\n",
    "        raise NotImplementedError()\n",
    "\n",
    "    def predict(self, test):\n",
    "        loader = torch.utils.data.DataLoader(test, batch_size=512)\n",
    "        y_pred = None\n",
    "        \n",
    "        for batch in loader:\n",
    "            users = batch[:, 0].to(device)\n",
    "            items = batch[:, 1].to(device)\n",
    "            out = self(users, items)\n",
    "            if y_pred is None:\n",
    "                y_pred = out.squeeze().cpu().detach().numpy()\n",
    "            else:\n",
    "                y_pred = np.hstack((y_pred, out.squeeze().cpu().detach().numpy()))\n",
    "        return y_pred\n",
    "                \n",
    "\n",
    "    def fit(self, train_data, test_data, num_epochs=100, lr=1e-3, bs=128):    \n",
    "        opt = optim.Adam(self.parameters(), lr=lr)\n",
    "        loss_func = nn.BCELoss()\n",
    "        for epoch in range(num_epochs):\n",
    "            running_loss = 0\n",
    "            train_data.set_neg('lazy')\n",
    "            trainloader = torch.utils.data.DataLoader(train_data, \n",
    "                                                      batch_size=bs, \n",
    "                                                      shuffle=True)\n",
    "\n",
    "            for (users, items, target) in trainloader:\n",
    "                users = users.to(device)\n",
    "                items = items.to(device)\n",
    "                target = target.to(device)\n",
    "                    \n",
    "                out = self(users, items)\n",
    "                loss = loss_func(out, target.float().view(-1, 1))\n",
    "                opt.zero_grad()\n",
    "                loss.backward()\n",
    "                opt.step()\n",
    "                running_loss += loss.item()\n",
    "            y_pred = self.predict(test_data)\n",
    "            auc = roc_auc_score(test_data[:, 2], y_pred)\n",
    "            print(f\"[{epoch}/{num_epochs}]:loss={running_loss:.4f}; auc={auc:.4f}\")\n",
    "        \n",
    "        self.set_emb()\n",
    "\n",
    "    def similar_items(self, item_id, N=10):\n",
    "        scores = self.v @ self.v[item_id] / np.linalg.norm(self.v, axis=-1)\n",
    "        ind = np.argsort(scores)[::-1][:N]\n",
    "        return ind\n",
    "\n",
    "    def recommend(self, user_id, user_items, N=10):\n",
    "        unseen = np.array([False if i in user_items[user_id].nonzero()[1] else True for i in np.arange(len(self.v))])\n",
    "        scores = self.v[unseen] @ self.u[user_id]\n",
    "        ind = np.argsort(scores)[::-1]\n",
    "        real_ind = np.arange(len(self.v))[unseen][ind]\n",
    "        return real_ind[:N]"
   ]
  },
  {
   "cell_type": "code",
   "execution_count": null,
   "metadata": {
    "id": "6nYhVMIvT6ym"
   },
   "outputs": [],
   "source": [
    "class MLP(NCFBase):\n",
    "    def __init__(self, user_count, movie_count, ls, hd):\n",
    "        super().__init__(user_count, movie_count)\n",
    "        self.ls = ls\n",
    "\n",
    "        self.embedding_user = nn.Embedding(num_embeddings=self.n, embedding_dim=ls)\n",
    "        self.embedding_item = nn.Embedding(num_embeddings=self.m, embedding_dim=ls)\n",
    "\n",
    "        self.model = nn.Sequential(nn.Linear(2 * ls, hd), \n",
    "                                   nn.ReLU(), \n",
    "                                   nn.Linear(hd, hd), \n",
    "                                   nn.ReLU())\n",
    "        \n",
    "        self.last =  nn.Sequential(nn.Linear(hd, 1), \n",
    "                                   nn.Sigmoid())\n",
    "        \n",
    "        self.set_emb()\n",
    "    \n",
    "    \n",
    "    def part_forward(self, uid, mid):\n",
    "        user_embedding = self.embedding_user(uid)\n",
    "        item_embedding = self.embedding_item(mid)\n",
    "        vector = torch.cat([user_embedding, item_embedding], dim=-1)\n",
    "        out = self.model(vector)\n",
    "        return out\n",
    "\n",
    "    def forward(self, uid, mid):\n",
    "        user_embedding = self.embedding_user(uid)\n",
    "        item_embedding = self.embedding_item(mid)\n",
    "        vector = torch.cat([user_embedding, item_embedding], dim=-1)\n",
    "        out = self.model(vector)\n",
    "        rating = self.last(out)\n",
    "        return rating\n",
    "\n",
    "    def set_emb(self):\n",
    "        self.v = self.embedding_item.weight.detach().cpu().numpy()\n",
    "        self.u = self.embedding_user.weight.detach().cpu().numpy()"
   ]
  },
  {
   "cell_type": "code",
   "execution_count": null,
   "metadata": {
    "id": "or46wIpOUDqP"
   },
   "outputs": [],
   "source": [
    "class GMF(NCFBase):\n",
    "    def __init__(self, user_count, movie_count, ls):\n",
    "        super().__init__(user_count, movie_count)\n",
    "        self.ls = ls\n",
    "\n",
    "        self.embedding_user = nn.Embedding(num_embeddings=self.n, embedding_dim=ls)\n",
    "        self.embedding_item = nn.Embedding(num_embeddings=self.m, embedding_dim=ls)\n",
    "\n",
    "        self.last = nn.Sequential(nn.Linear(ls, 1), \n",
    "                                 nn.Sigmoid())\n",
    "        \n",
    "        self.set_emb()\n",
    "\n",
    "    \n",
    "    def part_forward(self, uid, mid):\n",
    "        user_embedding = self.embedding_user(uid)\n",
    "        item_embedding = self.embedding_item(mid)\n",
    "        out = torch.mul(user_embedding, item_embedding)\n",
    "        return out\n",
    "    \n",
    "    def forward(self, uid, mid):\n",
    "        user_embedding = self.embedding_user(uid)\n",
    "        item_embedding = self.embedding_item(mid)\n",
    "        out = torch.mul(user_embedding, item_embedding)\n",
    "        rating = self.last(out)\n",
    "        return rating\n",
    "    \n",
    "    def set_emb(self):\n",
    "        self.v = self.embedding_item.weight.detach().cpu().numpy()\n",
    "        self.u = self.embedding_user.weight.detach().cpu().numpy()"
   ]
  },
  {
   "cell_type": "code",
   "execution_count": null,
   "metadata": {
    "id": "HcGfx83dUDnO"
   },
   "outputs": [],
   "source": [
    "class NeuMF(NCFBase):\n",
    "    def __init__(self, gmf, mlp, ls, hd):\n",
    "        super().__init__(0, 0)\n",
    "        self.gmf = gmf\n",
    "        self.mlp = mlp\n",
    "\n",
    "        self.last = nn.Sequential(nn.Linear(ls+hd, 1), \n",
    "                                  nn.Sigmoid())\n",
    "        \n",
    "        self.set_emb()\n",
    "    \n",
    "    \n",
    "    def forward(self, uid, mid):\n",
    "        mlp_out = self.mlp.part_forward(uid, mid)\n",
    "        gmf_out = self.gmf.part_forward(uid, mid)\n",
    "        vector = torch.cat([mlp_out, gmf_out], dim=-1)\n",
    "        out = self.last(vector)\n",
    "        return out\n",
    "    \n",
    "    def predict(self, test):\n",
    "        loader = torch.utils.data.DataLoader(test, batch_size=512)\n",
    "        y_pred = None\n",
    "        \n",
    "        for batch in loader:\n",
    "            users = batch[:, 0].to(device)\n",
    "            items = batch[:, 1].to(device)\n",
    "            out = self(users, items)\n",
    "            if y_pred is None:\n",
    "                y_pred = out.squeeze().cpu().detach().numpy()\n",
    "            else:\n",
    "                y_pred = np.hstack((y_pred, out.squeeze().cpu().detach().numpy()))\n",
    "        return y_pred\n",
    "    \n",
    "    \n",
    "    def set_emb(self):\n",
    "        self.v = np.hstack((self.gmf.embedding_item.weight.detach().cpu().numpy(), \n",
    "                            self.mlp.embedding_item.weight.detach().cpu().numpy()))\n",
    "        self.u = np.hstack((self.gmf.embedding_user.weight.detach().cpu().numpy(), \n",
    "                            self.mlp.embedding_user.weight.detach().cpu().numpy()))"
   ]
  },
  {
   "cell_type": "code",
   "execution_count": null,
   "metadata": {
    "colab": {
     "base_uri": "https://localhost:8080/"
    },
    "id": "voUnPYmtUyye",
    "outputId": "cb3f3a7a-1cc9-420a-d1e9-147b3c1dddce"
   },
   "outputs": [
    {
     "name": "stdout",
     "output_type": "stream",
     "text": [
      "[0/10]:loss=870.9032; auc=0.6763\n",
      "[1/10]:loss=829.4932; auc=0.6779\n",
      "[2/10]:loss=824.0259; auc=0.6791\n",
      "[3/10]:loss=810.9609; auc=0.6891\n",
      "[4/10]:loss=775.5384; auc=0.7013\n",
      "[5/10]:loss=756.8107; auc=0.6939\n",
      "[6/10]:loss=739.2789; auc=0.7005\n",
      "[7/10]:loss=720.4769; auc=0.7027\n",
      "[8/10]:loss=703.2066; auc=0.7012\n",
      "[9/10]:loss=688.3626; auc=0.7103\n"
     ]
    }
   ],
   "source": [
    "mlp = MLP(user_count, movie_count, 32, 32).to(device)\n",
    "mlp.fit(traindata, implicit_test, num_epochs=10, bs=512, lr=1e-2)"
   ]
  },
  {
   "cell_type": "code",
   "execution_count": null,
   "metadata": {
    "colab": {
     "base_uri": "https://localhost:8080/"
    },
    "id": "B87Tsn58U9EK",
    "outputId": "6b073ab3-408b-40cd-cbf5-a7a4b8527dc7"
   },
   "outputs": [
    {
     "name": "stdout",
     "output_type": "stream",
     "text": [
      "SIMILARS\n",
      "Toy Story (1995)\n",
      "Groundhog Day (1993)\n",
      "Toy Story 2 (1999)\n",
      "Sixth Sense, The (1999)\n",
      "Saving Private Ryan (1998)\n",
      "Stand by Me (1986)\n",
      "Star Wars: Episode V - The Empire Strikes Back...\n",
      "Braveheart (1995)\n",
      "Princess Bride, The (1987)\n",
      "Chicken Run (2000)\n",
      "RECOMENDATIONS\n",
      "Bay of Blood (Reazione a catena) (1971)            Horror\n",
      "Moonlight Murder (1936)                            Mystery\n",
      "Brothers in Trouble (1995)                         Drama\n",
      "Last of the High Kings, The (a.k.a. Summer Fli...  Drama\n",
      "Rent-A-Cop (1988)                                  Action|Comedy\n",
      "Digging to China (1998)                            Drama\n",
      "Buck and the Preacher (1972)                       Western\n",
      "Bootmen (2000)                                     Comedy|Drama\n",
      "Let's Talk About Sex (1998)                        Drama\n",
      "For Ever Mozart (1996)                             Drama\n"
     ]
    }
   ],
   "source": [
    "test_model(mlp)"
   ]
  },
  {
   "cell_type": "code",
   "execution_count": null,
   "metadata": {
    "colab": {
     "base_uri": "https://localhost:8080/"
    },
    "id": "1lVsMGlNUy37",
    "outputId": "d19d9135-95f0-4e63-cca7-b4fd04d8db9e"
   },
   "outputs": [
    {
     "name": "stdout",
     "output_type": "stream",
     "text": [
      "[0/10]:loss=1249.8260; auc=0.5005\n",
      "[1/10]:loss=1136.8895; auc=0.6637\n",
      "[2/10]:loss=849.6198; auc=0.6702\n",
      "[3/10]:loss=812.2539; auc=0.6844\n",
      "[4/10]:loss=755.5984; auc=0.6908\n",
      "[5/10]:loss=708.4372; auc=0.6965\n",
      "[6/10]:loss=667.6031; auc=0.6957\n",
      "[7/10]:loss=639.3491; auc=0.6995\n",
      "[8/10]:loss=616.4024; auc=0.7042\n",
      "[9/10]:loss=600.1062; auc=0.7045\n"
     ]
    }
   ],
   "source": [
    "gmf = GMF(user_count, movie_count, 32).to(device)\n",
    "gmf.fit(traindata, implicit_test, num_epochs=10, bs=512, lr=1e-2)"
   ]
  },
  {
   "cell_type": "code",
   "execution_count": null,
   "metadata": {
    "colab": {
     "base_uri": "https://localhost:8080/"
    },
    "id": "gNainuCxU9XV",
    "outputId": "13c6b2fe-0cda-490e-ef6c-bfee00e9e7ec"
   },
   "outputs": [
    {
     "name": "stdout",
     "output_type": "stream",
     "text": [
      "SIMILARS\n",
      "Toy Story (1995)\n",
      "Toy Story 2 (1999)\n",
      "Aladdin (1992)\n",
      "Babe (1995)\n",
      "Bug's Life, A (1998)\n",
      "Princess Bride, The (1987)\n",
      "Wrong Trousers, The (1993)\n",
      "Little Mermaid, The (1989)\n",
      "Prince of Egypt, The (1998)\n",
      "Back to the Future (1985)\n",
      "RECOMENDATIONS\n",
      "French Kiss (1995)                                 Comedy|Romance\n",
      "Marlene Dietrich: Shadow and Light (1996)          Documentary\n",
      "Evita (1996)                                       Drama|Musical\n",
      "Englishman Who Went Up a Hill, But Came Down a...  Comedy|Romance\n",
      "Patch Adams (1998)                                 Comedy|Drama\n",
      "Eye for an Eye (1996)                              Drama|Thriller\n",
      "Immortal Beloved (1994)                            Drama|Romance\n",
      "Dolores Claiborne (1994)                           Drama|Thriller\n",
      "Steel Magnolias (1989)                             Drama\n",
      "Life Less Ordinary, A (1997)                       Romance|Thriller\n"
     ]
    }
   ],
   "source": [
    "test_model(gmf)"
   ]
  },
  {
   "cell_type": "code",
   "execution_count": null,
   "metadata": {
    "colab": {
     "base_uri": "https://localhost:8080/"
    },
    "id": "_BEtuc5OUy1J",
    "outputId": "dee07c72-7946-4e75-ccaf-6edb585adc4e"
   },
   "outputs": [
    {
     "name": "stdout",
     "output_type": "stream",
     "text": [
      "[0/20]:loss=525.5681; auc=0.7019\n",
      "[1/20]:loss=516.4890; auc=0.7036\n",
      "[2/20]:loss=508.0946; auc=0.7038\n",
      "[3/20]:loss=502.1100; auc=0.7021\n",
      "[4/20]:loss=497.3195; auc=0.7048\n",
      "[5/20]:loss=492.0189; auc=0.7087\n",
      "[6/20]:loss=489.1685; auc=0.7055\n",
      "[7/20]:loss=484.2637; auc=0.7038\n",
      "[8/20]:loss=480.2401; auc=0.7034\n",
      "[9/20]:loss=475.5336; auc=0.7035\n",
      "[10/20]:loss=470.6948; auc=0.7031\n",
      "[11/20]:loss=469.4879; auc=0.7031\n",
      "[12/20]:loss=464.4485; auc=0.7038\n",
      "[13/20]:loss=464.1475; auc=0.7029\n",
      "[14/20]:loss=460.7595; auc=0.7040\n",
      "[15/20]:loss=457.8969; auc=0.7032\n",
      "[16/20]:loss=457.4002; auc=0.7014\n",
      "[17/20]:loss=455.8002; auc=0.7029\n",
      "[18/20]:loss=453.3930; auc=0.7035\n",
      "[19/20]:loss=450.5301; auc=0.7028\n"
     ]
    }
   ],
   "source": [
    "neumf = NeuMF(gmf, mlp, 32, 32).to(device)\n",
    "neumf.fit(traindata, implicit_test, num_epochs=20, bs=512, lr=5e-3)"
   ]
  },
  {
   "cell_type": "markdown",
   "metadata": {},
   "source": [
    "Для симиларов и рекомендаций в полной NeuMF модели эмбединги конкатенируются для GBF и MLP"
   ]
  },
  {
   "cell_type": "code",
   "execution_count": null,
   "metadata": {
    "colab": {
     "base_uri": "https://localhost:8080/"
    },
    "id": "nrwe3r3PUywD",
    "outputId": "5fe16aa2-b249-4dee-e83e-f9cfc12c6750",
    "scrolled": false
   },
   "outputs": [
    {
     "name": "stdout",
     "output_type": "stream",
     "text": [
      "SIMILARS\n",
      "Toy Story (1995)\n",
      "Toy Story 2 (1999)\n",
      "Groundhog Day (1993)\n",
      "Sixth Sense, The (1999)\n",
      "Back to the Future (1985)\n",
      "Who Framed Roger Rabbit? (1988)\n",
      "Star Wars: Episode IV - A New Hope (1977)\n",
      "Saving Private Ryan (1998)\n",
      "Babe (1995)\n",
      "Silence of the Lambs, The (1991)\n",
      "RECOMENDATIONS\n",
      "Jason's Lyric (1994)                               Crime|Drama\n",
      "Interview with the Vampire (1994)                  Drama|Horror\n",
      "Astronaut's Wife, The (1999)                       Sci-Fi|Thriller\n",
      "Mr. Jones (1993)                                   Drama|Romance\n",
      "Hitch-Hiker, The (1953)                            Film-Noir\n",
      "Castaway Cowboy, The (1974)                        Comedy|Western\n",
      "Something Wicked This Way Comes (1983)             Children's|Horror\n",
      "Friday the 13th: The Final Chapter (1984)          Horror\n",
      "Jaws 3-D (1983)                                    Action|Horror\n",
      "Tarantula (1955)                                   Horror|Sci-Fi\n"
     ]
    }
   ],
   "source": [
    "test_model(neumf)"
   ]
  },
  {
   "cell_type": "markdown",
   "metadata": {},
   "source": [
    "В сравнение с warp auc лучше у этой модели. Но симиляры и рекомендации хуже. С рекомендациями плохо у всех частей и это скорее всего из-за отсутсвия байеса. Симилары у части gbf хорошие, а у части с MLP не очень и вместе тоже не очень."
   ]
  },
  {
   "cell_type": "code",
   "execution_count": null,
   "metadata": {},
   "outputs": [],
   "source": []
  }
 ],
 "metadata": {
  "accelerator": "GPU",
  "colab": {
   "name": "HW3.ipynb",
   "provenance": [],
   "toc_visible": true
  },
  "kernelspec": {
   "display_name": "Python 3",
   "language": "python",
   "name": "python3"
  },
  "language_info": {
   "codemirror_mode": {
    "name": "ipython",
    "version": 3
   },
   "file_extension": ".py",
   "mimetype": "text/x-python",
   "name": "python",
   "nbconvert_exporter": "python",
   "pygments_lexer": "ipython3",
   "version": "3.8.3"
  },
  "widgets": {
   "application/vnd.jupyter.widget-state+json": {
    "3879768e192d45fb8eb0c990b75fc3fb": {
     "model_module": "@jupyter-widgets/controls",
     "model_name": "DescriptionStyleModel",
     "state": {
      "_model_module": "@jupyter-widgets/controls",
      "_model_module_version": "1.5.0",
      "_model_name": "DescriptionStyleModel",
      "_view_count": null,
      "_view_module": "@jupyter-widgets/base",
      "_view_module_version": "1.2.0",
      "_view_name": "StyleView",
      "description_width": ""
     }
    },
    "7980463be9c44bfd97b2b426af1648f0": {
     "model_module": "@jupyter-widgets/base",
     "model_name": "LayoutModel",
     "state": {
      "_model_module": "@jupyter-widgets/base",
      "_model_module_version": "1.2.0",
      "_model_name": "LayoutModel",
      "_view_count": null,
      "_view_module": "@jupyter-widgets/base",
      "_view_module_version": "1.2.0",
      "_view_name": "LayoutView",
      "align_content": null,
      "align_items": null,
      "align_self": null,
      "border": null,
      "bottom": null,
      "display": null,
      "flex": null,
      "flex_flow": null,
      "grid_area": null,
      "grid_auto_columns": null,
      "grid_auto_flow": null,
      "grid_auto_rows": null,
      "grid_column": null,
      "grid_gap": null,
      "grid_row": null,
      "grid_template_areas": null,
      "grid_template_columns": null,
      "grid_template_rows": null,
      "height": null,
      "justify_content": null,
      "justify_items": null,
      "left": null,
      "margin": null,
      "max_height": null,
      "max_width": null,
      "min_height": null,
      "min_width": null,
      "object_fit": null,
      "object_position": null,
      "order": null,
      "overflow": null,
      "overflow_x": null,
      "overflow_y": null,
      "padding": null,
      "right": null,
      "top": null,
      "visibility": null,
      "width": null
     }
    },
    "b00a490e60724fecb10b10943cf889f7": {
     "model_module": "@jupyter-widgets/controls",
     "model_name": "HBoxModel",
     "state": {
      "_dom_classes": [],
      "_model_module": "@jupyter-widgets/controls",
      "_model_module_version": "1.5.0",
      "_model_name": "HBoxModel",
      "_view_count": null,
      "_view_module": "@jupyter-widgets/controls",
      "_view_module_version": "1.5.0",
      "_view_name": "HBoxView",
      "box_style": "",
      "children": [
       "IPY_MODEL_d919ad103022429aac32378e4187a6e5",
       "IPY_MODEL_ebd2826f302a42a29a739e9fe410f8b0"
      ],
      "layout": "IPY_MODEL_cfe599edd6564f52970bfa25dcafbc50"
     }
    },
    "c3e115db52fd4dfa99de20e7fb308e2a": {
     "model_module": "@jupyter-widgets/controls",
     "model_name": "ProgressStyleModel",
     "state": {
      "_model_module": "@jupyter-widgets/controls",
      "_model_module_version": "1.5.0",
      "_model_name": "ProgressStyleModel",
      "_view_count": null,
      "_view_module": "@jupyter-widgets/base",
      "_view_module_version": "1.2.0",
      "_view_name": "StyleView",
      "bar_color": null,
      "description_width": "initial"
     }
    },
    "ccdced398d87469d896bfa99920554b6": {
     "model_module": "@jupyter-widgets/base",
     "model_name": "LayoutModel",
     "state": {
      "_model_module": "@jupyter-widgets/base",
      "_model_module_version": "1.2.0",
      "_model_name": "LayoutModel",
      "_view_count": null,
      "_view_module": "@jupyter-widgets/base",
      "_view_module_version": "1.2.0",
      "_view_name": "LayoutView",
      "align_content": null,
      "align_items": null,
      "align_self": null,
      "border": null,
      "bottom": null,
      "display": null,
      "flex": null,
      "flex_flow": null,
      "grid_area": null,
      "grid_auto_columns": null,
      "grid_auto_flow": null,
      "grid_auto_rows": null,
      "grid_column": null,
      "grid_gap": null,
      "grid_row": null,
      "grid_template_areas": null,
      "grid_template_columns": null,
      "grid_template_rows": null,
      "height": null,
      "justify_content": null,
      "justify_items": null,
      "left": null,
      "margin": null,
      "max_height": null,
      "max_width": null,
      "min_height": null,
      "min_width": null,
      "object_fit": null,
      "object_position": null,
      "order": null,
      "overflow": null,
      "overflow_x": null,
      "overflow_y": null,
      "padding": null,
      "right": null,
      "top": null,
      "visibility": null,
      "width": null
     }
    },
    "cfe599edd6564f52970bfa25dcafbc50": {
     "model_module": "@jupyter-widgets/base",
     "model_name": "LayoutModel",
     "state": {
      "_model_module": "@jupyter-widgets/base",
      "_model_module_version": "1.2.0",
      "_model_name": "LayoutModel",
      "_view_count": null,
      "_view_module": "@jupyter-widgets/base",
      "_view_module_version": "1.2.0",
      "_view_name": "LayoutView",
      "align_content": null,
      "align_items": null,
      "align_self": null,
      "border": null,
      "bottom": null,
      "display": null,
      "flex": null,
      "flex_flow": null,
      "grid_area": null,
      "grid_auto_columns": null,
      "grid_auto_flow": null,
      "grid_auto_rows": null,
      "grid_column": null,
      "grid_gap": null,
      "grid_row": null,
      "grid_template_areas": null,
      "grid_template_columns": null,
      "grid_template_rows": null,
      "height": null,
      "justify_content": null,
      "justify_items": null,
      "left": null,
      "margin": null,
      "max_height": null,
      "max_width": null,
      "min_height": null,
      "min_width": null,
      "object_fit": null,
      "object_position": null,
      "order": null,
      "overflow": null,
      "overflow_x": null,
      "overflow_y": null,
      "padding": null,
      "right": null,
      "top": null,
      "visibility": null,
      "width": null
     }
    },
    "d919ad103022429aac32378e4187a6e5": {
     "model_module": "@jupyter-widgets/controls",
     "model_name": "FloatProgressModel",
     "state": {
      "_dom_classes": [],
      "_model_module": "@jupyter-widgets/controls",
      "_model_module_version": "1.5.0",
      "_model_name": "FloatProgressModel",
      "_view_count": null,
      "_view_module": "@jupyter-widgets/controls",
      "_view_module_version": "1.5.0",
      "_view_name": "ProgressView",
      "bar_style": "success",
      "description": "100%",
      "description_tooltip": null,
      "layout": "IPY_MODEL_ccdced398d87469d896bfa99920554b6",
      "max": 6040,
      "min": 0,
      "orientation": "horizontal",
      "style": "IPY_MODEL_c3e115db52fd4dfa99de20e7fb308e2a",
      "value": 6040
     }
    },
    "ebd2826f302a42a29a739e9fe410f8b0": {
     "model_module": "@jupyter-widgets/controls",
     "model_name": "HTMLModel",
     "state": {
      "_dom_classes": [],
      "_model_module": "@jupyter-widgets/controls",
      "_model_module_version": "1.5.0",
      "_model_name": "HTMLModel",
      "_view_count": null,
      "_view_module": "@jupyter-widgets/controls",
      "_view_module_version": "1.5.0",
      "_view_name": "HTMLView",
      "description": "",
      "description_tooltip": null,
      "layout": "IPY_MODEL_7980463be9c44bfd97b2b426af1648f0",
      "placeholder": "​",
      "style": "IPY_MODEL_3879768e192d45fb8eb0c990b75fc3fb",
      "value": " 6040/6040 [00:18&lt;00:00, 324.72it/s]"
     }
    }
   }
  }
 },
 "nbformat": 4,
 "nbformat_minor": 1
}
