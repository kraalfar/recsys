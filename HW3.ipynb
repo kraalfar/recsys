{
  "nbformat": 4,
  "nbformat_minor": 0,
  "metadata": {
    "colab": {
      "name": "HW3.ipynb",
      "provenance": [],
      "collapsed_sections": [
        "2gxG8atQGfJi"
      ],
      "toc_visible": true
    },
    "kernelspec": {
      "display_name": "Python 3",
      "language": "python",
      "name": "python3"
    },
    "language_info": {
      "codemirror_mode": {
        "name": "ipython",
        "version": 3
      },
      "file_extension": ".py",
      "mimetype": "text/x-python",
      "name": "python",
      "nbconvert_exporter": "python",
      "pygments_lexer": "ipython3",
      "version": "3.8.3"
    },
    "widgets": {
      "application/vnd.jupyter.widget-state+json": {
        "f83d8c85edec4a2a8de04c3448532e73": {
          "model_module": "@jupyter-widgets/controls",
          "model_name": "HBoxModel",
          "state": {
            "_dom_classes": [],
            "_model_module": "@jupyter-widgets/controls",
            "_model_module_version": "1.5.0",
            "_model_name": "HBoxModel",
            "_view_count": null,
            "_view_module": "@jupyter-widgets/controls",
            "_view_module_version": "1.5.0",
            "_view_name": "HBoxView",
            "box_style": "",
            "children": [
              "IPY_MODEL_a76d013dcf0740a3b01391f2af9859f4",
              "IPY_MODEL_2105c151bda2417d9264d2fd66dcbaff"
            ],
            "layout": "IPY_MODEL_4a07395eeb5c442183c537b3b2a53142"
          }
        },
        "a76d013dcf0740a3b01391f2af9859f4": {
          "model_module": "@jupyter-widgets/controls",
          "model_name": "FloatProgressModel",
          "state": {
            "_dom_classes": [],
            "_model_module": "@jupyter-widgets/controls",
            "_model_module_version": "1.5.0",
            "_model_name": "FloatProgressModel",
            "_view_count": null,
            "_view_module": "@jupyter-widgets/controls",
            "_view_module_version": "1.5.0",
            "_view_name": "ProgressView",
            "bar_style": "success",
            "description": "100%",
            "description_tooltip": null,
            "layout": "IPY_MODEL_7127fd24343c4d68958b886c226191d8",
            "max": 6040,
            "min": 0,
            "orientation": "horizontal",
            "style": "IPY_MODEL_5b32b5a31abd47e8bb5365dbd2e46633",
            "value": 6040
          }
        },
        "2105c151bda2417d9264d2fd66dcbaff": {
          "model_module": "@jupyter-widgets/controls",
          "model_name": "HTMLModel",
          "state": {
            "_dom_classes": [],
            "_model_module": "@jupyter-widgets/controls",
            "_model_module_version": "1.5.0",
            "_model_name": "HTMLModel",
            "_view_count": null,
            "_view_module": "@jupyter-widgets/controls",
            "_view_module_version": "1.5.0",
            "_view_name": "HTMLView",
            "description": "",
            "description_tooltip": null,
            "layout": "IPY_MODEL_36bdc12ff35b411eb6efc89934caddb0",
            "placeholder": "​",
            "style": "IPY_MODEL_e2909c3a25ab4eea96109331b0c5fcca",
            "value": " 6040/6040 [00:32&lt;00:00, 187.27it/s]"
          }
        },
        "4a07395eeb5c442183c537b3b2a53142": {
          "model_module": "@jupyter-widgets/base",
          "model_name": "LayoutModel",
          "state": {
            "_model_module": "@jupyter-widgets/base",
            "_model_module_version": "1.2.0",
            "_model_name": "LayoutModel",
            "_view_count": null,
            "_view_module": "@jupyter-widgets/base",
            "_view_module_version": "1.2.0",
            "_view_name": "LayoutView",
            "align_content": null,
            "align_items": null,
            "align_self": null,
            "border": null,
            "bottom": null,
            "display": null,
            "flex": null,
            "flex_flow": null,
            "grid_area": null,
            "grid_auto_columns": null,
            "grid_auto_flow": null,
            "grid_auto_rows": null,
            "grid_column": null,
            "grid_gap": null,
            "grid_row": null,
            "grid_template_areas": null,
            "grid_template_columns": null,
            "grid_template_rows": null,
            "height": null,
            "justify_content": null,
            "justify_items": null,
            "left": null,
            "margin": null,
            "max_height": null,
            "max_width": null,
            "min_height": null,
            "min_width": null,
            "object_fit": null,
            "object_position": null,
            "order": null,
            "overflow": null,
            "overflow_x": null,
            "overflow_y": null,
            "padding": null,
            "right": null,
            "top": null,
            "visibility": null,
            "width": null
          }
        },
        "7127fd24343c4d68958b886c226191d8": {
          "model_module": "@jupyter-widgets/base",
          "model_name": "LayoutModel",
          "state": {
            "_model_module": "@jupyter-widgets/base",
            "_model_module_version": "1.2.0",
            "_model_name": "LayoutModel",
            "_view_count": null,
            "_view_module": "@jupyter-widgets/base",
            "_view_module_version": "1.2.0",
            "_view_name": "LayoutView",
            "align_content": null,
            "align_items": null,
            "align_self": null,
            "border": null,
            "bottom": null,
            "display": null,
            "flex": null,
            "flex_flow": null,
            "grid_area": null,
            "grid_auto_columns": null,
            "grid_auto_flow": null,
            "grid_auto_rows": null,
            "grid_column": null,
            "grid_gap": null,
            "grid_row": null,
            "grid_template_areas": null,
            "grid_template_columns": null,
            "grid_template_rows": null,
            "height": null,
            "justify_content": null,
            "justify_items": null,
            "left": null,
            "margin": null,
            "max_height": null,
            "max_width": null,
            "min_height": null,
            "min_width": null,
            "object_fit": null,
            "object_position": null,
            "order": null,
            "overflow": null,
            "overflow_x": null,
            "overflow_y": null,
            "padding": null,
            "right": null,
            "top": null,
            "visibility": null,
            "width": null
          }
        },
        "5b32b5a31abd47e8bb5365dbd2e46633": {
          "model_module": "@jupyter-widgets/controls",
          "model_name": "ProgressStyleModel",
          "state": {
            "_model_module": "@jupyter-widgets/controls",
            "_model_module_version": "1.5.0",
            "_model_name": "ProgressStyleModel",
            "_view_count": null,
            "_view_module": "@jupyter-widgets/base",
            "_view_module_version": "1.2.0",
            "_view_name": "StyleView",
            "bar_color": null,
            "description_width": "initial"
          }
        },
        "36bdc12ff35b411eb6efc89934caddb0": {
          "model_module": "@jupyter-widgets/base",
          "model_name": "LayoutModel",
          "state": {
            "_model_module": "@jupyter-widgets/base",
            "_model_module_version": "1.2.0",
            "_model_name": "LayoutModel",
            "_view_count": null,
            "_view_module": "@jupyter-widgets/base",
            "_view_module_version": "1.2.0",
            "_view_name": "LayoutView",
            "align_content": null,
            "align_items": null,
            "align_self": null,
            "border": null,
            "bottom": null,
            "display": null,
            "flex": null,
            "flex_flow": null,
            "grid_area": null,
            "grid_auto_columns": null,
            "grid_auto_flow": null,
            "grid_auto_rows": null,
            "grid_column": null,
            "grid_gap": null,
            "grid_row": null,
            "grid_template_areas": null,
            "grid_template_columns": null,
            "grid_template_rows": null,
            "height": null,
            "justify_content": null,
            "justify_items": null,
            "left": null,
            "margin": null,
            "max_height": null,
            "max_width": null,
            "min_height": null,
            "min_width": null,
            "object_fit": null,
            "object_position": null,
            "order": null,
            "overflow": null,
            "overflow_x": null,
            "overflow_y": null,
            "padding": null,
            "right": null,
            "top": null,
            "visibility": null,
            "width": null
          }
        },
        "e2909c3a25ab4eea96109331b0c5fcca": {
          "model_module": "@jupyter-widgets/controls",
          "model_name": "DescriptionStyleModel",
          "state": {
            "_model_module": "@jupyter-widgets/controls",
            "_model_module_version": "1.5.0",
            "_model_name": "DescriptionStyleModel",
            "_view_count": null,
            "_view_module": "@jupyter-widgets/base",
            "_view_module_version": "1.2.0",
            "_view_name": "StyleView",
            "description_width": ""
          }
        },
        "b5a1844fbd5947ffa15f6f995b63eb9a": {
          "model_module": "@jupyter-widgets/controls",
          "model_name": "HBoxModel",
          "state": {
            "_dom_classes": [],
            "_model_module": "@jupyter-widgets/controls",
            "_model_module_version": "1.5.0",
            "_model_name": "HBoxModel",
            "_view_count": null,
            "_view_module": "@jupyter-widgets/controls",
            "_view_module_version": "1.5.0",
            "_view_name": "HBoxView",
            "box_style": "",
            "children": [
              "IPY_MODEL_25d9950d289047d992011946cfe58079",
              "IPY_MODEL_796a26aac0b54007a075086de06ec8b9"
            ],
            "layout": "IPY_MODEL_33ab82517041433cab84098809489f3e"
          }
        },
        "25d9950d289047d992011946cfe58079": {
          "model_module": "@jupyter-widgets/controls",
          "model_name": "FloatProgressModel",
          "state": {
            "_dom_classes": [],
            "_model_module": "@jupyter-widgets/controls",
            "_model_module_version": "1.5.0",
            "_model_name": "FloatProgressModel",
            "_view_count": null,
            "_view_module": "@jupyter-widgets/controls",
            "_view_module_version": "1.5.0",
            "_view_name": "ProgressView",
            "bar_style": "success",
            "description": "100%",
            "description_tooltip": null,
            "layout": "IPY_MODEL_a964604738864e7abf4e8c90450320be",
            "max": 50,
            "min": 0,
            "orientation": "horizontal",
            "style": "IPY_MODEL_bbcdceea90ff4bb286b902fcf3c823ee",
            "value": 50
          }
        },
        "796a26aac0b54007a075086de06ec8b9": {
          "model_module": "@jupyter-widgets/controls",
          "model_name": "HTMLModel",
          "state": {
            "_dom_classes": [],
            "_model_module": "@jupyter-widgets/controls",
            "_model_module_version": "1.5.0",
            "_model_name": "HTMLModel",
            "_view_count": null,
            "_view_module": "@jupyter-widgets/controls",
            "_view_module_version": "1.5.0",
            "_view_name": "HTMLView",
            "description": "",
            "description_tooltip": null,
            "layout": "IPY_MODEL_7643dd7581eb433fb1500e0a4010e967",
            "placeholder": "​",
            "style": "IPY_MODEL_c5cdffa82bc64cb5a483f2cf0375c23a",
            "value": " 50/50 [26:52&lt;00:00, 32.24s/it]"
          }
        },
        "33ab82517041433cab84098809489f3e": {
          "model_module": "@jupyter-widgets/base",
          "model_name": "LayoutModel",
          "state": {
            "_model_module": "@jupyter-widgets/base",
            "_model_module_version": "1.2.0",
            "_model_name": "LayoutModel",
            "_view_count": null,
            "_view_module": "@jupyter-widgets/base",
            "_view_module_version": "1.2.0",
            "_view_name": "LayoutView",
            "align_content": null,
            "align_items": null,
            "align_self": null,
            "border": null,
            "bottom": null,
            "display": null,
            "flex": null,
            "flex_flow": null,
            "grid_area": null,
            "grid_auto_columns": null,
            "grid_auto_flow": null,
            "grid_auto_rows": null,
            "grid_column": null,
            "grid_gap": null,
            "grid_row": null,
            "grid_template_areas": null,
            "grid_template_columns": null,
            "grid_template_rows": null,
            "height": null,
            "justify_content": null,
            "justify_items": null,
            "left": null,
            "margin": null,
            "max_height": null,
            "max_width": null,
            "min_height": null,
            "min_width": null,
            "object_fit": null,
            "object_position": null,
            "order": null,
            "overflow": null,
            "overflow_x": null,
            "overflow_y": null,
            "padding": null,
            "right": null,
            "top": null,
            "visibility": null,
            "width": null
          }
        },
        "a964604738864e7abf4e8c90450320be": {
          "model_module": "@jupyter-widgets/base",
          "model_name": "LayoutModel",
          "state": {
            "_model_module": "@jupyter-widgets/base",
            "_model_module_version": "1.2.0",
            "_model_name": "LayoutModel",
            "_view_count": null,
            "_view_module": "@jupyter-widgets/base",
            "_view_module_version": "1.2.0",
            "_view_name": "LayoutView",
            "align_content": null,
            "align_items": null,
            "align_self": null,
            "border": null,
            "bottom": null,
            "display": null,
            "flex": null,
            "flex_flow": null,
            "grid_area": null,
            "grid_auto_columns": null,
            "grid_auto_flow": null,
            "grid_auto_rows": null,
            "grid_column": null,
            "grid_gap": null,
            "grid_row": null,
            "grid_template_areas": null,
            "grid_template_columns": null,
            "grid_template_rows": null,
            "height": null,
            "justify_content": null,
            "justify_items": null,
            "left": null,
            "margin": null,
            "max_height": null,
            "max_width": null,
            "min_height": null,
            "min_width": null,
            "object_fit": null,
            "object_position": null,
            "order": null,
            "overflow": null,
            "overflow_x": null,
            "overflow_y": null,
            "padding": null,
            "right": null,
            "top": null,
            "visibility": null,
            "width": null
          }
        },
        "bbcdceea90ff4bb286b902fcf3c823ee": {
          "model_module": "@jupyter-widgets/controls",
          "model_name": "ProgressStyleModel",
          "state": {
            "_model_module": "@jupyter-widgets/controls",
            "_model_module_version": "1.5.0",
            "_model_name": "ProgressStyleModel",
            "_view_count": null,
            "_view_module": "@jupyter-widgets/base",
            "_view_module_version": "1.2.0",
            "_view_name": "StyleView",
            "bar_color": null,
            "description_width": "initial"
          }
        },
        "7643dd7581eb433fb1500e0a4010e967": {
          "model_module": "@jupyter-widgets/base",
          "model_name": "LayoutModel",
          "state": {
            "_model_module": "@jupyter-widgets/base",
            "_model_module_version": "1.2.0",
            "_model_name": "LayoutModel",
            "_view_count": null,
            "_view_module": "@jupyter-widgets/base",
            "_view_module_version": "1.2.0",
            "_view_name": "LayoutView",
            "align_content": null,
            "align_items": null,
            "align_self": null,
            "border": null,
            "bottom": null,
            "display": null,
            "flex": null,
            "flex_flow": null,
            "grid_area": null,
            "grid_auto_columns": null,
            "grid_auto_flow": null,
            "grid_auto_rows": null,
            "grid_column": null,
            "grid_gap": null,
            "grid_row": null,
            "grid_template_areas": null,
            "grid_template_columns": null,
            "grid_template_rows": null,
            "height": null,
            "justify_content": null,
            "justify_items": null,
            "left": null,
            "margin": null,
            "max_height": null,
            "max_width": null,
            "min_height": null,
            "min_width": null,
            "object_fit": null,
            "object_position": null,
            "order": null,
            "overflow": null,
            "overflow_x": null,
            "overflow_y": null,
            "padding": null,
            "right": null,
            "top": null,
            "visibility": null,
            "width": null
          }
        },
        "c5cdffa82bc64cb5a483f2cf0375c23a": {
          "model_module": "@jupyter-widgets/controls",
          "model_name": "DescriptionStyleModel",
          "state": {
            "_model_module": "@jupyter-widgets/controls",
            "_model_module_version": "1.5.0",
            "_model_name": "DescriptionStyleModel",
            "_view_count": null,
            "_view_module": "@jupyter-widgets/base",
            "_view_module_version": "1.2.0",
            "_view_name": "StyleView",
            "description_width": ""
          }
        },
        "49ccfbd8ec6b4fc790dc8979116f792c": {
          "model_module": "@jupyter-widgets/controls",
          "model_name": "HBoxModel",
          "state": {
            "_dom_classes": [],
            "_model_module": "@jupyter-widgets/controls",
            "_model_module_version": "1.5.0",
            "_model_name": "HBoxModel",
            "_view_count": null,
            "_view_module": "@jupyter-widgets/controls",
            "_view_module_version": "1.5.0",
            "_view_name": "HBoxView",
            "box_style": "",
            "children": [
              "IPY_MODEL_342658966d0a4ad1aef7e49ed904f70c",
              "IPY_MODEL_9a4a5f98e2f64f0eb3542178dbab86bb"
            ],
            "layout": "IPY_MODEL_26caacfcfdb14f93a314f94b2d0c4eca"
          }
        },
        "342658966d0a4ad1aef7e49ed904f70c": {
          "model_module": "@jupyter-widgets/controls",
          "model_name": "FloatProgressModel",
          "state": {
            "_dom_classes": [],
            "_model_module": "@jupyter-widgets/controls",
            "_model_module_version": "1.5.0",
            "_model_name": "FloatProgressModel",
            "_view_count": null,
            "_view_module": "@jupyter-widgets/controls",
            "_view_module_version": "1.5.0",
            "_view_name": "ProgressView",
            "bar_style": "success",
            "description": "100%",
            "description_tooltip": null,
            "layout": "IPY_MODEL_6ead9a3f5c414e999f7b15f41ad99dfa",
            "max": 6040,
            "min": 0,
            "orientation": "horizontal",
            "style": "IPY_MODEL_d7ca224202954536bfabc4f5b6b01cdd",
            "value": 6040
          }
        },
        "9a4a5f98e2f64f0eb3542178dbab86bb": {
          "model_module": "@jupyter-widgets/controls",
          "model_name": "HTMLModel",
          "state": {
            "_dom_classes": [],
            "_model_module": "@jupyter-widgets/controls",
            "_model_module_version": "1.5.0",
            "_model_name": "HTMLModel",
            "_view_count": null,
            "_view_module": "@jupyter-widgets/controls",
            "_view_module_version": "1.5.0",
            "_view_name": "HTMLView",
            "description": "",
            "description_tooltip": null,
            "layout": "IPY_MODEL_55d7a9d11476459d82e1c3dd277ff6d7",
            "placeholder": "​",
            "style": "IPY_MODEL_89c7aa2934c34c278668687451b00cde",
            "value": " 6040/6040 [01:14&lt;00:00, 81.02it/s]"
          }
        },
        "26caacfcfdb14f93a314f94b2d0c4eca": {
          "model_module": "@jupyter-widgets/base",
          "model_name": "LayoutModel",
          "state": {
            "_model_module": "@jupyter-widgets/base",
            "_model_module_version": "1.2.0",
            "_model_name": "LayoutModel",
            "_view_count": null,
            "_view_module": "@jupyter-widgets/base",
            "_view_module_version": "1.2.0",
            "_view_name": "LayoutView",
            "align_content": null,
            "align_items": null,
            "align_self": null,
            "border": null,
            "bottom": null,
            "display": null,
            "flex": null,
            "flex_flow": null,
            "grid_area": null,
            "grid_auto_columns": null,
            "grid_auto_flow": null,
            "grid_auto_rows": null,
            "grid_column": null,
            "grid_gap": null,
            "grid_row": null,
            "grid_template_areas": null,
            "grid_template_columns": null,
            "grid_template_rows": null,
            "height": null,
            "justify_content": null,
            "justify_items": null,
            "left": null,
            "margin": null,
            "max_height": null,
            "max_width": null,
            "min_height": null,
            "min_width": null,
            "object_fit": null,
            "object_position": null,
            "order": null,
            "overflow": null,
            "overflow_x": null,
            "overflow_y": null,
            "padding": null,
            "right": null,
            "top": null,
            "visibility": null,
            "width": null
          }
        },
        "6ead9a3f5c414e999f7b15f41ad99dfa": {
          "model_module": "@jupyter-widgets/base",
          "model_name": "LayoutModel",
          "state": {
            "_model_module": "@jupyter-widgets/base",
            "_model_module_version": "1.2.0",
            "_model_name": "LayoutModel",
            "_view_count": null,
            "_view_module": "@jupyter-widgets/base",
            "_view_module_version": "1.2.0",
            "_view_name": "LayoutView",
            "align_content": null,
            "align_items": null,
            "align_self": null,
            "border": null,
            "bottom": null,
            "display": null,
            "flex": null,
            "flex_flow": null,
            "grid_area": null,
            "grid_auto_columns": null,
            "grid_auto_flow": null,
            "grid_auto_rows": null,
            "grid_column": null,
            "grid_gap": null,
            "grid_row": null,
            "grid_template_areas": null,
            "grid_template_columns": null,
            "grid_template_rows": null,
            "height": null,
            "justify_content": null,
            "justify_items": null,
            "left": null,
            "margin": null,
            "max_height": null,
            "max_width": null,
            "min_height": null,
            "min_width": null,
            "object_fit": null,
            "object_position": null,
            "order": null,
            "overflow": null,
            "overflow_x": null,
            "overflow_y": null,
            "padding": null,
            "right": null,
            "top": null,
            "visibility": null,
            "width": null
          }
        },
        "d7ca224202954536bfabc4f5b6b01cdd": {
          "model_module": "@jupyter-widgets/controls",
          "model_name": "ProgressStyleModel",
          "state": {
            "_model_module": "@jupyter-widgets/controls",
            "_model_module_version": "1.5.0",
            "_model_name": "ProgressStyleModel",
            "_view_count": null,
            "_view_module": "@jupyter-widgets/base",
            "_view_module_version": "1.2.0",
            "_view_name": "StyleView",
            "bar_color": null,
            "description_width": "initial"
          }
        },
        "55d7a9d11476459d82e1c3dd277ff6d7": {
          "model_module": "@jupyter-widgets/base",
          "model_name": "LayoutModel",
          "state": {
            "_model_module": "@jupyter-widgets/base",
            "_model_module_version": "1.2.0",
            "_model_name": "LayoutModel",
            "_view_count": null,
            "_view_module": "@jupyter-widgets/base",
            "_view_module_version": "1.2.0",
            "_view_name": "LayoutView",
            "align_content": null,
            "align_items": null,
            "align_self": null,
            "border": null,
            "bottom": null,
            "display": null,
            "flex": null,
            "flex_flow": null,
            "grid_area": null,
            "grid_auto_columns": null,
            "grid_auto_flow": null,
            "grid_auto_rows": null,
            "grid_column": null,
            "grid_gap": null,
            "grid_row": null,
            "grid_template_areas": null,
            "grid_template_columns": null,
            "grid_template_rows": null,
            "height": null,
            "justify_content": null,
            "justify_items": null,
            "left": null,
            "margin": null,
            "max_height": null,
            "max_width": null,
            "min_height": null,
            "min_width": null,
            "object_fit": null,
            "object_position": null,
            "order": null,
            "overflow": null,
            "overflow_x": null,
            "overflow_y": null,
            "padding": null,
            "right": null,
            "top": null,
            "visibility": null,
            "width": null
          }
        },
        "89c7aa2934c34c278668687451b00cde": {
          "model_module": "@jupyter-widgets/controls",
          "model_name": "DescriptionStyleModel",
          "state": {
            "_model_module": "@jupyter-widgets/controls",
            "_model_module_version": "1.5.0",
            "_model_name": "DescriptionStyleModel",
            "_view_count": null,
            "_view_module": "@jupyter-widgets/base",
            "_view_module_version": "1.2.0",
            "_view_name": "StyleView",
            "description_width": ""
          }
        },
        "d4faabcffaf84567bd8705e033f39be0": {
          "model_module": "@jupyter-widgets/controls",
          "model_name": "HBoxModel",
          "state": {
            "_dom_classes": [],
            "_model_module": "@jupyter-widgets/controls",
            "_model_module_version": "1.5.0",
            "_model_name": "HBoxModel",
            "_view_count": null,
            "_view_module": "@jupyter-widgets/controls",
            "_view_module_version": "1.5.0",
            "_view_name": "HBoxView",
            "box_style": "",
            "children": [
              "IPY_MODEL_53315174260d4080a93f467ca7bee85f",
              "IPY_MODEL_a7a609e041964647a0f28fc3e23f7766"
            ],
            "layout": "IPY_MODEL_d12b4fbea39b4529968be17179633d11"
          }
        },
        "53315174260d4080a93f467ca7bee85f": {
          "model_module": "@jupyter-widgets/controls",
          "model_name": "FloatProgressModel",
          "state": {
            "_dom_classes": [],
            "_model_module": "@jupyter-widgets/controls",
            "_model_module_version": "1.5.0",
            "_model_name": "FloatProgressModel",
            "_view_count": null,
            "_view_module": "@jupyter-widgets/controls",
            "_view_module_version": "1.5.0",
            "_view_name": "ProgressView",
            "bar_style": "success",
            "description": "100%",
            "description_tooltip": null,
            "layout": "IPY_MODEL_6e15ff30db694f87bfddf318af7586dc",
            "max": 50,
            "min": 0,
            "orientation": "horizontal",
            "style": "IPY_MODEL_9f4e96a239db4211911b493812dff946",
            "value": 50
          }
        },
        "a7a609e041964647a0f28fc3e23f7766": {
          "model_module": "@jupyter-widgets/controls",
          "model_name": "HTMLModel",
          "state": {
            "_dom_classes": [],
            "_model_module": "@jupyter-widgets/controls",
            "_model_module_version": "1.5.0",
            "_model_name": "HTMLModel",
            "_view_count": null,
            "_view_module": "@jupyter-widgets/controls",
            "_view_module_version": "1.5.0",
            "_view_name": "HTMLView",
            "description": "",
            "description_tooltip": null,
            "layout": "IPY_MODEL_878dc9ae82e042b09fed776420d6f13d",
            "placeholder": "​",
            "style": "IPY_MODEL_afbe3f0a957b446f9a303ab9986b0fbb",
            "value": " 50/50 [10:10&lt;00:00, 12.21s/it]"
          }
        },
        "d12b4fbea39b4529968be17179633d11": {
          "model_module": "@jupyter-widgets/base",
          "model_name": "LayoutModel",
          "state": {
            "_model_module": "@jupyter-widgets/base",
            "_model_module_version": "1.2.0",
            "_model_name": "LayoutModel",
            "_view_count": null,
            "_view_module": "@jupyter-widgets/base",
            "_view_module_version": "1.2.0",
            "_view_name": "LayoutView",
            "align_content": null,
            "align_items": null,
            "align_self": null,
            "border": null,
            "bottom": null,
            "display": null,
            "flex": null,
            "flex_flow": null,
            "grid_area": null,
            "grid_auto_columns": null,
            "grid_auto_flow": null,
            "grid_auto_rows": null,
            "grid_column": null,
            "grid_gap": null,
            "grid_row": null,
            "grid_template_areas": null,
            "grid_template_columns": null,
            "grid_template_rows": null,
            "height": null,
            "justify_content": null,
            "justify_items": null,
            "left": null,
            "margin": null,
            "max_height": null,
            "max_width": null,
            "min_height": null,
            "min_width": null,
            "object_fit": null,
            "object_position": null,
            "order": null,
            "overflow": null,
            "overflow_x": null,
            "overflow_y": null,
            "padding": null,
            "right": null,
            "top": null,
            "visibility": null,
            "width": null
          }
        },
        "6e15ff30db694f87bfddf318af7586dc": {
          "model_module": "@jupyter-widgets/base",
          "model_name": "LayoutModel",
          "state": {
            "_model_module": "@jupyter-widgets/base",
            "_model_module_version": "1.2.0",
            "_model_name": "LayoutModel",
            "_view_count": null,
            "_view_module": "@jupyter-widgets/base",
            "_view_module_version": "1.2.0",
            "_view_name": "LayoutView",
            "align_content": null,
            "align_items": null,
            "align_self": null,
            "border": null,
            "bottom": null,
            "display": null,
            "flex": null,
            "flex_flow": null,
            "grid_area": null,
            "grid_auto_columns": null,
            "grid_auto_flow": null,
            "grid_auto_rows": null,
            "grid_column": null,
            "grid_gap": null,
            "grid_row": null,
            "grid_template_areas": null,
            "grid_template_columns": null,
            "grid_template_rows": null,
            "height": null,
            "justify_content": null,
            "justify_items": null,
            "left": null,
            "margin": null,
            "max_height": null,
            "max_width": null,
            "min_height": null,
            "min_width": null,
            "object_fit": null,
            "object_position": null,
            "order": null,
            "overflow": null,
            "overflow_x": null,
            "overflow_y": null,
            "padding": null,
            "right": null,
            "top": null,
            "visibility": null,
            "width": null
          }
        },
        "9f4e96a239db4211911b493812dff946": {
          "model_module": "@jupyter-widgets/controls",
          "model_name": "ProgressStyleModel",
          "state": {
            "_model_module": "@jupyter-widgets/controls",
            "_model_module_version": "1.5.0",
            "_model_name": "ProgressStyleModel",
            "_view_count": null,
            "_view_module": "@jupyter-widgets/base",
            "_view_module_version": "1.2.0",
            "_view_name": "StyleView",
            "bar_color": null,
            "description_width": "initial"
          }
        },
        "878dc9ae82e042b09fed776420d6f13d": {
          "model_module": "@jupyter-widgets/base",
          "model_name": "LayoutModel",
          "state": {
            "_model_module": "@jupyter-widgets/base",
            "_model_module_version": "1.2.0",
            "_model_name": "LayoutModel",
            "_view_count": null,
            "_view_module": "@jupyter-widgets/base",
            "_view_module_version": "1.2.0",
            "_view_name": "LayoutView",
            "align_content": null,
            "align_items": null,
            "align_self": null,
            "border": null,
            "bottom": null,
            "display": null,
            "flex": null,
            "flex_flow": null,
            "grid_area": null,
            "grid_auto_columns": null,
            "grid_auto_flow": null,
            "grid_auto_rows": null,
            "grid_column": null,
            "grid_gap": null,
            "grid_row": null,
            "grid_template_areas": null,
            "grid_template_columns": null,
            "grid_template_rows": null,
            "height": null,
            "justify_content": null,
            "justify_items": null,
            "left": null,
            "margin": null,
            "max_height": null,
            "max_width": null,
            "min_height": null,
            "min_width": null,
            "object_fit": null,
            "object_position": null,
            "order": null,
            "overflow": null,
            "overflow_x": null,
            "overflow_y": null,
            "padding": null,
            "right": null,
            "top": null,
            "visibility": null,
            "width": null
          }
        },
        "afbe3f0a957b446f9a303ab9986b0fbb": {
          "model_module": "@jupyter-widgets/controls",
          "model_name": "DescriptionStyleModel",
          "state": {
            "_model_module": "@jupyter-widgets/controls",
            "_model_module_version": "1.5.0",
            "_model_name": "DescriptionStyleModel",
            "_view_count": null,
            "_view_module": "@jupyter-widgets/base",
            "_view_module_version": "1.2.0",
            "_view_name": "StyleView",
            "description_width": ""
          }
        },
        "6ce869029a9148bd9cbfb49d3a714277": {
          "model_module": "@jupyter-widgets/controls",
          "model_name": "HBoxModel",
          "state": {
            "_dom_classes": [],
            "_model_module": "@jupyter-widgets/controls",
            "_model_module_version": "1.5.0",
            "_model_name": "HBoxModel",
            "_view_count": null,
            "_view_module": "@jupyter-widgets/controls",
            "_view_module_version": "1.5.0",
            "_view_name": "HBoxView",
            "box_style": "",
            "children": [
              "IPY_MODEL_a39db6e7ddfe4e60b6ee1993bfee7cf3",
              "IPY_MODEL_38d561f295704453bd859e073093097f"
            ],
            "layout": "IPY_MODEL_71154a7cd3de4e72913706eb120ddfbd"
          }
        },
        "a39db6e7ddfe4e60b6ee1993bfee7cf3": {
          "model_module": "@jupyter-widgets/controls",
          "model_name": "FloatProgressModel",
          "state": {
            "_dom_classes": [],
            "_model_module": "@jupyter-widgets/controls",
            "_model_module_version": "1.5.0",
            "_model_name": "FloatProgressModel",
            "_view_count": null,
            "_view_module": "@jupyter-widgets/controls",
            "_view_module_version": "1.5.0",
            "_view_name": "ProgressView",
            "bar_style": "success",
            "description": "100%",
            "description_tooltip": null,
            "layout": "IPY_MODEL_218e3c3631684995a8a1aeb9d7ae95e9",
            "max": 6040,
            "min": 0,
            "orientation": "horizontal",
            "style": "IPY_MODEL_6d3abb311c0f48c0a312a6b8f7ec8fda",
            "value": 6040
          }
        },
        "38d561f295704453bd859e073093097f": {
          "model_module": "@jupyter-widgets/controls",
          "model_name": "HTMLModel",
          "state": {
            "_dom_classes": [],
            "_model_module": "@jupyter-widgets/controls",
            "_model_module_version": "1.5.0",
            "_model_name": "HTMLModel",
            "_view_count": null,
            "_view_module": "@jupyter-widgets/controls",
            "_view_module_version": "1.5.0",
            "_view_name": "HTMLView",
            "description": "",
            "description_tooltip": null,
            "layout": "IPY_MODEL_3136e77c8c1646a8921ba9df2511d66e",
            "placeholder": "​",
            "style": "IPY_MODEL_4cf81770105a4a4594eaa8fbeb96c575",
            "value": " 6040/6040 [00:50&lt;00:00, 120.54it/s]"
          }
        },
        "71154a7cd3de4e72913706eb120ddfbd": {
          "model_module": "@jupyter-widgets/base",
          "model_name": "LayoutModel",
          "state": {
            "_model_module": "@jupyter-widgets/base",
            "_model_module_version": "1.2.0",
            "_model_name": "LayoutModel",
            "_view_count": null,
            "_view_module": "@jupyter-widgets/base",
            "_view_module_version": "1.2.0",
            "_view_name": "LayoutView",
            "align_content": null,
            "align_items": null,
            "align_self": null,
            "border": null,
            "bottom": null,
            "display": null,
            "flex": null,
            "flex_flow": null,
            "grid_area": null,
            "grid_auto_columns": null,
            "grid_auto_flow": null,
            "grid_auto_rows": null,
            "grid_column": null,
            "grid_gap": null,
            "grid_row": null,
            "grid_template_areas": null,
            "grid_template_columns": null,
            "grid_template_rows": null,
            "height": null,
            "justify_content": null,
            "justify_items": null,
            "left": null,
            "margin": null,
            "max_height": null,
            "max_width": null,
            "min_height": null,
            "min_width": null,
            "object_fit": null,
            "object_position": null,
            "order": null,
            "overflow": null,
            "overflow_x": null,
            "overflow_y": null,
            "padding": null,
            "right": null,
            "top": null,
            "visibility": null,
            "width": null
          }
        },
        "218e3c3631684995a8a1aeb9d7ae95e9": {
          "model_module": "@jupyter-widgets/base",
          "model_name": "LayoutModel",
          "state": {
            "_model_module": "@jupyter-widgets/base",
            "_model_module_version": "1.2.0",
            "_model_name": "LayoutModel",
            "_view_count": null,
            "_view_module": "@jupyter-widgets/base",
            "_view_module_version": "1.2.0",
            "_view_name": "LayoutView",
            "align_content": null,
            "align_items": null,
            "align_self": null,
            "border": null,
            "bottom": null,
            "display": null,
            "flex": null,
            "flex_flow": null,
            "grid_area": null,
            "grid_auto_columns": null,
            "grid_auto_flow": null,
            "grid_auto_rows": null,
            "grid_column": null,
            "grid_gap": null,
            "grid_row": null,
            "grid_template_areas": null,
            "grid_template_columns": null,
            "grid_template_rows": null,
            "height": null,
            "justify_content": null,
            "justify_items": null,
            "left": null,
            "margin": null,
            "max_height": null,
            "max_width": null,
            "min_height": null,
            "min_width": null,
            "object_fit": null,
            "object_position": null,
            "order": null,
            "overflow": null,
            "overflow_x": null,
            "overflow_y": null,
            "padding": null,
            "right": null,
            "top": null,
            "visibility": null,
            "width": null
          }
        },
        "6d3abb311c0f48c0a312a6b8f7ec8fda": {
          "model_module": "@jupyter-widgets/controls",
          "model_name": "ProgressStyleModel",
          "state": {
            "_model_module": "@jupyter-widgets/controls",
            "_model_module_version": "1.5.0",
            "_model_name": "ProgressStyleModel",
            "_view_count": null,
            "_view_module": "@jupyter-widgets/base",
            "_view_module_version": "1.2.0",
            "_view_name": "StyleView",
            "bar_color": null,
            "description_width": "initial"
          }
        },
        "3136e77c8c1646a8921ba9df2511d66e": {
          "model_module": "@jupyter-widgets/base",
          "model_name": "LayoutModel",
          "state": {
            "_model_module": "@jupyter-widgets/base",
            "_model_module_version": "1.2.0",
            "_model_name": "LayoutModel",
            "_view_count": null,
            "_view_module": "@jupyter-widgets/base",
            "_view_module_version": "1.2.0",
            "_view_name": "LayoutView",
            "align_content": null,
            "align_items": null,
            "align_self": null,
            "border": null,
            "bottom": null,
            "display": null,
            "flex": null,
            "flex_flow": null,
            "grid_area": null,
            "grid_auto_columns": null,
            "grid_auto_flow": null,
            "grid_auto_rows": null,
            "grid_column": null,
            "grid_gap": null,
            "grid_row": null,
            "grid_template_areas": null,
            "grid_template_columns": null,
            "grid_template_rows": null,
            "height": null,
            "justify_content": null,
            "justify_items": null,
            "left": null,
            "margin": null,
            "max_height": null,
            "max_width": null,
            "min_height": null,
            "min_width": null,
            "object_fit": null,
            "object_position": null,
            "order": null,
            "overflow": null,
            "overflow_x": null,
            "overflow_y": null,
            "padding": null,
            "right": null,
            "top": null,
            "visibility": null,
            "width": null
          }
        },
        "4cf81770105a4a4594eaa8fbeb96c575": {
          "model_module": "@jupyter-widgets/controls",
          "model_name": "DescriptionStyleModel",
          "state": {
            "_model_module": "@jupyter-widgets/controls",
            "_model_module_version": "1.5.0",
            "_model_name": "DescriptionStyleModel",
            "_view_count": null,
            "_view_module": "@jupyter-widgets/base",
            "_view_module_version": "1.2.0",
            "_view_name": "StyleView",
            "description_width": ""
          }
        },
        "df05dbc244a04757be785119f578ae56": {
          "model_module": "@jupyter-widgets/controls",
          "model_name": "HBoxModel",
          "state": {
            "_dom_classes": [],
            "_model_module": "@jupyter-widgets/controls",
            "_model_module_version": "1.5.0",
            "_model_name": "HBoxModel",
            "_view_count": null,
            "_view_module": "@jupyter-widgets/controls",
            "_view_module_version": "1.5.0",
            "_view_name": "HBoxView",
            "box_style": "",
            "children": [
              "IPY_MODEL_674bb790c7284f1fb831cde80bce21f0",
              "IPY_MODEL_6f3cb9ebba0a4c579a3c4b1905bbcd97"
            ],
            "layout": "IPY_MODEL_399d3bd1ba234d3aa0213f15e4648ab9"
          }
        },
        "674bb790c7284f1fb831cde80bce21f0": {
          "model_module": "@jupyter-widgets/controls",
          "model_name": "FloatProgressModel",
          "state": {
            "_dom_classes": [],
            "_model_module": "@jupyter-widgets/controls",
            "_model_module_version": "1.5.0",
            "_model_name": "FloatProgressModel",
            "_view_count": null,
            "_view_module": "@jupyter-widgets/controls",
            "_view_module_version": "1.5.0",
            "_view_name": "ProgressView",
            "bar_style": "success",
            "description": "100%",
            "description_tooltip": null,
            "layout": "IPY_MODEL_a1efb6a9eacd4e8db34999cfe0dadd7b",
            "max": 50,
            "min": 0,
            "orientation": "horizontal",
            "style": "IPY_MODEL_de3f8640435d4d70addf83244ff97315",
            "value": 50
          }
        },
        "6f3cb9ebba0a4c579a3c4b1905bbcd97": {
          "model_module": "@jupyter-widgets/controls",
          "model_name": "HTMLModel",
          "state": {
            "_dom_classes": [],
            "_model_module": "@jupyter-widgets/controls",
            "_model_module_version": "1.5.0",
            "_model_name": "HTMLModel",
            "_view_count": null,
            "_view_module": "@jupyter-widgets/controls",
            "_view_module_version": "1.5.0",
            "_view_name": "HTMLView",
            "description": "",
            "description_tooltip": null,
            "layout": "IPY_MODEL_d55750ad1533423dbbb5ed7ec65ce876",
            "placeholder": "​",
            "style": "IPY_MODEL_5f2d6a8619a9453999cf05a0e73df137",
            "value": " 50/50 [16:08&lt;00:00, 19.37s/it]"
          }
        },
        "399d3bd1ba234d3aa0213f15e4648ab9": {
          "model_module": "@jupyter-widgets/base",
          "model_name": "LayoutModel",
          "state": {
            "_model_module": "@jupyter-widgets/base",
            "_model_module_version": "1.2.0",
            "_model_name": "LayoutModel",
            "_view_count": null,
            "_view_module": "@jupyter-widgets/base",
            "_view_module_version": "1.2.0",
            "_view_name": "LayoutView",
            "align_content": null,
            "align_items": null,
            "align_self": null,
            "border": null,
            "bottom": null,
            "display": null,
            "flex": null,
            "flex_flow": null,
            "grid_area": null,
            "grid_auto_columns": null,
            "grid_auto_flow": null,
            "grid_auto_rows": null,
            "grid_column": null,
            "grid_gap": null,
            "grid_row": null,
            "grid_template_areas": null,
            "grid_template_columns": null,
            "grid_template_rows": null,
            "height": null,
            "justify_content": null,
            "justify_items": null,
            "left": null,
            "margin": null,
            "max_height": null,
            "max_width": null,
            "min_height": null,
            "min_width": null,
            "object_fit": null,
            "object_position": null,
            "order": null,
            "overflow": null,
            "overflow_x": null,
            "overflow_y": null,
            "padding": null,
            "right": null,
            "top": null,
            "visibility": null,
            "width": null
          }
        },
        "a1efb6a9eacd4e8db34999cfe0dadd7b": {
          "model_module": "@jupyter-widgets/base",
          "model_name": "LayoutModel",
          "state": {
            "_model_module": "@jupyter-widgets/base",
            "_model_module_version": "1.2.0",
            "_model_name": "LayoutModel",
            "_view_count": null,
            "_view_module": "@jupyter-widgets/base",
            "_view_module_version": "1.2.0",
            "_view_name": "LayoutView",
            "align_content": null,
            "align_items": null,
            "align_self": null,
            "border": null,
            "bottom": null,
            "display": null,
            "flex": null,
            "flex_flow": null,
            "grid_area": null,
            "grid_auto_columns": null,
            "grid_auto_flow": null,
            "grid_auto_rows": null,
            "grid_column": null,
            "grid_gap": null,
            "grid_row": null,
            "grid_template_areas": null,
            "grid_template_columns": null,
            "grid_template_rows": null,
            "height": null,
            "justify_content": null,
            "justify_items": null,
            "left": null,
            "margin": null,
            "max_height": null,
            "max_width": null,
            "min_height": null,
            "min_width": null,
            "object_fit": null,
            "object_position": null,
            "order": null,
            "overflow": null,
            "overflow_x": null,
            "overflow_y": null,
            "padding": null,
            "right": null,
            "top": null,
            "visibility": null,
            "width": null
          }
        },
        "de3f8640435d4d70addf83244ff97315": {
          "model_module": "@jupyter-widgets/controls",
          "model_name": "ProgressStyleModel",
          "state": {
            "_model_module": "@jupyter-widgets/controls",
            "_model_module_version": "1.5.0",
            "_model_name": "ProgressStyleModel",
            "_view_count": null,
            "_view_module": "@jupyter-widgets/base",
            "_view_module_version": "1.2.0",
            "_view_name": "StyleView",
            "bar_color": null,
            "description_width": "initial"
          }
        },
        "d55750ad1533423dbbb5ed7ec65ce876": {
          "model_module": "@jupyter-widgets/base",
          "model_name": "LayoutModel",
          "state": {
            "_model_module": "@jupyter-widgets/base",
            "_model_module_version": "1.2.0",
            "_model_name": "LayoutModel",
            "_view_count": null,
            "_view_module": "@jupyter-widgets/base",
            "_view_module_version": "1.2.0",
            "_view_name": "LayoutView",
            "align_content": null,
            "align_items": null,
            "align_self": null,
            "border": null,
            "bottom": null,
            "display": null,
            "flex": null,
            "flex_flow": null,
            "grid_area": null,
            "grid_auto_columns": null,
            "grid_auto_flow": null,
            "grid_auto_rows": null,
            "grid_column": null,
            "grid_gap": null,
            "grid_row": null,
            "grid_template_areas": null,
            "grid_template_columns": null,
            "grid_template_rows": null,
            "height": null,
            "justify_content": null,
            "justify_items": null,
            "left": null,
            "margin": null,
            "max_height": null,
            "max_width": null,
            "min_height": null,
            "min_width": null,
            "object_fit": null,
            "object_position": null,
            "order": null,
            "overflow": null,
            "overflow_x": null,
            "overflow_y": null,
            "padding": null,
            "right": null,
            "top": null,
            "visibility": null,
            "width": null
          }
        },
        "5f2d6a8619a9453999cf05a0e73df137": {
          "model_module": "@jupyter-widgets/controls",
          "model_name": "DescriptionStyleModel",
          "state": {
            "_model_module": "@jupyter-widgets/controls",
            "_model_module_version": "1.5.0",
            "_model_name": "DescriptionStyleModel",
            "_view_count": null,
            "_view_module": "@jupyter-widgets/base",
            "_view_module_version": "1.2.0",
            "_view_name": "StyleView",
            "description_width": ""
          }
        },
        "70205a296d844269a84941d1f240f0c6": {
          "model_module": "@jupyter-widgets/controls",
          "model_name": "HBoxModel",
          "state": {
            "_dom_classes": [],
            "_model_module": "@jupyter-widgets/controls",
            "_model_module_version": "1.5.0",
            "_model_name": "HBoxModel",
            "_view_count": null,
            "_view_module": "@jupyter-widgets/controls",
            "_view_module_version": "1.5.0",
            "_view_name": "HBoxView",
            "box_style": "",
            "children": [
              "IPY_MODEL_82875e7bad0e4c86aa3d01cfeeb6ae90",
              "IPY_MODEL_7fabe3adfb524547985936f4e23116c0"
            ],
            "layout": "IPY_MODEL_fdba1b98b75b482894c733e6c58f9dd0"
          }
        },
        "82875e7bad0e4c86aa3d01cfeeb6ae90": {
          "model_module": "@jupyter-widgets/controls",
          "model_name": "FloatProgressModel",
          "state": {
            "_dom_classes": [],
            "_model_module": "@jupyter-widgets/controls",
            "_model_module_version": "1.5.0",
            "_model_name": "FloatProgressModel",
            "_view_count": null,
            "_view_module": "@jupyter-widgets/controls",
            "_view_module_version": "1.5.0",
            "_view_name": "ProgressView",
            "bar_style": "success",
            "description": "100%",
            "description_tooltip": null,
            "layout": "IPY_MODEL_3c1a75d7a5334c8895ead5a85d93c337",
            "max": 6040,
            "min": 0,
            "orientation": "horizontal",
            "style": "IPY_MODEL_dd98ecb4b22041de92b18eb33089a89b",
            "value": 6040
          }
        },
        "7fabe3adfb524547985936f4e23116c0": {
          "model_module": "@jupyter-widgets/controls",
          "model_name": "HTMLModel",
          "state": {
            "_dom_classes": [],
            "_model_module": "@jupyter-widgets/controls",
            "_model_module_version": "1.5.0",
            "_model_name": "HTMLModel",
            "_view_count": null,
            "_view_module": "@jupyter-widgets/controls",
            "_view_module_version": "1.5.0",
            "_view_name": "HTMLView",
            "description": "",
            "description_tooltip": null,
            "layout": "IPY_MODEL_300e4d1dcc6b4f92896ce80313102955",
            "placeholder": "​",
            "style": "IPY_MODEL_1451158cfb5b4a589ee19728259f5a07",
            "value": " 6040/6040 [01:03&lt;00:00, 95.37it/s]"
          }
        },
        "fdba1b98b75b482894c733e6c58f9dd0": {
          "model_module": "@jupyter-widgets/base",
          "model_name": "LayoutModel",
          "state": {
            "_model_module": "@jupyter-widgets/base",
            "_model_module_version": "1.2.0",
            "_model_name": "LayoutModel",
            "_view_count": null,
            "_view_module": "@jupyter-widgets/base",
            "_view_module_version": "1.2.0",
            "_view_name": "LayoutView",
            "align_content": null,
            "align_items": null,
            "align_self": null,
            "border": null,
            "bottom": null,
            "display": null,
            "flex": null,
            "flex_flow": null,
            "grid_area": null,
            "grid_auto_columns": null,
            "grid_auto_flow": null,
            "grid_auto_rows": null,
            "grid_column": null,
            "grid_gap": null,
            "grid_row": null,
            "grid_template_areas": null,
            "grid_template_columns": null,
            "grid_template_rows": null,
            "height": null,
            "justify_content": null,
            "justify_items": null,
            "left": null,
            "margin": null,
            "max_height": null,
            "max_width": null,
            "min_height": null,
            "min_width": null,
            "object_fit": null,
            "object_position": null,
            "order": null,
            "overflow": null,
            "overflow_x": null,
            "overflow_y": null,
            "padding": null,
            "right": null,
            "top": null,
            "visibility": null,
            "width": null
          }
        },
        "3c1a75d7a5334c8895ead5a85d93c337": {
          "model_module": "@jupyter-widgets/base",
          "model_name": "LayoutModel",
          "state": {
            "_model_module": "@jupyter-widgets/base",
            "_model_module_version": "1.2.0",
            "_model_name": "LayoutModel",
            "_view_count": null,
            "_view_module": "@jupyter-widgets/base",
            "_view_module_version": "1.2.0",
            "_view_name": "LayoutView",
            "align_content": null,
            "align_items": null,
            "align_self": null,
            "border": null,
            "bottom": null,
            "display": null,
            "flex": null,
            "flex_flow": null,
            "grid_area": null,
            "grid_auto_columns": null,
            "grid_auto_flow": null,
            "grid_auto_rows": null,
            "grid_column": null,
            "grid_gap": null,
            "grid_row": null,
            "grid_template_areas": null,
            "grid_template_columns": null,
            "grid_template_rows": null,
            "height": null,
            "justify_content": null,
            "justify_items": null,
            "left": null,
            "margin": null,
            "max_height": null,
            "max_width": null,
            "min_height": null,
            "min_width": null,
            "object_fit": null,
            "object_position": null,
            "order": null,
            "overflow": null,
            "overflow_x": null,
            "overflow_y": null,
            "padding": null,
            "right": null,
            "top": null,
            "visibility": null,
            "width": null
          }
        },
        "dd98ecb4b22041de92b18eb33089a89b": {
          "model_module": "@jupyter-widgets/controls",
          "model_name": "ProgressStyleModel",
          "state": {
            "_model_module": "@jupyter-widgets/controls",
            "_model_module_version": "1.5.0",
            "_model_name": "ProgressStyleModel",
            "_view_count": null,
            "_view_module": "@jupyter-widgets/base",
            "_view_module_version": "1.2.0",
            "_view_name": "StyleView",
            "bar_color": null,
            "description_width": "initial"
          }
        },
        "300e4d1dcc6b4f92896ce80313102955": {
          "model_module": "@jupyter-widgets/base",
          "model_name": "LayoutModel",
          "state": {
            "_model_module": "@jupyter-widgets/base",
            "_model_module_version": "1.2.0",
            "_model_name": "LayoutModel",
            "_view_count": null,
            "_view_module": "@jupyter-widgets/base",
            "_view_module_version": "1.2.0",
            "_view_name": "LayoutView",
            "align_content": null,
            "align_items": null,
            "align_self": null,
            "border": null,
            "bottom": null,
            "display": null,
            "flex": null,
            "flex_flow": null,
            "grid_area": null,
            "grid_auto_columns": null,
            "grid_auto_flow": null,
            "grid_auto_rows": null,
            "grid_column": null,
            "grid_gap": null,
            "grid_row": null,
            "grid_template_areas": null,
            "grid_template_columns": null,
            "grid_template_rows": null,
            "height": null,
            "justify_content": null,
            "justify_items": null,
            "left": null,
            "margin": null,
            "max_height": null,
            "max_width": null,
            "min_height": null,
            "min_width": null,
            "object_fit": null,
            "object_position": null,
            "order": null,
            "overflow": null,
            "overflow_x": null,
            "overflow_y": null,
            "padding": null,
            "right": null,
            "top": null,
            "visibility": null,
            "width": null
          }
        },
        "1451158cfb5b4a589ee19728259f5a07": {
          "model_module": "@jupyter-widgets/controls",
          "model_name": "DescriptionStyleModel",
          "state": {
            "_model_module": "@jupyter-widgets/controls",
            "_model_module_version": "1.5.0",
            "_model_name": "DescriptionStyleModel",
            "_view_count": null,
            "_view_module": "@jupyter-widgets/base",
            "_view_module_version": "1.2.0",
            "_view_name": "StyleView",
            "description_width": ""
          }
        },
        "c7db87e60aab42528ef8a5c2ca7a4247": {
          "model_module": "@jupyter-widgets/controls",
          "model_name": "HBoxModel",
          "state": {
            "_view_name": "HBoxView",
            "_dom_classes": [],
            "_model_name": "HBoxModel",
            "_view_module": "@jupyter-widgets/controls",
            "_model_module_version": "1.5.0",
            "_view_count": null,
            "_view_module_version": "1.5.0",
            "box_style": "",
            "layout": "IPY_MODEL_063acadfc3b64371911e5f8e8b8c79f5",
            "_model_module": "@jupyter-widgets/controls",
            "children": [
              "IPY_MODEL_764ae31a299546108ed190b1a2bbbcfc",
              "IPY_MODEL_7a5ecf0b4910460cbff771b75ec58058"
            ]
          }
        },
        "063acadfc3b64371911e5f8e8b8c79f5": {
          "model_module": "@jupyter-widgets/base",
          "model_name": "LayoutModel",
          "state": {
            "_view_name": "LayoutView",
            "grid_template_rows": null,
            "right": null,
            "justify_content": null,
            "_view_module": "@jupyter-widgets/base",
            "overflow": null,
            "_model_module_version": "1.2.0",
            "_view_count": null,
            "flex_flow": null,
            "width": null,
            "min_width": null,
            "border": null,
            "align_items": null,
            "bottom": null,
            "_model_module": "@jupyter-widgets/base",
            "top": null,
            "grid_column": null,
            "overflow_y": null,
            "overflow_x": null,
            "grid_auto_flow": null,
            "grid_area": null,
            "grid_template_columns": null,
            "flex": null,
            "_model_name": "LayoutModel",
            "justify_items": null,
            "grid_row": null,
            "max_height": null,
            "align_content": null,
            "visibility": null,
            "align_self": null,
            "height": null,
            "min_height": null,
            "padding": null,
            "grid_auto_rows": null,
            "grid_gap": null,
            "max_width": null,
            "order": null,
            "_view_module_version": "1.2.0",
            "grid_template_areas": null,
            "object_position": null,
            "object_fit": null,
            "grid_auto_columns": null,
            "margin": null,
            "display": null,
            "left": null
          }
        },
        "764ae31a299546108ed190b1a2bbbcfc": {
          "model_module": "@jupyter-widgets/controls",
          "model_name": "FloatProgressModel",
          "state": {
            "_view_name": "ProgressView",
            "style": "IPY_MODEL_ed05f8510e544ee3bc8fa2115616f229",
            "_dom_classes": [],
            "description": "100%",
            "_model_name": "FloatProgressModel",
            "bar_style": "success",
            "max": 6040,
            "_view_module": "@jupyter-widgets/controls",
            "_model_module_version": "1.5.0",
            "value": 6040,
            "_view_count": null,
            "_view_module_version": "1.5.0",
            "orientation": "horizontal",
            "min": 0,
            "description_tooltip": null,
            "_model_module": "@jupyter-widgets/controls",
            "layout": "IPY_MODEL_6f2135932f734fc08b4315b974307510"
          }
        },
        "7a5ecf0b4910460cbff771b75ec58058": {
          "model_module": "@jupyter-widgets/controls",
          "model_name": "HTMLModel",
          "state": {
            "_view_name": "HTMLView",
            "style": "IPY_MODEL_03698c5a976046e7a7fd5d72c5e3990b",
            "_dom_classes": [],
            "description": "",
            "_model_name": "HTMLModel",
            "placeholder": "​",
            "_view_module": "@jupyter-widgets/controls",
            "_model_module_version": "1.5.0",
            "value": " 6040/6040 [40:19&lt;00:00,  2.50it/s]",
            "_view_count": null,
            "_view_module_version": "1.5.0",
            "description_tooltip": null,
            "_model_module": "@jupyter-widgets/controls",
            "layout": "IPY_MODEL_b1a5f98ee2614bdabc56467e283fe03d"
          }
        },
        "ed05f8510e544ee3bc8fa2115616f229": {
          "model_module": "@jupyter-widgets/controls",
          "model_name": "ProgressStyleModel",
          "state": {
            "_view_name": "StyleView",
            "_model_name": "ProgressStyleModel",
            "description_width": "initial",
            "_view_module": "@jupyter-widgets/base",
            "_model_module_version": "1.5.0",
            "_view_count": null,
            "_view_module_version": "1.2.0",
            "bar_color": null,
            "_model_module": "@jupyter-widgets/controls"
          }
        },
        "6f2135932f734fc08b4315b974307510": {
          "model_module": "@jupyter-widgets/base",
          "model_name": "LayoutModel",
          "state": {
            "_view_name": "LayoutView",
            "grid_template_rows": null,
            "right": null,
            "justify_content": null,
            "_view_module": "@jupyter-widgets/base",
            "overflow": null,
            "_model_module_version": "1.2.0",
            "_view_count": null,
            "flex_flow": null,
            "width": null,
            "min_width": null,
            "border": null,
            "align_items": null,
            "bottom": null,
            "_model_module": "@jupyter-widgets/base",
            "top": null,
            "grid_column": null,
            "overflow_y": null,
            "overflow_x": null,
            "grid_auto_flow": null,
            "grid_area": null,
            "grid_template_columns": null,
            "flex": null,
            "_model_name": "LayoutModel",
            "justify_items": null,
            "grid_row": null,
            "max_height": null,
            "align_content": null,
            "visibility": null,
            "align_self": null,
            "height": null,
            "min_height": null,
            "padding": null,
            "grid_auto_rows": null,
            "grid_gap": null,
            "max_width": null,
            "order": null,
            "_view_module_version": "1.2.0",
            "grid_template_areas": null,
            "object_position": null,
            "object_fit": null,
            "grid_auto_columns": null,
            "margin": null,
            "display": null,
            "left": null
          }
        },
        "03698c5a976046e7a7fd5d72c5e3990b": {
          "model_module": "@jupyter-widgets/controls",
          "model_name": "DescriptionStyleModel",
          "state": {
            "_view_name": "StyleView",
            "_model_name": "DescriptionStyleModel",
            "description_width": "",
            "_view_module": "@jupyter-widgets/base",
            "_model_module_version": "1.5.0",
            "_view_count": null,
            "_view_module_version": "1.2.0",
            "_model_module": "@jupyter-widgets/controls"
          }
        },
        "b1a5f98ee2614bdabc56467e283fe03d": {
          "model_module": "@jupyter-widgets/base",
          "model_name": "LayoutModel",
          "state": {
            "_view_name": "LayoutView",
            "grid_template_rows": null,
            "right": null,
            "justify_content": null,
            "_view_module": "@jupyter-widgets/base",
            "overflow": null,
            "_model_module_version": "1.2.0",
            "_view_count": null,
            "flex_flow": null,
            "width": null,
            "min_width": null,
            "border": null,
            "align_items": null,
            "bottom": null,
            "_model_module": "@jupyter-widgets/base",
            "top": null,
            "grid_column": null,
            "overflow_y": null,
            "overflow_x": null,
            "grid_auto_flow": null,
            "grid_area": null,
            "grid_template_columns": null,
            "flex": null,
            "_model_name": "LayoutModel",
            "justify_items": null,
            "grid_row": null,
            "max_height": null,
            "align_content": null,
            "visibility": null,
            "align_self": null,
            "height": null,
            "min_height": null,
            "padding": null,
            "grid_auto_rows": null,
            "grid_gap": null,
            "max_width": null,
            "order": null,
            "_view_module_version": "1.2.0",
            "grid_template_areas": null,
            "object_position": null,
            "object_fit": null,
            "grid_auto_columns": null,
            "margin": null,
            "display": null,
            "left": null
          }
        },
        "ac4124a6b2024e95b01f5bb38044a967": {
          "model_module": "@jupyter-widgets/controls",
          "model_name": "HBoxModel",
          "state": {
            "_view_name": "HBoxView",
            "_dom_classes": [],
            "_model_name": "HBoxModel",
            "_view_module": "@jupyter-widgets/controls",
            "_model_module_version": "1.5.0",
            "_view_count": null,
            "_view_module_version": "1.5.0",
            "box_style": "",
            "layout": "IPY_MODEL_a94aa959905b4dccaf07dbae2bb871af",
            "_model_module": "@jupyter-widgets/controls",
            "children": [
              "IPY_MODEL_b50d4fb26aba466cbb8bbc66b7afc01f",
              "IPY_MODEL_1ad7e8074ee644c788446bde9f42c972"
            ]
          }
        },
        "a94aa959905b4dccaf07dbae2bb871af": {
          "model_module": "@jupyter-widgets/base",
          "model_name": "LayoutModel",
          "state": {
            "_view_name": "LayoutView",
            "grid_template_rows": null,
            "right": null,
            "justify_content": null,
            "_view_module": "@jupyter-widgets/base",
            "overflow": null,
            "_model_module_version": "1.2.0",
            "_view_count": null,
            "flex_flow": null,
            "width": null,
            "min_width": null,
            "border": null,
            "align_items": null,
            "bottom": null,
            "_model_module": "@jupyter-widgets/base",
            "top": null,
            "grid_column": null,
            "overflow_y": null,
            "overflow_x": null,
            "grid_auto_flow": null,
            "grid_area": null,
            "grid_template_columns": null,
            "flex": null,
            "_model_name": "LayoutModel",
            "justify_items": null,
            "grid_row": null,
            "max_height": null,
            "align_content": null,
            "visibility": null,
            "align_self": null,
            "height": null,
            "min_height": null,
            "padding": null,
            "grid_auto_rows": null,
            "grid_gap": null,
            "max_width": null,
            "order": null,
            "_view_module_version": "1.2.0",
            "grid_template_areas": null,
            "object_position": null,
            "object_fit": null,
            "grid_auto_columns": null,
            "margin": null,
            "display": null,
            "left": null
          }
        },
        "b50d4fb26aba466cbb8bbc66b7afc01f": {
          "model_module": "@jupyter-widgets/controls",
          "model_name": "FloatProgressModel",
          "state": {
            "_view_name": "ProgressView",
            "style": "IPY_MODEL_d1987aca772848e2834c8504229a89c0",
            "_dom_classes": [],
            "description": "100%",
            "_model_name": "FloatProgressModel",
            "bar_style": "success",
            "max": 20,
            "_view_module": "@jupyter-widgets/controls",
            "_model_module_version": "1.5.0",
            "value": 20,
            "_view_count": null,
            "_view_module_version": "1.5.0",
            "orientation": "horizontal",
            "min": 0,
            "description_tooltip": null,
            "_model_module": "@jupyter-widgets/controls",
            "layout": "IPY_MODEL_f5b8b1ff665347d4bac16a7f445078a4"
          }
        },
        "1ad7e8074ee644c788446bde9f42c972": {
          "model_module": "@jupyter-widgets/controls",
          "model_name": "HTMLModel",
          "state": {
            "_view_name": "HTMLView",
            "style": "IPY_MODEL_6f85daf320d740be94a4e77bf8e4e3ce",
            "_dom_classes": [],
            "description": "",
            "_model_name": "HTMLModel",
            "placeholder": "​",
            "_view_module": "@jupyter-widgets/controls",
            "_model_module_version": "1.5.0",
            "value": " 20/20 [02:45&lt;00:00,  8.29s/it]",
            "_view_count": null,
            "_view_module_version": "1.5.0",
            "description_tooltip": null,
            "_model_module": "@jupyter-widgets/controls",
            "layout": "IPY_MODEL_8fcc389a251d4aef8cbabea00f44db44"
          }
        },
        "d1987aca772848e2834c8504229a89c0": {
          "model_module": "@jupyter-widgets/controls",
          "model_name": "ProgressStyleModel",
          "state": {
            "_view_name": "StyleView",
            "_model_name": "ProgressStyleModel",
            "description_width": "initial",
            "_view_module": "@jupyter-widgets/base",
            "_model_module_version": "1.5.0",
            "_view_count": null,
            "_view_module_version": "1.2.0",
            "bar_color": null,
            "_model_module": "@jupyter-widgets/controls"
          }
        },
        "f5b8b1ff665347d4bac16a7f445078a4": {
          "model_module": "@jupyter-widgets/base",
          "model_name": "LayoutModel",
          "state": {
            "_view_name": "LayoutView",
            "grid_template_rows": null,
            "right": null,
            "justify_content": null,
            "_view_module": "@jupyter-widgets/base",
            "overflow": null,
            "_model_module_version": "1.2.0",
            "_view_count": null,
            "flex_flow": null,
            "width": null,
            "min_width": null,
            "border": null,
            "align_items": null,
            "bottom": null,
            "_model_module": "@jupyter-widgets/base",
            "top": null,
            "grid_column": null,
            "overflow_y": null,
            "overflow_x": null,
            "grid_auto_flow": null,
            "grid_area": null,
            "grid_template_columns": null,
            "flex": null,
            "_model_name": "LayoutModel",
            "justify_items": null,
            "grid_row": null,
            "max_height": null,
            "align_content": null,
            "visibility": null,
            "align_self": null,
            "height": null,
            "min_height": null,
            "padding": null,
            "grid_auto_rows": null,
            "grid_gap": null,
            "max_width": null,
            "order": null,
            "_view_module_version": "1.2.0",
            "grid_template_areas": null,
            "object_position": null,
            "object_fit": null,
            "grid_auto_columns": null,
            "margin": null,
            "display": null,
            "left": null
          }
        },
        "6f85daf320d740be94a4e77bf8e4e3ce": {
          "model_module": "@jupyter-widgets/controls",
          "model_name": "DescriptionStyleModel",
          "state": {
            "_view_name": "StyleView",
            "_model_name": "DescriptionStyleModel",
            "description_width": "",
            "_view_module": "@jupyter-widgets/base",
            "_model_module_version": "1.5.0",
            "_view_count": null,
            "_view_module_version": "1.2.0",
            "_model_module": "@jupyter-widgets/controls"
          }
        },
        "8fcc389a251d4aef8cbabea00f44db44": {
          "model_module": "@jupyter-widgets/base",
          "model_name": "LayoutModel",
          "state": {
            "_view_name": "LayoutView",
            "grid_template_rows": null,
            "right": null,
            "justify_content": null,
            "_view_module": "@jupyter-widgets/base",
            "overflow": null,
            "_model_module_version": "1.2.0",
            "_view_count": null,
            "flex_flow": null,
            "width": null,
            "min_width": null,
            "border": null,
            "align_items": null,
            "bottom": null,
            "_model_module": "@jupyter-widgets/base",
            "top": null,
            "grid_column": null,
            "overflow_y": null,
            "overflow_x": null,
            "grid_auto_flow": null,
            "grid_area": null,
            "grid_template_columns": null,
            "flex": null,
            "_model_name": "LayoutModel",
            "justify_items": null,
            "grid_row": null,
            "max_height": null,
            "align_content": null,
            "visibility": null,
            "align_self": null,
            "height": null,
            "min_height": null,
            "padding": null,
            "grid_auto_rows": null,
            "grid_gap": null,
            "max_width": null,
            "order": null,
            "_view_module_version": "1.2.0",
            "grid_template_areas": null,
            "object_position": null,
            "object_fit": null,
            "grid_auto_columns": null,
            "margin": null,
            "display": null,
            "left": null
          }
        },
        "1485947e825144c6baeaa7715e39c5f6": {
          "model_module": "@jupyter-widgets/controls",
          "model_name": "HBoxModel",
          "state": {
            "_view_name": "HBoxView",
            "_dom_classes": [],
            "_model_name": "HBoxModel",
            "_view_module": "@jupyter-widgets/controls",
            "_model_module_version": "1.5.0",
            "_view_count": null,
            "_view_module_version": "1.5.0",
            "box_style": "",
            "layout": "IPY_MODEL_eed1acfda9c940a19e92e0ff394d4477",
            "_model_module": "@jupyter-widgets/controls",
            "children": [
              "IPY_MODEL_10da62a937f04f7bb648638af3c6849e",
              "IPY_MODEL_d8cd02b61f834bcd9c1ff4f015679f36"
            ]
          }
        },
        "eed1acfda9c940a19e92e0ff394d4477": {
          "model_module": "@jupyter-widgets/base",
          "model_name": "LayoutModel",
          "state": {
            "_view_name": "LayoutView",
            "grid_template_rows": null,
            "right": null,
            "justify_content": null,
            "_view_module": "@jupyter-widgets/base",
            "overflow": null,
            "_model_module_version": "1.2.0",
            "_view_count": null,
            "flex_flow": null,
            "width": null,
            "min_width": null,
            "border": null,
            "align_items": null,
            "bottom": null,
            "_model_module": "@jupyter-widgets/base",
            "top": null,
            "grid_column": null,
            "overflow_y": null,
            "overflow_x": null,
            "grid_auto_flow": null,
            "grid_area": null,
            "grid_template_columns": null,
            "flex": null,
            "_model_name": "LayoutModel",
            "justify_items": null,
            "grid_row": null,
            "max_height": null,
            "align_content": null,
            "visibility": null,
            "align_self": null,
            "height": null,
            "min_height": null,
            "padding": null,
            "grid_auto_rows": null,
            "grid_gap": null,
            "max_width": null,
            "order": null,
            "_view_module_version": "1.2.0",
            "grid_template_areas": null,
            "object_position": null,
            "object_fit": null,
            "grid_auto_columns": null,
            "margin": null,
            "display": null,
            "left": null
          }
        },
        "10da62a937f04f7bb648638af3c6849e": {
          "model_module": "@jupyter-widgets/controls",
          "model_name": "FloatProgressModel",
          "state": {
            "_view_name": "ProgressView",
            "style": "IPY_MODEL_7c33cc38732b4846865075c7c7b92d7d",
            "_dom_classes": [],
            "description": "100%",
            "_model_name": "FloatProgressModel",
            "bar_style": "success",
            "max": 6040,
            "_view_module": "@jupyter-widgets/controls",
            "_model_module_version": "1.5.0",
            "value": 6040,
            "_view_count": null,
            "_view_module_version": "1.5.0",
            "orientation": "horizontal",
            "min": 0,
            "description_tooltip": null,
            "_model_module": "@jupyter-widgets/controls",
            "layout": "IPY_MODEL_ecd65d838e474b0a960c132d16e41a0b"
          }
        },
        "d8cd02b61f834bcd9c1ff4f015679f36": {
          "model_module": "@jupyter-widgets/controls",
          "model_name": "HTMLModel",
          "state": {
            "_view_name": "HTMLView",
            "style": "IPY_MODEL_841afad3317f42608f38da6b114ca35f",
            "_dom_classes": [],
            "description": "",
            "_model_name": "HTMLModel",
            "placeholder": "​",
            "_view_module": "@jupyter-widgets/controls",
            "_model_module_version": "1.5.0",
            "value": " 6040/6040 [00:19&lt;00:00, 310.80it/s]",
            "_view_count": null,
            "_view_module_version": "1.5.0",
            "description_tooltip": null,
            "_model_module": "@jupyter-widgets/controls",
            "layout": "IPY_MODEL_1632e3d2e8734be3a5fad646b224a63e"
          }
        },
        "7c33cc38732b4846865075c7c7b92d7d": {
          "model_module": "@jupyter-widgets/controls",
          "model_name": "ProgressStyleModel",
          "state": {
            "_view_name": "StyleView",
            "_model_name": "ProgressStyleModel",
            "description_width": "initial",
            "_view_module": "@jupyter-widgets/base",
            "_model_module_version": "1.5.0",
            "_view_count": null,
            "_view_module_version": "1.2.0",
            "bar_color": null,
            "_model_module": "@jupyter-widgets/controls"
          }
        },
        "ecd65d838e474b0a960c132d16e41a0b": {
          "model_module": "@jupyter-widgets/base",
          "model_name": "LayoutModel",
          "state": {
            "_view_name": "LayoutView",
            "grid_template_rows": null,
            "right": null,
            "justify_content": null,
            "_view_module": "@jupyter-widgets/base",
            "overflow": null,
            "_model_module_version": "1.2.0",
            "_view_count": null,
            "flex_flow": null,
            "width": null,
            "min_width": null,
            "border": null,
            "align_items": null,
            "bottom": null,
            "_model_module": "@jupyter-widgets/base",
            "top": null,
            "grid_column": null,
            "overflow_y": null,
            "overflow_x": null,
            "grid_auto_flow": null,
            "grid_area": null,
            "grid_template_columns": null,
            "flex": null,
            "_model_name": "LayoutModel",
            "justify_items": null,
            "grid_row": null,
            "max_height": null,
            "align_content": null,
            "visibility": null,
            "align_self": null,
            "height": null,
            "min_height": null,
            "padding": null,
            "grid_auto_rows": null,
            "grid_gap": null,
            "max_width": null,
            "order": null,
            "_view_module_version": "1.2.0",
            "grid_template_areas": null,
            "object_position": null,
            "object_fit": null,
            "grid_auto_columns": null,
            "margin": null,
            "display": null,
            "left": null
          }
        },
        "841afad3317f42608f38da6b114ca35f": {
          "model_module": "@jupyter-widgets/controls",
          "model_name": "DescriptionStyleModel",
          "state": {
            "_view_name": "StyleView",
            "_model_name": "DescriptionStyleModel",
            "description_width": "",
            "_view_module": "@jupyter-widgets/base",
            "_model_module_version": "1.5.0",
            "_view_count": null,
            "_view_module_version": "1.2.0",
            "_model_module": "@jupyter-widgets/controls"
          }
        },
        "1632e3d2e8734be3a5fad646b224a63e": {
          "model_module": "@jupyter-widgets/base",
          "model_name": "LayoutModel",
          "state": {
            "_view_name": "LayoutView",
            "grid_template_rows": null,
            "right": null,
            "justify_content": null,
            "_view_module": "@jupyter-widgets/base",
            "overflow": null,
            "_model_module_version": "1.2.0",
            "_view_count": null,
            "flex_flow": null,
            "width": null,
            "min_width": null,
            "border": null,
            "align_items": null,
            "bottom": null,
            "_model_module": "@jupyter-widgets/base",
            "top": null,
            "grid_column": null,
            "overflow_y": null,
            "overflow_x": null,
            "grid_auto_flow": null,
            "grid_area": null,
            "grid_template_columns": null,
            "flex": null,
            "_model_name": "LayoutModel",
            "justify_items": null,
            "grid_row": null,
            "max_height": null,
            "align_content": null,
            "visibility": null,
            "align_self": null,
            "height": null,
            "min_height": null,
            "padding": null,
            "grid_auto_rows": null,
            "grid_gap": null,
            "max_width": null,
            "order": null,
            "_view_module_version": "1.2.0",
            "grid_template_areas": null,
            "object_position": null,
            "object_fit": null,
            "grid_auto_columns": null,
            "margin": null,
            "display": null,
            "left": null
          }
        }
      }
    }
  },
  "cells": [
    {
      "cell_type": "code",
      "metadata": {
        "id": "FQS1nMlsGlNS"
      },
      "source": [
        "!pip install lightfm"
      ],
      "execution_count": null,
      "outputs": []
    },
    {
      "cell_type": "code",
      "metadata": {
        "id": "4rRNTaonGfJh"
      },
      "source": [
        "import pandas as pd\n",
        "import numpy as np\n",
        "import scipy.sparse as sp\n",
        "from lightfm import LightFM"
      ],
      "execution_count": null,
      "outputs": []
    },
    {
      "cell_type": "code",
      "metadata": {
        "id": "-g7GaS0VGfJh"
      },
      "source": [
        "from lightfm.datasets import fetch_movielens"
      ],
      "execution_count": null,
      "outputs": []
    },
    {
      "cell_type": "code",
      "metadata": {
        "id": "cSa0DDQ1GfJh"
      },
      "source": [
        "from tqdm.notebook import tqdm"
      ],
      "execution_count": null,
      "outputs": []
    },
    {
      "cell_type": "code",
      "metadata": {
        "id": "Wq9oPYduGfJh"
      },
      "source": [
        "from sklearn.model_selection import train_test_split\n",
        "from sklearn.metrics import roc_auc_score\n",
        "from sklearn.metrics import ndcg_score"
      ],
      "execution_count": null,
      "outputs": []
    },
    {
      "cell_type": "code",
      "metadata": {
        "id": "N9IpwxpVGfJh"
      },
      "source": [
        "import torch\n",
        "import torch.nn as nn\n",
        "import torch.optim as optim\n",
        "import torch.utils.data\n",
        "import torchvision.datasets\n",
        "import torchvision.transforms as transforms\n",
        "from torch.autograd import Variable\n",
        "import torch.nn.functional as F"
      ],
      "execution_count": null,
      "outputs": []
    },
    {
      "cell_type": "code",
      "metadata": {
        "id": "EA_9Y3twHo2S"
      },
      "source": [
        "from itertools import chain"
      ],
      "execution_count": null,
      "outputs": []
    },
    {
      "cell_type": "code",
      "metadata": {
        "id": "liTcEZKKGqC_"
      },
      "source": [
        "!wget http://files.grouplens.org/datasets/movielens/ml-1m.zip\n",
        "!unzip ml-1m.zip"
      ],
      "execution_count": null,
      "outputs": []
    },
    {
      "cell_type": "code",
      "metadata": {
        "id": "y1TaKRmrGfJh"
      },
      "source": [
        "device = torch.device(\"cuda\" if torch.cuda.is_available() else \"cpu\")"
      ],
      "execution_count": null,
      "outputs": []
    },
    {
      "cell_type": "markdown",
      "metadata": {
        "id": "nY5Ml1VtGfJh"
      },
      "source": [
        "# data"
      ]
    },
    {
      "cell_type": "markdown",
      "metadata": {
        "id": "mNly1H0nzCTZ"
      },
      "source": [
        "В качестве датасета возьмем movielens100k. Этот датасет используется во многих работах по collaborative filltering (в частности в статье про NCF его и используют). Однако movielens датасет с эксплисит данными, поэтому в этой работе мы будем считать за взаимодействие любую оценку (аналогично работе по NCF)."
      ]
    },
    {
      "cell_type": "code",
      "metadata": {
        "id": "epG_wmSDGfJh"
      },
      "source": [
        "ratings = pd.read_csv('ml-1m/ratings.dat', delimiter='::', header=None, \n",
        "            names=['user_id', 'movie_id', 'rating', 'timestamp'], \n",
        "            usecols=['user_id', 'movie_id', 'rating'], engine='python')"
      ],
      "execution_count": null,
      "outputs": []
    },
    {
      "cell_type": "code",
      "metadata": {
        "id": "8bypLsVrGfJh"
      },
      "source": [
        "movie_info = pd.read_csv('ml-1m/movies.dat', delimiter='::', header=None, \n",
        "        names=['movie_id', 'name', 'category'], engine='python')"
      ],
      "execution_count": null,
      "outputs": []
    },
    {
      "cell_type": "code",
      "metadata": {
        "id": "5HLwbv5pGfJh"
      },
      "source": [
        "uid2userid = np.unique(ratings[\"user_id\"])\n",
        "userid2uid = {i: j for (j, i) in enumerate(uid2userid)}"
      ],
      "execution_count": null,
      "outputs": []
    },
    {
      "cell_type": "code",
      "metadata": {
        "id": "UsP--3F8GfJh"
      },
      "source": [
        "mid2movieid = np.unique(ratings[\"movie_id\"])\n",
        "movieid2mid = {i: j for (j, i) in enumerate(mid2movieid)}"
      ],
      "execution_count": null,
      "outputs": []
    },
    {
      "cell_type": "code",
      "metadata": {
        "id": "seP8-DE1AwA_"
      },
      "source": [
        "new_users = [userid2uid[i] for i in ratings['user_id']]\n",
        "new_movies = [movieid2mid[i] for i in ratings['movie_id']]"
      ],
      "execution_count": null,
      "outputs": []
    },
    {
      "cell_type": "code",
      "metadata": {
        "id": "COUGbl-AAwGA"
      },
      "source": [
        "explicit = np.vstack((new_users, new_movies, ratings[\"rating\"].to_numpy())).T\n",
        "implicit = explicit[:, :2]"
      ],
      "execution_count": null,
      "outputs": []
    },
    {
      "cell_type": "code",
      "metadata": {
        "id": "EwWIPZsJDIXI"
      },
      "source": [
        "user_count, movie_count = len(uid2userid), len(mid2movieid)"
      ],
      "execution_count": null,
      "outputs": []
    },
    {
      "cell_type": "markdown",
      "metadata": {
        "id": "aLSwmyH704do"
      },
      "source": [
        "Тестировать модели будем по заранее отложенной выборке фильмов. Выборка получается выкидыванием у каждого из юзеров по последнему фильму (LOO)."
      ]
    },
    {
      "cell_type": "code",
      "metadata": {
        "id": "S9jkxy-xAwDf"
      },
      "source": [
        "test_data = np.empty((0,2), int)\n",
        "train_data = np.empty((0,2), int)\n",
        "neg_dict = {}\n",
        "pos_dict = []"
      ],
      "execution_count": null,
      "outputs": []
    },
    {
      "cell_type": "code",
      "metadata": {
        "colab": {
          "base_uri": "https://localhost:8080/",
          "referenced_widgets": [
            "f83d8c85edec4a2a8de04c3448532e73",
            "a76d013dcf0740a3b01391f2af9859f4",
            "2105c151bda2417d9264d2fd66dcbaff",
            "4a07395eeb5c442183c537b3b2a53142",
            "7127fd24343c4d68958b886c226191d8",
            "5b32b5a31abd47e8bb5365dbd2e46633",
            "36bdc12ff35b411eb6efc89934caddb0",
            "e2909c3a25ab4eea96109331b0c5fcca"
          ]
        },
        "id": "RknLQZvjAv-V",
        "outputId": "d89adec8-74eb-442c-93d2-44b012fac1d3"
      },
      "source": [
        "for i in tqdm(range(user_count)):\n",
        "    seen_data = implicit[implicit[:,0] == i]\n",
        "    pos_dict.append(seen_data[:-1,1])\n",
        "    seen = set(seen_data[:-1,1])\n",
        "    if len(seen) < 2:\n",
        "        continue\n",
        "    unseen = set(np.arange(movie_count)) - seen\n",
        "    unseen = np.array(list(unseen), dtype=int)\n",
        "    neg_dict[i] = unseen\n",
        "\n",
        "    test_data = np.vstack((test_data, seen_data[-1]))\n",
        "    train_data = np.vstack((train_data, seen_data[:-1]))"
      ],
      "execution_count": null,
      "outputs": [
        {
          "output_type": "display_data",
          "data": {
            "application/vnd.jupyter.widget-view+json": {
              "model_id": "f83d8c85edec4a2a8de04c3448532e73",
              "version_major": 2,
              "version_minor": 0
            },
            "text/plain": [
              "HBox(children=(FloatProgress(value=0.0, max=6040.0), HTML(value='')))"
            ]
          },
          "metadata": {
            "tags": []
          }
        },
        {
          "output_type": "stream",
          "text": [
            "\n"
          ],
          "name": "stdout"
        }
      ]
    },
    {
      "cell_type": "code",
      "metadata": {
        "id": "TcjBRecgGfJh"
      },
      "source": [
        "train_data_coo = sp.coo_matrix((np.ones_like(train_data[:,0]), (train_data[:,0], train_data[:,1])))\n",
        "train_data_coo = train_data_coo.tocsr()"
      ],
      "execution_count": null,
      "outputs": []
    },
    {
      "cell_type": "code",
      "metadata": {
        "id": "pjUMP4JGGfJh"
      },
      "source": [
        "get_similars = lambda item_id, model : [movie_info[movie_info[\"movie_id\"] == mid2movieid[i]][\"name\"].to_string()\n",
        "                                        for i in model.similar_items(movieid2mid[item_id])]"
      ],
      "execution_count": null,
      "outputs": []
    },
    {
      "cell_type": "code",
      "metadata": {
        "id": "-3CklhtvGfJi"
      },
      "source": [
        "get_recommendations = lambda user_id, model, mat, col=\"name\" : [movie_info[movie_info[\"movie_id\"] == mid2movieid[i]][col].to_string() \n",
        "                                                    for i in model.recommend(userid2uid[user_id], mat)]"
      ],
      "execution_count": null,
      "outputs": []
    },
    {
      "cell_type": "code",
      "metadata": {
        "id": "GxYddgjLGfJi"
      },
      "source": [
        "get_user_history = lambda user_id, implicit_ratings : [movie_info[movie_info[\"movie_id\"] == mid2movieid[x]][\"name\"].to_string() \n",
        "                                            for x in implicit_ratings[implicit_ratings[:,0] == userid2uid[user_id]][:,1]]"
      ],
      "execution_count": null,
      "outputs": []
    },
    {
      "cell_type": "markdown",
      "metadata": {
        "id": "EWlXjajQ1Kno"
      },
      "source": [
        "Рекомендовать будем все 4 пользователю со следующей историей:"
      ]
    },
    {
      "cell_type": "code",
      "metadata": {
        "colab": {
          "base_uri": "https://localhost:8080/"
        },
        "id": "vvwAw1S6VOOy",
        "outputId": "dd5e5487-c152-4352-b051-b1faee062077"
      },
      "source": [
        "get_user_history(4, implicit)"
      ],
      "execution_count": null,
      "outputs": [
        {
          "output_type": "execute_result",
          "data": {
            "text/plain": [
              "['3399    Hustler, The (1961)',\n",
              " '1192    Star Wars: Episode VI - Return of the Jedi (1983)',\n",
              " '2882    Fistful of Dollars, A (1964)',\n",
              " '1196    Alien (1979)',\n",
              " '1023    Die Hard (1988)',\n",
              " '257    Star Wars: Episode IV - A New Hope (1977)',\n",
              " '1959    Saving Private Ryan (1998)',\n",
              " '476    Jurassic Park (1993)',\n",
              " '1178    Star Wars: Episode V - The Empire Strikes Back...',\n",
              " '1180    Raiders of the Lost Ark (1981)',\n",
              " '1885    Rocky (1976)',\n",
              " '1081    E.T. the Extra-Terrestrial (1982)',\n",
              " '3349    Thelma & Louise (1991)',\n",
              " '3633    Mad Max (1979)',\n",
              " '2297    King Kong (1933)',\n",
              " '1366    Jaws (1975)',\n",
              " '3458    Predator (1987)',\n",
              " '1183    Good, The Bad and The Ugly, The (1966)',\n",
              " '2623    Run Lola Run (Lola rennt) (1998)',\n",
              " '2878    Goldfinger (1964)',\n",
              " '1220    Terminator, The (1984)']"
            ]
          },
          "metadata": {
            "tags": []
          },
          "execution_count": 24
        }
      ]
    },
    {
      "cell_type": "code",
      "metadata": {
        "id": "1lZwZ5KTAtB5"
      },
      "source": [
        "def test_model(model, sim=True, rec=True):\n",
        "    if sim:\n",
        "        print(f\"{'-'*5}SIMILARS{'-'*5}\")\n",
        "        res = get_similars(1, model)\n",
        "        for r in get_similars(1, model):\n",
        "            print(r.split(maxsplit=1)[1])\n",
        "        \n",
        "    if rec:\n",
        "        print(f\"{'-'*5}RECOMENDATIONS{'-'*5}\")\n",
        "        res1 = get_recommendations(4, model, train_data_coo, col=\"category\")\n",
        "        res2 = get_recommendations(4, model, train_data_coo, col=\"name\")\n",
        "        for r1, r2 in zip(res2, res1):\n",
        "            print(f\"{r1.split(maxsplit=1)[1]:50} {r2.split()[1]}\")"
      ],
      "execution_count": 397,
      "outputs": []
    },
    {
      "cell_type": "markdown",
      "metadata": {
        "id": "95IrtL1w1UmK"
      },
      "source": [
        "В качестве метрик качества возьмем популярные метрики для рекомендаций HR@k и nDCG@k. Для каждого из отложенного фильма, добавим к нему 99 случайных фильмов, который пользователь не смотерл и вот для такого набора из 100 фильмов будем считать эти метрики"
      ]
    },
    {
      "cell_type": "code",
      "metadata": {
        "id": "pXz3fBBlHFYP"
      },
      "source": [
        "def get_hr_ndcg(model, k=10, prnt=True):\n",
        "    y_true = np.zeros(100, dtype=int)\n",
        "    y_true[0] = 1 \n",
        "    ndcg = []\n",
        "    hr = []  \n",
        "    for u in tqdm(range(user_count)):\n",
        "        pos_ex = test_data[u].copy()\n",
        "        neg_ex = np.vstack((u * np.ones(99), np.random.choice(neg_dict[u], 99, replace=False))).T\n",
        "        test = np.vstack((pos_ex, neg_ex))\n",
        "        y_pred = model.predict(test)\n",
        "        ndcg.append(ndcg_score([y_true], \n",
        "                               [y_pred], \n",
        "                               k=k))\n",
        "        hr.append((np.argsort(y_pred)[-10:] == 0).sum())\n",
        "    if prnt:\n",
        "        print(f\"nDCG@{k}={np.mean(ndcg):4f}\")\n",
        "        print(f\"HR@{k}  ={np.mean(hr):4f}\")\n",
        "    else:\n",
        "        return np.mean(ndcg), np.mean(hr)"
      ],
      "execution_count": null,
      "outputs": []
    },
    {
      "cell_type": "markdown",
      "metadata": {
        "id": "2gxG8atQGfJi"
      },
      "source": [
        "# WARP"
      ]
    },
    {
      "cell_type": "markdown",
      "metadata": {
        "id": "e7qSjXpN1p73"
      },
      "source": [
        "В качестве простого рекомендера возьмем WARP из lightfm. Лучший результат (по метрикам) приведен ниже."
      ]
    },
    {
      "cell_type": "code",
      "metadata": {
        "id": "4-OJG-vEGfJi"
      },
      "source": [
        "alpha = 1e-03\n",
        "epochs = 40\n",
        "num_components = 64\n",
        "lr = 0.05"
      ],
      "execution_count": null,
      "outputs": []
    },
    {
      "cell_type": "code",
      "metadata": {
        "id": "1xkeEhlkGfJi"
      },
      "source": [
        "warp_model = LightFM(no_components=num_components,\n",
        "                    learning_rate = lr,\n",
        "                    loss='warp',\n",
        "                    learning_schedule='adagrad',\n",
        "                    max_sampled=100,\n",
        "                    user_alpha=alpha,\n",
        "                    item_alpha=alpha)"
      ],
      "execution_count": null,
      "outputs": []
    },
    {
      "cell_type": "code",
      "metadata": {
        "colab": {
          "base_uri": "https://localhost:8080/"
        },
        "id": "3Ab0IW3iGfJi",
        "outputId": "ebb86ac2-a23c-492d-a43d-d3080879a725"
      },
      "source": [
        "warp_model.fit_partial(train_data_coo, epochs=epochs, verbose=True,)"
      ],
      "execution_count": null,
      "outputs": [
        {
          "output_type": "stream",
          "text": [
            "Epoch: 100%|██████████| 40/40 [02:41<00:00,  4.05s/it]\n"
          ],
          "name": "stderr"
        },
        {
          "output_type": "execute_result",
          "data": {
            "text/plain": [
              "<lightfm.lightfm.LightFM at 0x7f8e521f9400>"
            ]
          },
          "metadata": {
            "tags": []
          },
          "execution_count": 64
        }
      ]
    },
    {
      "cell_type": "code",
      "metadata": {
        "id": "eJYSIWl7VnOQ"
      },
      "source": [
        "class WARPRecommender():\n",
        "    def __init__(self, warp):\n",
        "        self.model = warp\n",
        "        self.u = warp.user_embeddings\n",
        "        self.v = warp.item_embeddings\n",
        "        self.bv = warp.item_biases\n",
        "        self.bu = warp.user_biases\n",
        "    \n",
        "    def similar_items(self, item_id, N=10):\n",
        "        scores = self.v @ self.v[item_id] / np.linalg.norm(self.v, axis=-1)\n",
        "        ind = np.argsort(scores)[::-1][:N]\n",
        "        return ind\n",
        "\n",
        "    def recommend(self, user_id, user_items, N=10):\n",
        "        unseen = np.array([False if i in user_items[user_id].nonzero()[1] else True for i in np.arange(len(self.v))])\n",
        "        scores = self.v[unseen] @ self.u[user_id] + self.bv[unseen]\n",
        "        ind = np.argsort(scores)[::-1]\n",
        "        real_ind = np.arange(len(self.v))[unseen][ind]\n",
        "        return real_ind[:N]\n",
        "    \n",
        "    def predict(self, test):\n",
        "        return self.model.predict(test[:, 0], test[:, 1])"
      ],
      "execution_count": null,
      "outputs": []
    },
    {
      "cell_type": "code",
      "metadata": {
        "id": "PgtwfaZzWE0T"
      },
      "source": [
        "warp = WARPRecommender(warp_model)"
      ],
      "execution_count": null,
      "outputs": []
    },
    {
      "cell_type": "code",
      "metadata": {
        "colab": {
          "base_uri": "https://localhost:8080/"
        },
        "id": "V2cTW9AMH0Nk",
        "outputId": "097bb5dc-62d0-416e-9a00-36b0110c0034"
      },
      "source": [
        "test_model(warp)"
      ],
      "execution_count": null,
      "outputs": [
        {
          "output_type": "stream",
          "text": [
            "-----SIMILARS-----\n",
            "Toy Story (1995)\n",
            "Forrest Gump (1994)\n",
            "Groundhog Day (1993)\n",
            "Ghostbusters (1984)\n",
            "Toy Story 2 (1999)\n",
            "Nightmare Before Christmas, The (1993)\n",
            "Aladdin (1992)\n",
            "Lion King, The (1994)\n",
            "Bug's Life, A (1998)\n",
            "Who Framed Roger Rabbit? (1988)\n",
            "-----RECOMENDATIONS-----\n",
            "Terminator 2: Judgment Day (1991)                  Action|Sci-Fi|Thriller\n",
            "Back to the Future (1985)                          Comedy|Sci-Fi\n",
            "Matrix, The (1999)                                 Action|Sci-Fi|Thriller\n",
            "American Beauty (1999)                             Comedy|Drama\n",
            "Godfather, The (1972)                              Action|Crime|Drama\n",
            "Men in Black (1997)                                Action|Adventure|Comedy|Sci-Fi\n",
            "Silence of the Lambs, The (1991)                   Drama|Thriller\n",
            "Braveheart (1995)                                  Action|Drama|War\n",
            "Terminator, The (1984)                             Action|Sci-Fi|Thriller\n",
            "Fargo (1996)                                       Crime|Drama|Thriller\n"
          ],
          "name": "stdout"
        }
      ]
    },
    {
      "cell_type": "markdown",
      "metadata": {
        "id": "pqCkmeae2CdO"
      },
      "source": [
        "Рекоммендации и симилары получились вполне адекватными"
      ]
    },
    {
      "cell_type": "code",
      "metadata": {
        "colab": {
          "base_uri": "https://localhost:8080/",
          "height": 100,
          "referenced_widgets": [
            "74028a51a627478086153c367b47e318"
          ]
        },
        "id": "6oftId9FXLSi",
        "outputId": "87ff1de5-6d75-4c1f-97d2-d8777aff446b"
      },
      "source": [
        "get_hr_ndcg(warp)"
      ],
      "execution_count": null,
      "outputs": [
        {
          "output_type": "display_data",
          "data": {
            "application/vnd.jupyter.widget-view+json": {
              "model_id": "74028a51a627478086153c367b47e318",
              "version_major": 2,
              "version_minor": 0
            },
            "text/plain": [
              "HBox(children=(FloatProgress(value=0.0, max=6040.0), HTML(value='')))"
            ]
          },
          "metadata": {
            "tags": []
          }
        },
        {
          "output_type": "stream",
          "text": [
            "\n",
            "nDCG@k=0.317216\n",
            "hr@k  =0.547351\n"
          ],
          "name": "stdout"
        }
      ]
    },
    {
      "cell_type": "markdown",
      "metadata": {
        "id": "Z84baiDk2HU5"
      },
      "source": [
        "Метрики лучше, чем у случайного рекомендера (для теста, который я провожу), а остальное можно будет сказать только в сравнении с другими моделями"
      ]
    },
    {
      "cell_type": "markdown",
      "metadata": {
        "id": "OeaMaU6VGfJj"
      },
      "source": [
        "# NCF"
      ]
    },
    {
      "cell_type": "markdown",
      "metadata": {
        "id": "fs093ULn2rQC"
      },
      "source": [
        "небольшой процессинг даты для ncf"
      ]
    },
    {
      "cell_type": "code",
      "metadata": {
        "id": "KEsAtGfOyf3N"
      },
      "source": [
        "class Data:\n",
        "    def __init__(self, dataset, neg_dict):\n",
        "        self.pos = dataset.copy()\n",
        "        self.data = None\n",
        "        self.neg = None\n",
        "        self.neg_dict = neg_dict\n",
        "\n",
        "\n",
        "    def set_neg(self, mode=\"lazy\"):\n",
        "        if mode == \"correct\":\n",
        "            self.neg = self.pos.copy()\n",
        "            new_negs = None\n",
        "            for i in range(user_count):\n",
        "                cur_pos = self.pos[:,0] == i\n",
        "                len_cur = (self.pos[:,0] == i).sum()\n",
        "                cur_negs = np.random.choice(self.neg_dict[i], len_cur)\n",
        "                if new_negs is None:\n",
        "                    new_negs = cur_negs\n",
        "                else:\n",
        "                    new_negs = np.hstack((new_negs, cur_negs))\n",
        "            self.neg[:,1] = new_negs\n",
        "        elif mode == \"lazy\":\n",
        "            self.neg = self.pos.copy()\n",
        "            self.neg[:,1] = np.random.choice(np.arange(movie_count), len(self.pos))\n",
        "        self.data = np.vstack((self.pos, self.neg))\n",
        "        self.labels = np.hstack(( np.ones(len(self.pos)), np.zeros(len(self.neg)) ))\n",
        "    def __len__(self):\n",
        "        return len(self.data)\n",
        "    \n",
        "    def __getitem__(self, i):\n",
        "        return (*self.data[i], self.labels[i])\n",
        "        # pos_ex = self.pos[i]\n",
        "        # neg_ex = self.neg[i]\n",
        "        # # negs = self.neg[self.neg[:,0]==pos_ex[0]]\n",
        "        # # neg_ex = self.neg[np.random.randint(len(self.neg))]\n",
        "\n",
        "        # return [*pos_ex, neg_ex[1]]"
      ],
      "execution_count": null,
      "outputs": []
    },
    {
      "cell_type": "code",
      "metadata": {
        "id": "CXIvqAojyi3N"
      },
      "source": [
        "traindata = Data(train_data, neg_dict)"
      ],
      "execution_count": null,
      "outputs": []
    },
    {
      "cell_type": "code",
      "metadata": {
        "id": "Oc8qJQBhsPT9"
      },
      "source": [
        "class RecData:\n",
        "    def __init__(self, uid, unseen):\n",
        "        self.uid = uid\n",
        "        self.unseen = unseen\n",
        "    \n",
        "    def __len__(self):\n",
        "        return len(self.unseen)\n",
        "\n",
        "    def __getitem__(self, i):\n",
        "        return np.array([self.uid, self.unseen[i]])"
      ],
      "execution_count": null,
      "outputs": []
    },
    {
      "cell_type": "markdown",
      "metadata": {
        "id": "WTBw7uRi2qJ8"
      },
      "source": [
        "NCF берем из [статьи](https://arxiv.org/abs/1708.05031). Она состоит из трех частей: MLP, GMF, NeuMF. GMF аналог простой MF, MLP заменяет скалярное произведение для скора на нейронку, а NeuMF комбинируют их внутри себя. Мы сперва предобучаем GMF и MLP, а потом обучаем NeuMF с предобучеными частями (можно ничего не обучать заранее, но так результаты ниже)."
      ]
    },
    {
      "cell_type": "code",
      "metadata": {
        "id": "URF57sXoTj15"
      },
      "source": [
        "class NCFBase(nn.Module):\n",
        "    def __init__(self, user_count, movie_count):\n",
        "        super().__init__()\n",
        "        self.n = user_count\n",
        "        self.m = movie_count\n",
        "    \n",
        "    \n",
        "    def part_forward(self, uid, mid):\n",
        "        raise NotImplementedError()\n",
        "\n",
        "    def forward(self, uid, mid):\n",
        "        raise NotImplementedError()\n",
        "    \n",
        "    def set_emb(self):\n",
        "        raise NotImplementedError()\n",
        "\n",
        "    def predict(self, test):\n",
        "        loader = torch.utils.data.DataLoader(test, batch_size=512)\n",
        "        y_pred = None\n",
        "        \n",
        "        for batch in loader:\n",
        "            users = batch[:, 0].to(device)\n",
        "            items = batch[:, 1].to(device)\n",
        "            out = self(users.long(), items.long())\n",
        "            if y_pred is None:\n",
        "                y_pred = out.squeeze().cpu().detach().numpy()\n",
        "            else:\n",
        "                y_pred = np.hstack((y_pred, out.squeeze().cpu().detach().numpy()))\n",
        "        return y_pred\n",
        "                \n",
        "\n",
        "    def fit(self,\n",
        "            train_data, \n",
        "            test_data, \n",
        "            num_epochs=100,\n",
        "            lr=1e-3,\n",
        "            bs=128, \n",
        "            mode='lazy'):    \n",
        "        opt = optim.Adam(self.parameters(), lr=lr)\n",
        "        loss_func = nn.BCELoss()\n",
        "        for epoch in tqdm(range(num_epochs)):\n",
        "            running_loss = 0\n",
        "            train_data.set_neg(mode)\n",
        "            trainloader = torch.utils.data.DataLoader(train_data, \n",
        "                                                      batch_size=bs, \n",
        "                                                      shuffle=True)\n",
        "\n",
        "            for (users, items, target) in trainloader:\n",
        "                users = users.to(device)\n",
        "                items = items.to(device)\n",
        "                target = target.to(device)\n",
        "                    \n",
        "                out = self(users, items)\n",
        "                loss = loss_func(out, target.float().view(-1, 1))\n",
        "                opt.zero_grad()\n",
        "                loss.backward()\n",
        "                opt.step()\n",
        "                running_loss += loss.item()\n",
        "            # if (epoch % 5 == 4):\n",
        "            #     ndcg, hr = get_hr_ndcg(self, prnt=False)\n",
        "            #     print()\n",
        "            # y_pred = self.predict(test_data)\n",
        "            # auc = roc_auc_score(test_data[:, 2], y_pred)\n",
        "            print(f\"[{epoch}/{num_epochs}]:loss={running_loss:.4f}\")\n",
        "        \n",
        "        self.set_emb()\n",
        "\n",
        "    def similar_items(self, item_id, N=10):\n",
        "        scores = self.v @ self.v[item_id] / np.linalg.norm(self.v, axis=-1)\n",
        "        ind = np.argsort(scores)[::-1][:N]\n",
        "        return ind\n",
        "\n",
        "    def recommend(self, user_id, user_items, N=10, new=True):\n",
        "        if new:\n",
        "            unseen = np.array([i for i in np.arange(len(self.v)) if i not in user_items[user_id].nonzero()[1]])\n",
        "            td = RecData(user_id, unseen)\n",
        "            scores = self.predict(td)\n",
        "        else:\n",
        "            unseen = np.array([False if i in user_items[user_id].nonzero()[1] else True for i in np.arange(len(self.v))])\n",
        "            scores = self.v[unseen] @ self.u[user_id]\n",
        "        ind = np.argsort(scores)[::-1]\n",
        "        real_ind = np.arange(len(self.v))[unseen][ind]\n",
        "        return real_ind[:N]"
      ],
      "execution_count": null,
      "outputs": []
    },
    {
      "cell_type": "code",
      "metadata": {
        "id": "6nYhVMIvT6ym"
      },
      "source": [
        "class MLP(NCFBase):\n",
        "    def __init__(self, user_count, movie_count, ls, hd):\n",
        "        super().__init__(user_count, movie_count)\n",
        "        self.ls = ls\n",
        "\n",
        "        self.embedding_user = nn.Embedding(num_embeddings=self.n, embedding_dim=ls)\n",
        "        self.embedding_item = nn.Embedding(num_embeddings=self.m, embedding_dim=ls)\n",
        "        self.model = nn.Sequential(nn.Linear(2 * ls, hd), \n",
        "                                   nn.ReLU(), \n",
        "                                   nn.Linear(hd, hd),\n",
        "                                   nn.ReLU(), \n",
        "                                   nn.Linear(hd, hd),\n",
        "                                   nn.ReLU(), \n",
        "                                   nn.Linear(hd, hd), \n",
        "                                   nn.ReLU())\n",
        "        \n",
        "        self.last =  nn.Sequential(nn.Linear(hd, 1), \n",
        "                                   nn.Sigmoid())\n",
        "        \n",
        "        self.set_emb()\n",
        "    \n",
        "    \n",
        "    def part_forward(self, uid, mid):\n",
        "        user_embedding = self.embedding_user(uid)\n",
        "        item_embedding = self.embedding_item(mid)\n",
        "        vector = torch.cat([user_embedding, item_embedding], dim=-1)\n",
        "        out = self.model(vector)\n",
        "        return out\n",
        "\n",
        "    def forward(self, uid, mid):\n",
        "        user_embedding = self.embedding_user(uid)\n",
        "        item_embedding = self.embedding_item(mid)\n",
        "        vector = torch.cat([user_embedding, item_embedding], dim=-1)\n",
        "        out = self.model(vector)\n",
        "        rating = self.last(out)\n",
        "        return rating\n",
        "\n",
        "    def set_emb(self):\n",
        "        self.v = self.embedding_item.weight.detach().cpu().numpy()\n",
        "        self.u = self.embedding_user.weight.detach().cpu().numpy()"
      ],
      "execution_count": null,
      "outputs": []
    },
    {
      "cell_type": "code",
      "metadata": {
        "id": "or46wIpOUDqP"
      },
      "source": [
        "class GMF(NCFBase):\n",
        "    def __init__(self, user_count, movie_count, ls):\n",
        "        super().__init__(user_count, movie_count)\n",
        "        self.ls = ls\n",
        "\n",
        "        self.embedding_user = nn.Embedding(num_embeddings=self.n, embedding_dim=ls)\n",
        "        self.embedding_item = nn.Embedding(num_embeddings=self.m, embedding_dim=ls)\n",
        "        self.last = nn.Sequential(nn.Linear(ls, 1), \n",
        "                                 nn.Sigmoid())\n",
        "        \n",
        "        self.set_emb()\n",
        "\n",
        "    \n",
        "    def part_forward(self, uid, mid):\n",
        "        user_embedding = self.embedding_user(uid)\n",
        "        item_embedding = self.embedding_item(mid)\n",
        "        out = torch.mul(user_embedding, item_embedding)\n",
        "        return out\n",
        "    \n",
        "    def forward(self, uid, mid):\n",
        "        user_embedding = self.embedding_user(uid)\n",
        "        item_embedding = self.embedding_item(mid)\n",
        "        out = torch.mul(user_embedding, item_embedding)\n",
        "        rating = self.last(out)\n",
        "        return rating\n",
        "    \n",
        "    def set_emb(self):\n",
        "        self.v = self.embedding_item.weight.detach().cpu().numpy()\n",
        "        self.u = self.embedding_user.weight.detach().cpu().numpy()"
      ],
      "execution_count": null,
      "outputs": []
    },
    {
      "cell_type": "code",
      "metadata": {
        "id": "HcGfx83dUDnO"
      },
      "source": [
        "class NeuMF(NCFBase):\n",
        "    def __init__(self, gmf, mlp, ls, hd):\n",
        "        super().__init__(0, 0)\n",
        "        self.gmf = GMF(user_count, movie_count, 32).to(device)\n",
        "        self.mlp = MLP(user_count, movie_count, ls, hd)\n",
        "\n",
        "        self.gmf.load_state_dict(torch.load(gmf))\n",
        "        self.mlp.load_state_dict(torch.load(mlp))\n",
        "\n",
        "        self.last = nn.Sequential(nn.Linear(ls+hd, 1), \n",
        "                                  nn.Sigmoid())\n",
        "        \n",
        "        self.set_emb()\n",
        "    \n",
        "    \n",
        "    def forward(self, uid, mid):\n",
        "        mlp_out = self.mlp.part_forward(uid, mid)\n",
        "        gmf_out = self.gmf.part_forward(uid, mid)\n",
        "        vector = torch.cat([mlp_out, gmf_out], dim=-1)\n",
        "        out = self.last(vector)\n",
        "        return out\n",
        "    \n",
        "    def predict(self, test):\n",
        "        loader = torch.utils.data.DataLoader(test, batch_size=512)\n",
        "        y_pred = None\n",
        "        \n",
        "        for batch in loader:\n",
        "            users = batch[:, 0].to(device)\n",
        "            items = batch[:, 1].to(device)\n",
        "            out = self(users.long(), items.long())\n",
        "            if y_pred is None:\n",
        "                y_pred = out.squeeze().cpu().detach().numpy()\n",
        "            else:\n",
        "                y_pred = np.hstack((y_pred, out.squeeze().cpu().detach().numpy()))\n",
        "        return y_pred\n",
        "    \n",
        "    \n",
        "    def set_emb(self):\n",
        "        self.v = np.hstack((self.gmf.embedding_item.weight.detach().cpu().numpy(), \n",
        "                            self.mlp.embedding_item.weight.detach().cpu().numpy()))\n",
        "        self.u = np.hstack((self.gmf.embedding_user.weight.detach().cpu().numpy(), \n",
        "                            self.mlp.embedding_user.weight.detach().cpu().numpy()))"
      ],
      "execution_count": null,
      "outputs": []
    },
    {
      "cell_type": "code",
      "metadata": {
        "colab": {
          "base_uri": "https://localhost:8080/",
          "height": 916,
          "referenced_widgets": [
            "b5a1844fbd5947ffa15f6f995b63eb9a",
            "25d9950d289047d992011946cfe58079",
            "796a26aac0b54007a075086de06ec8b9",
            "33ab82517041433cab84098809489f3e",
            "a964604738864e7abf4e8c90450320be",
            "bbcdceea90ff4bb286b902fcf3c823ee",
            "7643dd7581eb433fb1500e0a4010e967",
            "c5cdffa82bc64cb5a483f2cf0375c23a"
          ]
        },
        "id": "voUnPYmtUyye",
        "outputId": "f8d16dbf-2160-48c2-b2de-1392eca26986"
      },
      "source": [
        "mlp = MLP(user_count, movie_count, 32, 32).to(device)\n",
        "mlp.fit(traindata, None, num_epochs=50, bs=512, lr=1e-2)\n",
        "torch.save(mlp.state_dict(), 'mlp.pcl')"
      ],
      "execution_count": null,
      "outputs": [
        {
          "output_type": "display_data",
          "data": {
            "application/vnd.jupyter.widget-view+json": {
              "model_id": "b5a1844fbd5947ffa15f6f995b63eb9a",
              "version_major": 2,
              "version_minor": 0
            },
            "text/plain": [
              "HBox(children=(FloatProgress(value=0.0, max=50.0), HTML(value='')))"
            ]
          },
          "metadata": {
            "tags": []
          }
        },
        {
          "output_type": "stream",
          "text": [
            "[0/50]:loss=2031.2471\n",
            "[1/50]:loss=1979.6251\n",
            "[2/50]:loss=1916.5971\n",
            "[3/50]:loss=1859.7805\n",
            "[4/50]:loss=1834.4064\n",
            "[5/50]:loss=1812.4085\n",
            "[6/50]:loss=1787.8782\n",
            "[7/50]:loss=1757.8768\n",
            "[8/50]:loss=1723.3966\n",
            "[9/50]:loss=1698.1964\n",
            "[10/50]:loss=1675.8695\n",
            "[11/50]:loss=1655.7937\n",
            "[12/50]:loss=1640.1495\n",
            "[13/50]:loss=1633.4913\n",
            "[14/50]:loss=1618.4547\n",
            "[15/50]:loss=1607.1899\n",
            "[16/50]:loss=1596.9737\n",
            "[17/50]:loss=1586.3233\n",
            "[18/50]:loss=1589.2720\n",
            "[19/50]:loss=1587.4194\n",
            "[20/50]:loss=1570.6417\n",
            "[21/50]:loss=1565.2540\n",
            "[22/50]:loss=1561.1546\n",
            "[23/50]:loss=1548.9564\n",
            "[24/50]:loss=1543.6197\n",
            "[25/50]:loss=1547.4085\n",
            "[26/50]:loss=1536.5562\n",
            "[27/50]:loss=1532.1210\n",
            "[28/50]:loss=1534.2732\n",
            "[29/50]:loss=1522.7113\n",
            "[30/50]:loss=1524.7834\n",
            "[31/50]:loss=1519.3715\n",
            "[32/50]:loss=1512.9406\n",
            "[33/50]:loss=1517.2314\n",
            "[34/50]:loss=1515.4944\n",
            "[35/50]:loss=1508.1586\n",
            "[36/50]:loss=1507.1967\n",
            "[37/50]:loss=1500.4756\n",
            "[38/50]:loss=1499.8569\n",
            "[39/50]:loss=1493.7774\n",
            "[40/50]:loss=1497.0947\n",
            "[41/50]:loss=1488.4523\n",
            "[42/50]:loss=1480.6989\n",
            "[43/50]:loss=1476.1991\n",
            "[44/50]:loss=1483.9829\n",
            "[45/50]:loss=1477.6036\n",
            "[46/50]:loss=1474.0216\n",
            "[47/50]:loss=1470.5093\n",
            "[48/50]:loss=1466.0124\n",
            "[49/50]:loss=1465.0558\n",
            "\n"
          ],
          "name": "stdout"
        }
      ]
    },
    {
      "cell_type": "code",
      "metadata": {
        "colab": {
          "base_uri": "https://localhost:8080/"
        },
        "id": "B87Tsn58U9EK",
        "outputId": "410cbdfb-8b7a-4a59-e993-46e478071160"
      },
      "source": [
        "test_model(mlp)"
      ],
      "execution_count": null,
      "outputs": [
        {
          "output_type": "stream",
          "text": [
            "-----SIMILARS-----\n",
            "Toy Story (1995)\n",
            "Aladdin (1992)\n",
            "Groundhog Day (1993)\n",
            "Toy Story 2 (1999)\n",
            "Babe (1995)\n",
            "Bug's Life, A (1998)\n",
            "Beauty and the Beast (1991)\n",
            "Pleasantville (1998)\n",
            "Lion King, The (1994)\n",
            "Wizard of Oz, The (1939)\n",
            "-----RECOMENDATIONS-----\n",
            "Fausto (1993)                                      Comedy\n",
            "Project Moon Base (1953)                           Sci-Fi\n",
            "Uninvited Guest, An (2000)                         Drama\n",
            "Tainted (1998)                                     Comedy|Thriller\n",
            "Naked Man, The (1998)                              Drama\n",
            "Tashunga (1995)                                    Adventure|Western\n",
            "Price of Glory (2000)                              Drama\n",
            "New Jersey Drive (1995)                            Crime|Drama\n",
            "Return with Honor (1998)                           Documentary\n",
            "Ogre, The (Der Unhold) (1996)                      Drama\n"
          ],
          "name": "stdout"
        }
      ]
    },
    {
      "cell_type": "markdown",
      "metadata": {
        "id": "_N6ZRsFV3cjp"
      },
      "source": [
        "Симилары хорошие, рекомендации нет (почему так будет потом)"
      ]
    },
    {
      "cell_type": "code",
      "metadata": {
        "colab": {
          "base_uri": "https://localhost:8080/",
          "height": 100,
          "referenced_widgets": [
            "49ccfbd8ec6b4fc790dc8979116f792c",
            "342658966d0a4ad1aef7e49ed904f70c",
            "9a4a5f98e2f64f0eb3542178dbab86bb",
            "26caacfcfdb14f93a314f94b2d0c4eca",
            "6ead9a3f5c414e999f7b15f41ad99dfa",
            "d7ca224202954536bfabc4f5b6b01cdd",
            "55d7a9d11476459d82e1c3dd277ff6d7",
            "89c7aa2934c34c278668687451b00cde"
          ]
        },
        "id": "f5bqNdn7YDBd",
        "outputId": "ae1d61d6-78c0-4d9f-9f3f-8a237837a467"
      },
      "source": [
        "get_hr_ndcg(mlp)"
      ],
      "execution_count": null,
      "outputs": [
        {
          "output_type": "display_data",
          "data": {
            "application/vnd.jupyter.widget-view+json": {
              "model_id": "49ccfbd8ec6b4fc790dc8979116f792c",
              "version_major": 2,
              "version_minor": 0
            },
            "text/plain": [
              "HBox(children=(FloatProgress(value=0.0, max=6040.0), HTML(value='')))"
            ]
          },
          "metadata": {
            "tags": []
          }
        },
        {
          "output_type": "stream",
          "text": [
            "\n",
            "nDCG@k=0.378524\n",
            "hr@k  =0.650828\n"
          ],
          "name": "stdout"
        }
      ]
    },
    {
      "cell_type": "markdown",
      "metadata": {
        "id": "vnQfQZ5t3ju1"
      },
      "source": [
        "метрики выше, чем у warp вышли"
      ]
    },
    {
      "cell_type": "code",
      "metadata": {
        "colab": {
          "base_uri": "https://localhost:8080/",
          "height": 916,
          "referenced_widgets": [
            "d4faabcffaf84567bd8705e033f39be0",
            "53315174260d4080a93f467ca7bee85f",
            "a7a609e041964647a0f28fc3e23f7766",
            "d12b4fbea39b4529968be17179633d11",
            "6e15ff30db694f87bfddf318af7586dc",
            "9f4e96a239db4211911b493812dff946",
            "878dc9ae82e042b09fed776420d6f13d",
            "afbe3f0a957b446f9a303ab9986b0fbb"
          ]
        },
        "id": "1lVsMGlNUy37",
        "outputId": "e3fccfbe-de69-48b5-abd7-465fbadae664"
      },
      "source": [
        "gmf = GMF(user_count, movie_count, 32).to(device)\n",
        "gmf.fit(traindata, None, num_epochs=50, bs=512, lr=1e-2)"
      ],
      "execution_count": null,
      "outputs": [
        {
          "output_type": "display_data",
          "data": {
            "application/vnd.jupyter.widget-view+json": {
              "model_id": "d4faabcffaf84567bd8705e033f39be0",
              "version_major": 2,
              "version_minor": 0
            },
            "text/plain": [
              "HBox(children=(FloatProgress(value=0.0, max=50.0), HTML(value='')))"
            ]
          },
          "metadata": {
            "tags": []
          }
        },
        {
          "output_type": "stream",
          "text": [
            "[0/50]:loss=2699.3218\n",
            "[1/50]:loss=2097.3683\n",
            "[2/50]:loss=1993.3396\n",
            "[3/50]:loss=1916.0854\n",
            "[4/50]:loss=1784.8657\n",
            "[5/50]:loss=1714.0966\n",
            "[6/50]:loss=1656.9484\n",
            "[7/50]:loss=1614.3511\n",
            "[8/50]:loss=1577.3499\n",
            "[9/50]:loss=1546.8125\n",
            "[10/50]:loss=1525.5604\n",
            "[11/50]:loss=1511.7216\n",
            "[12/50]:loss=1496.1344\n",
            "[13/50]:loss=1482.3676\n",
            "[14/50]:loss=1473.7327\n",
            "[15/50]:loss=1466.3357\n",
            "[16/50]:loss=1457.2535\n",
            "[17/50]:loss=1454.3055\n",
            "[18/50]:loss=1445.3621\n",
            "[19/50]:loss=1445.1067\n",
            "[20/50]:loss=1438.6987\n",
            "[21/50]:loss=1436.0245\n",
            "[22/50]:loss=1433.3581\n",
            "[23/50]:loss=1429.5126\n",
            "[24/50]:loss=1427.6231\n",
            "[25/50]:loss=1427.0428\n",
            "[26/50]:loss=1426.4441\n",
            "[27/50]:loss=1420.2050\n",
            "[28/50]:loss=1418.7742\n",
            "[29/50]:loss=1417.9611\n",
            "[30/50]:loss=1417.1271\n",
            "[31/50]:loss=1415.4214\n",
            "[32/50]:loss=1414.0894\n",
            "[33/50]:loss=1414.4089\n",
            "[34/50]:loss=1415.4257\n",
            "[35/50]:loss=1410.0749\n",
            "[36/50]:loss=1412.0815\n",
            "[37/50]:loss=1410.8522\n",
            "[38/50]:loss=1411.3642\n",
            "[39/50]:loss=1409.3220\n",
            "[40/50]:loss=1407.2053\n",
            "[41/50]:loss=1406.2625\n",
            "[42/50]:loss=1407.5091\n",
            "[43/50]:loss=1406.4469\n",
            "[44/50]:loss=1403.8480\n",
            "[45/50]:loss=1404.1284\n",
            "[46/50]:loss=1407.4803\n",
            "[47/50]:loss=1406.3014\n",
            "[48/50]:loss=1406.3158\n",
            "[49/50]:loss=1404.8081\n",
            "\n"
          ],
          "name": "stdout"
        }
      ]
    },
    {
      "cell_type": "code",
      "metadata": {
        "colab": {
          "base_uri": "https://localhost:8080/"
        },
        "id": "gNainuCxU9XV",
        "outputId": "7e0b504e-98d6-4b80-ed58-e891dbc4b8b9"
      },
      "source": [
        "test_model(gmf)"
      ],
      "execution_count": null,
      "outputs": [
        {
          "output_type": "stream",
          "text": [
            "-----SIMILARS-----\n",
            "Toy Story (1995)\n",
            "Toy Story 2 (1999)\n",
            "Groundhog Day (1993)\n",
            "Full Monty, The (1997)\n",
            "Babe (1995)\n",
            "Bug's Life, A (1998)\n",
            "Monty Python and the Holy Grail (1974)\n",
            "Pleasantville (1998)\n",
            "There's Something About Mary (1998)\n",
            "Clueless (1995)\n",
            "-----RECOMENDATIONS-----\n",
            "M�nage (Tenue de soir�e) (1986)                    Comedy|Drama\n",
            "Terror in a Texas Town (1958)                      Western\n",
            "Rhyme & Reason (1997)                              Documentary\n",
            "Bloody Child, The (1996)                           Drama|Thriller\n",
            "McCullochs, The (1975)                             Drama\n",
            "Wooden Man's Bride, The (Wu Kui) (1994)            Drama\n",
            "Resurrection Man (1998)                            Drama|Thriller\n",
            "Project Moon Base (1953)                           Sci-Fi\n",
            "Eden (1997)                                        Drama\n",
            "Song of Freedom (1936)                             Drama\n"
          ],
          "name": "stdout"
        }
      ]
    },
    {
      "cell_type": "code",
      "metadata": {
        "colab": {
          "base_uri": "https://localhost:8080/",
          "height": 100,
          "referenced_widgets": [
            "6ce869029a9148bd9cbfb49d3a714277",
            "a39db6e7ddfe4e60b6ee1993bfee7cf3",
            "38d561f295704453bd859e073093097f",
            "71154a7cd3de4e72913706eb120ddfbd",
            "218e3c3631684995a8a1aeb9d7ae95e9",
            "6d3abb311c0f48c0a312a6b8f7ec8fda",
            "3136e77c8c1646a8921ba9df2511d66e",
            "4cf81770105a4a4594eaa8fbeb96c575"
          ]
        },
        "id": "eqHLhekpbSWs",
        "outputId": "5cb31b3b-60c0-46d5-e7e5-ccc7f1ee3ae3"
      },
      "source": [
        "get_hr_ndcg(gmf)"
      ],
      "execution_count": null,
      "outputs": [
        {
          "output_type": "display_data",
          "data": {
            "application/vnd.jupyter.widget-view+json": {
              "model_id": "6ce869029a9148bd9cbfb49d3a714277",
              "version_major": 2,
              "version_minor": 0
            },
            "text/plain": [
              "HBox(children=(FloatProgress(value=0.0, max=6040.0), HTML(value='')))"
            ]
          },
          "metadata": {
            "tags": []
          }
        },
        {
          "output_type": "stream",
          "text": [
            "\n",
            "nDCG@k=0.365738\n",
            "hr@k  =0.656623\n"
          ],
          "name": "stdout"
        }
      ]
    },
    {
      "cell_type": "markdown",
      "metadata": {
        "id": "k2ICaM8L3nrg"
      },
      "source": [
        "все аналогично MLP"
      ]
    },
    {
      "cell_type": "code",
      "metadata": {
        "colab": {
          "base_uri": "https://localhost:8080/",
          "height": 916,
          "referenced_widgets": [
            "df05dbc244a04757be785119f578ae56",
            "674bb790c7284f1fb831cde80bce21f0",
            "6f3cb9ebba0a4c579a3c4b1905bbcd97",
            "399d3bd1ba234d3aa0213f15e4648ab9",
            "a1efb6a9eacd4e8db34999cfe0dadd7b",
            "de3f8640435d4d70addf83244ff97315",
            "d55750ad1533423dbbb5ed7ec65ce876",
            "5f2d6a8619a9453999cf05a0e73df137"
          ]
        },
        "id": "_BEtuc5OUy1J",
        "outputId": "57a5c51c-312d-46aa-e60c-89e38515dbc1"
      },
      "source": [
        "neumf = NeuMF('gmf.pcl', 'mlp.pcl', 32, 32).to(device)\n",
        "neumf.fit(traindata, None, num_epochs=50, bs=512, lr=5e-3)"
      ],
      "execution_count": null,
      "outputs": [
        {
          "output_type": "display_data",
          "data": {
            "application/vnd.jupyter.widget-view+json": {
              "model_id": "df05dbc244a04757be785119f578ae56",
              "version_major": 2,
              "version_minor": 0
            },
            "text/plain": [
              "HBox(children=(FloatProgress(value=0.0, max=50.0), HTML(value='')))"
            ]
          },
          "metadata": {
            "tags": []
          }
        },
        {
          "output_type": "stream",
          "text": [
            "[0/50]:loss=1312.1774\n",
            "[1/50]:loss=1291.7234\n",
            "[2/50]:loss=1282.7264\n",
            "[3/50]:loss=1275.0847\n",
            "[4/50]:loss=1270.6640\n",
            "[5/50]:loss=1264.8783\n",
            "[6/50]:loss=1258.4113\n",
            "[7/50]:loss=1256.6471\n",
            "[8/50]:loss=1251.5765\n",
            "[9/50]:loss=1250.0716\n",
            "[10/50]:loss=1244.3271\n",
            "[11/50]:loss=1249.5747\n",
            "[12/50]:loss=1248.0741\n",
            "[13/50]:loss=1245.1180\n",
            "[14/50]:loss=1244.0900\n",
            "[15/50]:loss=1244.5465\n",
            "[16/50]:loss=1240.6143\n",
            "[17/50]:loss=1239.4776\n",
            "[18/50]:loss=1238.4899\n",
            "[19/50]:loss=1238.2035\n",
            "[20/50]:loss=1237.5422\n",
            "[21/50]:loss=1234.7058\n",
            "[22/50]:loss=1234.4714\n",
            "[23/50]:loss=1234.8072\n",
            "[24/50]:loss=1234.8152\n",
            "[25/50]:loss=1231.4519\n",
            "[26/50]:loss=1228.1906\n",
            "[27/50]:loss=1229.0726\n",
            "[28/50]:loss=1224.6955\n",
            "[29/50]:loss=1226.7620\n",
            "[30/50]:loss=1222.6571\n",
            "[31/50]:loss=1224.1797\n",
            "[32/50]:loss=1223.6722\n",
            "[33/50]:loss=1219.0579\n",
            "[34/50]:loss=1222.4396\n",
            "[35/50]:loss=1222.5192\n",
            "[36/50]:loss=1218.8496\n",
            "[37/50]:loss=1221.0877\n",
            "[38/50]:loss=1219.9449\n",
            "[39/50]:loss=1220.7537\n",
            "[40/50]:loss=1220.2462\n",
            "[41/50]:loss=1217.4853\n",
            "[42/50]:loss=1220.9035\n",
            "[43/50]:loss=1217.8698\n",
            "[44/50]:loss=1220.2461\n",
            "[45/50]:loss=1215.3774\n",
            "[46/50]:loss=1218.9658\n",
            "[47/50]:loss=1219.1262\n",
            "[48/50]:loss=1219.1078\n",
            "[49/50]:loss=1215.0415\n",
            "\n"
          ],
          "name": "stdout"
        }
      ]
    },
    {
      "cell_type": "code",
      "metadata": {
        "colab": {
          "base_uri": "https://localhost:8080/"
        },
        "id": "nrwe3r3PUywD",
        "outputId": "703df24a-12a4-4e92-bf97-aca1a29a5676"
      },
      "source": [
        "test_model(neumf)"
      ],
      "execution_count": null,
      "outputs": [
        {
          "output_type": "stream",
          "text": [
            "-----SIMILARS-----\n",
            "Toy Story (1995)\n",
            "Toy Story 2 (1999)\n",
            "Groundhog Day (1993)\n",
            "Babe (1995)\n",
            "Clueless (1995)\n",
            "Wizard of Oz, The (1939)\n",
            "Beauty and the Beast (1991)\n",
            "Lion King, The (1994)\n",
            "Back to the Future (1985)\n",
            "Pleasantville (1998)\n",
            "-----RECOMENDATIONS-----\n",
            "Ring, The (1927)                                   Drama\n",
            "Bandits (1997)                                     Drama\n",
            "Eden (1997)                                        Drama\n",
            "Live Virgin (1999)                                 Comedy\n",
            "Tainted (1998)                                     Comedy|Thriller\n",
            "Boy Called Hate, A (1995)                          Drama\n",
            "Santa with Muscles (1996)                          Comedy\n",
            "Tough and Deadly (1995)                            Action|Drama|Thriller\n",
            "Project Moon Base (1953)                           Sci-Fi\n",
            "Snowriders (1996)                                  Documentary\n"
          ],
          "name": "stdout"
        }
      ]
    },
    {
      "cell_type": "markdown",
      "metadata": {
        "id": "BchoC9DB3xt3"
      },
      "source": [
        "Симилары и рекомендации аналогично предыдущим двум моделям"
      ]
    },
    {
      "cell_type": "code",
      "metadata": {
        "colab": {
          "base_uri": "https://localhost:8080/",
          "height": 100,
          "referenced_widgets": [
            "70205a296d844269a84941d1f240f0c6",
            "82875e7bad0e4c86aa3d01cfeeb6ae90",
            "7fabe3adfb524547985936f4e23116c0",
            "fdba1b98b75b482894c733e6c58f9dd0",
            "3c1a75d7a5334c8895ead5a85d93c337",
            "dd98ecb4b22041de92b18eb33089a89b",
            "300e4d1dcc6b4f92896ce80313102955",
            "1451158cfb5b4a589ee19728259f5a07"
          ]
        },
        "id": "eoHGeL0abWst",
        "outputId": "8e4feb77-68da-4663-bb20-cf8524eceb8e"
      },
      "source": [
        "get_hr_ndcg(neumf)"
      ],
      "execution_count": null,
      "outputs": [
        {
          "output_type": "display_data",
          "data": {
            "application/vnd.jupyter.widget-view+json": {
              "model_id": "70205a296d844269a84941d1f240f0c6",
              "version_major": 2,
              "version_minor": 0
            },
            "text/plain": [
              "HBox(children=(FloatProgress(value=0.0, max=6040.0), HTML(value='')))"
            ]
          },
          "metadata": {
            "tags": []
          }
        },
        {
          "output_type": "stream",
          "text": [
            "\n",
            "nDCG@k=0.378194\n",
            "hr@k  =0.663245\n"
          ],
          "name": "stdout"
        }
      ]
    },
    {
      "cell_type": "markdown",
      "metadata": {
        "id": "sVY4nCQy3vEK"
      },
      "source": [
        "Обе метрики при объединении выросли"
      ]
    },
    {
      "cell_type": "code",
      "metadata": {
        "id": "bSFv--8tztLU"
      },
      "source": [
        "torch.save(neumf.state_dict(), 'neumf.pcl')"
      ],
      "execution_count": null,
      "outputs": []
    },
    {
      "cell_type": "markdown",
      "metadata": {
        "id": "_iL-Oyy13-rp"
      },
      "source": [
        "Проблема с рекомендациями в том, что они считались через скалярное произведение, а в данных моделях предсказания делаются не так, поэтому само скалярное произведение ничего не говорит о рекомендациях. Правильно считать рекомендации прогоняя все пары через модели, что и показано ниже и дают уже хорошие фильмы"
      ]
    },
    {
      "cell_type": "code",
      "metadata": {
        "colab": {
          "base_uri": "https://localhost:8080/"
        },
        "id": "VH1qIeAqyXHm",
        "outputId": "4d488abd-5692-4f2b-b33a-5f842a014ee4"
      },
      "source": [
        "mlp = MLP(user_count, movie_count, 32, 32).to(device)\n",
        "mlp.load_state_dict((torch.load('mlp.pcl')))\n",
        "test_model(mlp, sim=False, rec=True)"
      ],
      "execution_count": 398,
      "outputs": [
        {
          "output_type": "stream",
          "text": [
            "-----RECOMENDATIONS-----\n",
            "Godfather, The (1972)                              Action|Crime|Drama\n",
            "Blade Runner (1982)                                Film-Noir|Sci-Fi\n",
            "Godfather: Part II, The (1974)                     Action|Crime|Drama\n",
            "Aliens (1986)                                      Action|Sci-Fi|Thriller|War\n",
            "Terminator, The (1984)                             Action|Sci-Fi|Thriller\n",
            "Close Encounters of the Third Kind (1977)          Drama|Sci-Fi\n",
            "2001: A Space Odyssey (1968)                       Drama|Mystery|Sci-Fi|Thriller\n",
            "Schindler's List (1993)                            Drama|War\n",
            "Terminator 2: Judgment Day (1991)                  Action|Sci-Fi|Thriller\n",
            "L.A. Confidential (1997)                           Crime|Film-Noir|Mystery|Thriller\n"
          ],
          "name": "stdout"
        }
      ]
    },
    {
      "cell_type": "code",
      "metadata": {
        "colab": {
          "base_uri": "https://localhost:8080/"
        },
        "id": "dDchqSxYyXF3",
        "outputId": "76846dad-b7a7-4039-c1e7-e029ca7fc962"
      },
      "source": [
        "gmf = GMF(user_count, movie_count, 32).to(device)\n",
        "gmf.load_state_dict((torch.load('gmf.pcl')))\n",
        "test_model(mlp, sim=False, rec=True)"
      ],
      "execution_count": 399,
      "outputs": [
        {
          "output_type": "stream",
          "text": [
            "-----RECOMENDATIONS-----\n",
            "Godfather, The (1972)                              Action|Crime|Drama\n",
            "Blade Runner (1982)                                Film-Noir|Sci-Fi\n",
            "Godfather: Part II, The (1974)                     Action|Crime|Drama\n",
            "Aliens (1986)                                      Action|Sci-Fi|Thriller|War\n",
            "Terminator, The (1984)                             Action|Sci-Fi|Thriller\n",
            "Close Encounters of the Third Kind (1977)          Drama|Sci-Fi\n",
            "2001: A Space Odyssey (1968)                       Drama|Mystery|Sci-Fi|Thriller\n",
            "Schindler's List (1993)                            Drama|War\n",
            "Terminator 2: Judgment Day (1991)                  Action|Sci-Fi|Thriller\n",
            "L.A. Confidential (1997)                           Crime|Film-Noir|Mystery|Thriller\n"
          ],
          "name": "stdout"
        }
      ]
    },
    {
      "cell_type": "code",
      "metadata": {
        "colab": {
          "base_uri": "https://localhost:8080/"
        },
        "id": "HfvYr_1LyXDC",
        "outputId": "ad11b456-6232-4070-9ee8-10d6d250af9c"
      },
      "source": [
        "neumf = NeuMF('gmf.pcl', 'mlp.pcl', 32, 32).to(device)\n",
        "neumf.load_state_dict((torch.load('neumf.pcl')))\n",
        "test_model(mlp, sim=False, rec=True)"
      ],
      "execution_count": 400,
      "outputs": [
        {
          "output_type": "stream",
          "text": [
            "-----RECOMENDATIONS-----\n",
            "Godfather, The (1972)                              Action|Crime|Drama\n",
            "Blade Runner (1982)                                Film-Noir|Sci-Fi\n",
            "Godfather: Part II, The (1974)                     Action|Crime|Drama\n",
            "Aliens (1986)                                      Action|Sci-Fi|Thriller|War\n",
            "Terminator, The (1984)                             Action|Sci-Fi|Thriller\n",
            "Close Encounters of the Third Kind (1977)          Drama|Sci-Fi\n",
            "2001: A Space Odyssey (1968)                       Drama|Mystery|Sci-Fi|Thriller\n",
            "Schindler's List (1993)                            Drama|War\n",
            "Terminator 2: Judgment Day (1991)                  Action|Sci-Fi|Thriller\n",
            "L.A. Confidential (1997)                           Crime|Film-Noir|Mystery|Thriller\n"
          ],
          "name": "stdout"
        }
      ]
    },
    {
      "cell_type": "markdown",
      "metadata": {
        "id": "MCOpmZQqGfJj"
      },
      "source": [
        "# Attention"
      ]
    },
    {
      "cell_type": "markdown",
      "metadata": {
        "id": "F7vpjN3r4fPT"
      },
      "source": [
        "В целом, подход к attention будет аналогичен [этой работе](https://arxiv.org/abs/1809.07053), хотя они его напрямую не используют. Будем пытаться предсказывать оценку фильма на основе какой-то прошлой истории пользователя и использовать attention для поиска 'похожести' между фильмами из истории и кандидатом. \n",
        "\n",
        "*   Теперь есть только один набор эмбедингов для фильмов. Эмбединг для пользователя считается суммой эмбедингов в его истории\n",
        "*   Датасет теперь пара из фильмов из истории и фильма следующего за ними\n",
        "\n",
        "*   Число фильмов в истории всегда фиксируются, для работы с бачами\n",
        "\n",
        "*   Так как получить из исходного датасета все последовательности фильмов какой-то длины долго, ограничемся только половиной их\n",
        " \n",
        "*   Во время обучения для каждой из историй случайно сэмплируем еще по одному фильму, который будем считать неправильным продолжением (те таргет у него 1)\n",
        "\n",
        "*   Сама модель получает id фильмов из истории и id кандидата, берет их эмбединги и отдает из MultiheadAttention. Как query берется эмбединг кандидата, а как key, value матрица эмбедингов истории (если брать только self-attention, то зависимость от таргета пропадет и для боевика и комедии внимание будет одинаковым, что кажется плохо). Далее находится эмбединг истории с учетом внимания. После этого можно поступить несколькоми способами: взять их сигмоид произведения эмбедингов и выдать как скор (аналог WARP); взять поточечное произведение и отдать в сетку (аналог GMF); сконкатенировать эмбединги и отдать в сетку (аналог MLP). Лучший результат дал последний подход, поэтому его и используем.\n",
        "\n",
        "\n",
        "\n"
      ]
    },
    {
      "cell_type": "code",
      "metadata": {
        "id": "b35tgG0Lje40"
      },
      "source": [
        "class AttentionData:\n",
        "    def __init__(self, pos_dict, neg_dict, l=10):\n",
        "        self.data = np.empty((0, l))\n",
        "        self.pos = []\n",
        "        for u in tqdm(range(user_count)):\n",
        "            pos = pos_dict[u]\n",
        "            for i in range(len(pos) // 2, len(pos) - l - 1):\n",
        "                self.data = np.vstack((self.data, pos[i:i+l]))\n",
        "                self.pos.append(pos[i+l])\n",
        "        self.pos = np.array(self.pos).reshape(-1, 1)\n",
        "\n",
        "\n",
        "\n",
        "    def set_neg(self, mode=\"lazy\"):\n",
        "        if mode == \"correct\":\n",
        "            raise NotImplementedError()\n",
        "        elif mode == \"lazy\":\n",
        "            self.neg = np.random.choice(np.arange(movie_count), len(self.pos))\n",
        "            # self.new = np.hstack((self.pos, self.neg))\n",
        "    def __len__(self):\n",
        "        return len(self.data)\n",
        "    \n",
        "    def __getitem__(self, i):\n",
        "        return (self.data[i], self.pos[i], self.neg[i])"
      ],
      "execution_count": null,
      "outputs": []
    },
    {
      "cell_type": "code",
      "metadata": {
        "id": "qnFGt6sB4390",
        "colab": {
          "base_uri": "https://localhost:8080/",
          "height": 66,
          "referenced_widgets": [
            "c7db87e60aab42528ef8a5c2ca7a4247",
            "063acadfc3b64371911e5f8e8b8c79f5",
            "764ae31a299546108ed190b1a2bbbcfc",
            "7a5ecf0b4910460cbff771b75ec58058",
            "ed05f8510e544ee3bc8fa2115616f229",
            "6f2135932f734fc08b4315b974307510",
            "03698c5a976046e7a7fd5d72c5e3990b",
            "b1a5f98ee2614bdabc56467e283fe03d"
          ]
        },
        "outputId": "675bc701-f170-4c2f-ab06-2081de82ee04"
      },
      "source": [
        "attData = AttentionData(pos_dict, neg_dict, l=19)"
      ],
      "execution_count": null,
      "outputs": [
        {
          "output_type": "display_data",
          "data": {
            "application/vnd.jupyter.widget-view+json": {
              "model_id": "c7db87e60aab42528ef8a5c2ca7a4247",
              "version_minor": 0,
              "version_major": 2
            },
            "text/plain": [
              "HBox(children=(FloatProgress(value=0.0, max=6040.0), HTML(value='')))"
            ]
          },
          "metadata": {
            "tags": []
          }
        },
        {
          "output_type": "stream",
          "text": [
            "\n"
          ],
          "name": "stdout"
        }
      ]
    },
    {
      "cell_type": "code",
      "metadata": {
        "id": "Gf3j0BJ8cT9r"
      },
      "source": [
        "class TestAttention:\n",
        "    def __init__(self, uid, old, new, l=10):\n",
        "        self.uid = uid\n",
        "        self.old = old\n",
        "        self.new = new\n",
        "        self.l = l\n",
        "    \n",
        "    def __len__(self):\n",
        "        return len(self.new)\n",
        "    \n",
        "    def __getitem__(self, i):\n",
        "        return self.old[-self.l:], self.new[i]"
      ],
      "execution_count": null,
      "outputs": []
    },
    {
      "cell_type": "markdown",
      "metadata": {
        "id": "3lxMro6F4kfp"
      },
      "source": [
        "смена функции для подсчета метрик"
      ]
    },
    {
      "cell_type": "code",
      "metadata": {
        "id": "AsYrvEuMax3E"
      },
      "source": [
        "def get_attention_hr_ndcg(model, l=19, k=10, prnt=True):\n",
        "    y_true = np.zeros(100, dtype=int)\n",
        "    y_true[0] = 1 \n",
        "    ndcg = []\n",
        "    hr = []  \n",
        "    for u in tqdm(range(user_count)):\n",
        "        test = TestAttention(u, pos_dict[u], np.hstack((test_data[u, 1], np.random.choice(neg_dict[u], 99, replace=False))), l=l)\n",
        "        y_pred = model.predict(test, False, train_data_coo)\n",
        "        ndcg.append(ndcg_score([y_true], \n",
        "                               [y_pred], \n",
        "                               k=k))\n",
        "        hr.append((np.argsort(y_pred)[-k:] == 0).sum())\n",
        "    if prnt:\n",
        "        print(f\"nDCG@{k}={np.mean(ndcg):4f}\")\n",
        "        print(f\"HR@{k}  ={np.mean(hr):4f}\")\n",
        "    else:\n",
        "        return np.mean(ndcg), np.mean(hr)"
      ],
      "execution_count": null,
      "outputs": []
    },
    {
      "cell_type": "code",
      "metadata": {
        "id": "YaYnY2hIGfJj"
      },
      "source": [
        "class Attention(nn.Module):\n",
        "    def __init__(self, movie_count, ls, heads=5, hd=32):\n",
        "        super().__init__()\n",
        "\n",
        "        self.m = movie_count\n",
        "        self.ls = ls\n",
        "        self.heads = heads\n",
        "\n",
        "        self.embedding_item = nn.Embedding(num_embeddings=self.m, embedding_dim=ls)\n",
        "        self.model = nn.MultiheadAttention(ls * heads, heads, kdim=ls, vdim=ls)\n",
        "        self.last = nn.Sequential(nn.Linear(2 * ls, 2 * hd), \n",
        "                                   nn.ReLU(),  \n",
        "                                   nn.Linear(2 * hd, hd),\n",
        "                                   nn.ReLU(), \n",
        "                                   nn.Linear(hd, 1), \n",
        "                                   nn.Sigmoid())\n",
        "                \n",
        "        self.set_emb()\n",
        "        \n",
        "    \n",
        "    \n",
        "    def forward(self, old_mid, new_mid):\n",
        "        old_embedding = self.embedding_item(old_mid).permute(1, 0, 2)\n",
        "        new_embedding = self.embedding_item(new_mid).unsqueeze(0)\n",
        "        if len(new_embedding.shape) == 2:\n",
        "            new_embedding = new_embedding.unsqueeze(0) \n",
        "        _, out = self.model(new_embedding.repeat(1, 1, self.heads), \n",
        "                            old_embedding, \n",
        "                            old_embedding)\n",
        "\n",
        "        att_embedding = (out * old_embedding.permute(1, 2, 0)).sum(dim=2)\n",
        "        new_embedding = new_embedding.squeeze()\n",
        "        vector = torch.cat([new_embedding, att_embedding], dim=-1)\n",
        "        out = self.last(vector)\n",
        "        return out.squeeze()\n",
        "\n",
        "    def set_emb(self):\n",
        "        self.v = self.embedding_item.weight.detach().cpu().numpy()\n",
        "\n",
        "    def predict(self, test, simple=False, user_items=None):\n",
        "    \n",
        "        loader = torch.utils.data.DataLoader(test, batch_size=128)\n",
        "        y_pred = None\n",
        "        \n",
        "        for (old_batch, new_batch) in loader:\n",
        "            old_batch = old_batch.to(device)\n",
        "            new_batch = new_batch.to(device)\n",
        "            out = self(old_batch.long(), new_batch.long())\n",
        "            if y_pred is None:\n",
        "                y_pred = out.squeeze().cpu().detach().numpy()\n",
        "            else:\n",
        "                y_pred = np.hstack((y_pred, out.squeeze().cpu().detach().numpy()))\n",
        "        return y_pred\n",
        "                \n",
        "\n",
        "    def fit(self,\n",
        "            train_data, \n",
        "            num_epochs=100,\n",
        "            lr=1e-3,\n",
        "            bs=128, \n",
        "            mode='lazy'):    \n",
        "        opt = optim.Adam(self.parameters(), lr=lr)\n",
        "        loss_func = nn.BCELoss()\n",
        "        for epoch in tqdm(range(num_epochs)):\n",
        "            running_loss = 0\n",
        "            train_data.set_neg(mode)\n",
        "            trainloader = torch.utils.data.DataLoader(train_data, \n",
        "                                                      batch_size=bs, \n",
        "                                                      shuffle=True)\n",
        "\n",
        "            for (old_batch, pos_item, neg_item) in trainloader:\n",
        "                old_batch = old_batch.to(device).long()\n",
        "\n",
        "                pos_item = pos_item.to(device).long().squeeze()\n",
        "                neg_item = neg_item.to(device).long().squeeze()\n",
        "                target = torch.ones(old_batch.shape[0]).to(device)\n",
        "\n",
        "                pos_out = self(old_batch, pos_item)\n",
        "                neg_out = self(old_batch, neg_item)\n",
        "\n",
        "\n",
        "                pos_loss = loss_func(pos_out, target.float())\n",
        "                neg_loss = loss_func(neg_out, (1-target).float())\n",
        "                \n",
        "                loss = neg_loss + pos_loss\n",
        "                opt.zero_grad()\n",
        "                loss.backward()\n",
        "                opt.step()\n",
        "                running_loss += loss.item()\n",
        "            print(f\"[{epoch}/{num_epochs}]:loss={running_loss:.4f}\")\n",
        "        \n",
        "        self.set_emb()\n",
        "\n",
        "    def similar_items(self, item_id, N=10):\n",
        "        scores = self.v @ self.v[item_id] / np.linalg.norm(self.v, axis=-1)\n",
        "        ind = np.argsort(scores)[::-1][:N]\n",
        "        return ind\n",
        "\n",
        "    def similar_items2(self, item_id, N=10):\n",
        "        item_embedding = self.embedding_item(torch.LongTensor([item_id]).to(device))\n",
        "        data = torch.utils.data.DataLoader(np.arange(self.m), \n",
        "                                           batch_size=100)\n",
        "        \n",
        "        scores = None\n",
        "        for batch in data:\n",
        "            test_emb = self.embedding_item(batch.to(device).long())\n",
        "            # print(test_emb.shape)\n",
        "            # print(item_embedding.shape)\n",
        "            rep_emb = item_embedding.repeat(len(batch), 1)\n",
        "            vector = torch.cat([rep_emb, test_emb], dim=-1)\n",
        "            out = self.last(vector).squeeze()\n",
        "            if scores is None:\n",
        "                scores = out.cpu().detach().numpy()\n",
        "            else:\n",
        "                scores = np.hstack((scores, out.cpu().detach().numpy()))\n",
        "        print(scores.shape)\n",
        "        ind = np.argsort(scores)[::-1][:N]\n",
        "        return ind\n",
        "\n",
        "    def recommend(self, user_id, user_items, N=10):\n",
        "        seen = np.array([True if i in user_items[user_id].nonzero()[1] else True for i in np.arange(len(self.v))])\n",
        "        unseen = np.array([False if i in user_items[user_id].nonzero()[1] else True for i in np.arange(len(self.v))])\n",
        "        scores = self.v[unseen] @ (self.v[seen].sum(axis=0))\n",
        "        ind = np.argsort(scores)[::-1]\n",
        "        real_ind = np.arange(len(self.v))[unseen][ind]\n",
        "        return real_ind[:N]"
      ],
      "execution_count": null,
      "outputs": []
    },
    {
      "cell_type": "code",
      "metadata": {
        "colab": {
          "base_uri": "https://localhost:8080/",
          "height": 644,
          "referenced_widgets": [
            "ac4124a6b2024e95b01f5bb38044a967",
            "a94aa959905b4dccaf07dbae2bb871af",
            "b50d4fb26aba466cbb8bbc66b7afc01f",
            "1ad7e8074ee644c788446bde9f42c972",
            "d1987aca772848e2834c8504229a89c0",
            "f5b8b1ff665347d4bac16a7f445078a4",
            "6f85daf320d740be94a4e77bf8e4e3ce",
            "8fcc389a251d4aef8cbabea00f44db44"
          ]
        },
        "id": "1mxl9jahl7_P",
        "outputId": "4775409e-be54-49eb-aceb-988d46a44721"
      },
      "source": [
        "model = Attention(movie_count, 32, 10, 32).to(device)\n",
        "model.fit(attData, num_epochs=20, bs=1024, lr=5e-3)\n",
        "model.eval()"
      ],
      "execution_count": null,
      "outputs": [
        {
          "output_type": "display_data",
          "data": {
            "application/vnd.jupyter.widget-view+json": {
              "model_id": "ac4124a6b2024e95b01f5bb38044a967",
              "version_minor": 0,
              "version_major": 2
            },
            "text/plain": [
              "HBox(children=(FloatProgress(value=0.0, max=20.0), HTML(value='')))"
            ]
          },
          "metadata": {
            "tags": []
          }
        },
        {
          "output_type": "stream",
          "text": [
            "[0/20]:loss=318.4575\n",
            "[1/20]:loss=213.0389\n",
            "[2/20]:loss=158.8854\n",
            "[3/20]:loss=128.6983\n",
            "[4/20]:loss=111.4927\n",
            "[5/20]:loss=99.2976\n",
            "[6/20]:loss=90.7407\n",
            "[7/20]:loss=85.4807\n",
            "[8/20]:loss=80.9144\n",
            "[9/20]:loss=77.6957\n",
            "[10/20]:loss=74.9587\n",
            "[11/20]:loss=72.9357\n",
            "[12/20]:loss=70.9073\n",
            "[13/20]:loss=68.9574\n",
            "[14/20]:loss=68.0276\n",
            "[15/20]:loss=66.3530\n",
            "[16/20]:loss=64.8377\n",
            "[17/20]:loss=64.2510\n",
            "[18/20]:loss=63.4513\n",
            "[19/20]:loss=62.9676\n",
            "\n"
          ],
          "name": "stdout"
        },
        {
          "output_type": "execute_result",
          "data": {
            "text/plain": [
              "Attention(\n",
              "  (embedding_item): Embedding(3706, 32)\n",
              "  (model): MultiheadAttention(\n",
              "    (out_proj): _LinearWithBias(in_features=320, out_features=320, bias=True)\n",
              "  )\n",
              "  (last): Sequential(\n",
              "    (0): Linear(in_features=64, out_features=64, bias=True)\n",
              "    (1): ReLU()\n",
              "    (2): Linear(in_features=64, out_features=32, bias=True)\n",
              "    (3): ReLU()\n",
              "    (4): Linear(in_features=32, out_features=1, bias=True)\n",
              "    (5): Sigmoid()\n",
              "  )\n",
              ")"
            ]
          },
          "metadata": {
            "tags": []
          },
          "execution_count": 325
        }
      ]
    },
    {
      "cell_type": "code",
      "metadata": {
        "colab": {
          "base_uri": "https://localhost:8080/"
        },
        "id": "-DFjHu0iaViS",
        "outputId": "ed5b8cca-4de9-44a5-b574-2a242a0de3d7"
      },
      "source": [
        "test_model(model)"
      ],
      "execution_count": null,
      "outputs": [
        {
          "output_type": "stream",
          "text": [
            "-----SIMILARS-----\n",
            "Toy Story (1995)\n",
            "Scream (1996)\n",
            "Death Wish II (1982)\n",
            "Beauty and the Beast (1991)\n",
            "Hi-Lo Country, The (1998)\n",
            "Two Much (1996)\n",
            "Monument Ave. (1998)\n",
            "Still Crazy (1998)\n",
            "Death in Brunswick (1991)\n",
            "Project Moon Base (1953)\n",
            "-----RECOMENDATIONS-----\n",
            "Last Klezmer: Leopold Kozlowski, His Life and ...  Documentary\n",
            "Hot Lead and Cold Feet (1978)                      Comedy|Western\n",
            "Scorta, La (1993)                                  Thriller\n",
            "Tashunga (1995)                                    Adventure|Western\n",
            "Lost Horizon (1937)                                Drama\n",
            "Princess Caraboo (1994)                            Drama\n",
            "Six Ways to Sunday (1997)                          Comedy\n",
            "Repossessed (1990)                                 Comedy\n",
            "Ghost (1990)                                       Comedy|Romance|Thriller\n",
            "Angel on My Shoulder (1946)                        Crime|Drama\n"
          ],
          "name": "stdout"
        }
      ]
    },
    {
      "cell_type": "markdown",
      "metadata": {
        "id": "1953I-uK8Cqx"
      },
      "source": [
        "Рекомендации и симилары ужасные"
      ]
    },
    {
      "cell_type": "code",
      "metadata": {
        "colab": {
          "base_uri": "https://localhost:8080/",
          "height": 100,
          "referenced_widgets": [
            "1485947e825144c6baeaa7715e39c5f6",
            "eed1acfda9c940a19e92e0ff394d4477",
            "10da62a937f04f7bb648638af3c6849e",
            "d8cd02b61f834bcd9c1ff4f015679f36",
            "7c33cc38732b4846865075c7c7b92d7d",
            "ecd65d838e474b0a960c132d16e41a0b",
            "841afad3317f42608f38da6b114ca35f",
            "1632e3d2e8734be3a5fad646b224a63e"
          ]
        },
        "id": "b4KgoltQEbKm",
        "outputId": "3c000389-c6ae-43e6-b6e4-11359624e91a"
      },
      "source": [
        "get_attention_hr_ndcg(model)"
      ],
      "execution_count": null,
      "outputs": [
        {
          "output_type": "display_data",
          "data": {
            "application/vnd.jupyter.widget-view+json": {
              "model_id": "1485947e825144c6baeaa7715e39c5f6",
              "version_minor": 0,
              "version_major": 2
            },
            "text/plain": [
              "HBox(children=(FloatProgress(value=0.0, max=6040.0), HTML(value='')))"
            ]
          },
          "metadata": {
            "tags": []
          }
        },
        {
          "output_type": "stream",
          "text": [
            "\n",
            "nDCG@10=0.629193\n",
            "HR@10  =0.888742\n"
          ],
          "name": "stdout"
        }
      ]
    },
    {
      "cell_type": "markdown",
      "metadata": {
        "id": "r9E7zUkT8GQ-"
      },
      "source": [
        "Но метрики получились очень хорошими и сильно выше, чем у предыдущих моделей (даже больше, чем цифры в статьях про них)"
      ]
    },
    {
      "cell_type": "markdown",
      "metadata": {
        "id": "tEYv98hv8Tui"
      },
      "source": [
        "Почему симилары вышли плохими идей нет, но с рекомендациями проблема как и раньше была в том, что рекомендуются не по скалярному произведению, поэтому поменяем подсчет рекомендаций."
      ]
    },
    {
      "cell_type": "code",
      "metadata": {
        "id": "FDOH-brGhZEK"
      },
      "source": [
        "def attention_recommend(user_id, model, mat, l=19, N=10):\n",
        "    uid = userid2uid[user_id]\n",
        "    unseen = np.arange(len(model.v))[np.array([False if i in mat[uid].nonzero()[1] else True for i in np.arange(len(model.v))])]\n",
        "    data = TestAttention(uid, pos_dict[uid], unseen, l=l)\n",
        "    scores = model.predict(data)\n",
        "    ind = np.argsort(scores)[::-1]\n",
        "    real_ind = np.arange(len(model.v))[unseen][ind]\n",
        "    real_ind = real_ind[:N]\n",
        "    names = [movie_info[movie_info[\"movie_id\"] == mid2movieid[i]]['name'].to_string() for i in real_ind]\n",
        "    cats = [movie_info[movie_info[\"movie_id\"] == mid2movieid[i]]['category'].to_string() for i in real_ind]\n",
        "    for r1, r2 in zip(names, cats):\n",
        "        print(f\"{r1.split(maxsplit=1)[1]:50} {r2.split()[1]}\")"
      ],
      "execution_count": null,
      "outputs": []
    },
    {
      "cell_type": "code",
      "metadata": {
        "colab": {
          "base_uri": "https://localhost:8080/"
        },
        "id": "sprUGYd-hETM",
        "outputId": "306cc7d6-a8d5-4cfc-f3d5-1ec2b5756a67"
      },
      "source": [
        "attention_recommend(4, model, train_data_coo)"
      ],
      "execution_count": null,
      "outputs": [
        {
          "output_type": "stream",
          "text": [
            "Glory (1989)                                       Action|Drama|War\n",
            "Terminator, The (1984)                             Action|Sci-Fi|Thriller\n",
            "Voyage to the Bottom of the Sea (1961)             Adventure|Sci-Fi\n",
            "Flight of the Navigator (1986)                     Adventure|Children's|Sci-Fi\n",
            "Fantastic Voyage (1966)                            Adventure|Sci-Fi\n",
            "Abbott and Costello Meet Frankenstein (1948)       Comedy|Horror\n",
            "Oliver & Company (1988)                            Animation|Children's\n",
            "Bank Dick, The (1940)                              Comedy\n",
            "Robocop (1987)                                     Action|Crime|Sci-Fi\n",
            "Emerald Forest, The (1985)                         Action|Adventure|Drama\n"
          ],
          "name": "stdout"
        }
      ]
    },
    {
      "cell_type": "markdown",
      "metadata": {
        "id": "NWVjGwHh8lqy"
      },
      "source": [
        "Теперь с рекомендации как надо"
      ]
    }
  ]
}